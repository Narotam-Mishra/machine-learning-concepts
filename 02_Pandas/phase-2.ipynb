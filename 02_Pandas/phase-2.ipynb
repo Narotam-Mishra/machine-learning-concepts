{
 "cells": [
  {
   "cell_type": "markdown",
   "id": "342386dc",
   "metadata": {},
   "source": [
    "### Key Data Structures in Pandas\n",
    "- Series (1D)\n",
    "- Dataframe (2D)"
   ]
  },
  {
   "cell_type": "code",
   "execution_count": 2,
   "id": "434a2c15",
   "metadata": {},
   "outputs": [],
   "source": [
    "import pandas as pd"
   ]
  },
  {
   "cell_type": "code",
   "execution_count": null,
   "id": "fa839fae",
   "metadata": {},
   "outputs": [],
   "source": [
    "s = pd.Series([1,2,3,4,5], index=['a','b','c','d', 'e'])\n",
    "s"
   ]
  },
  {
   "cell_type": "code",
   "execution_count": null,
   "id": "e8e2fb5d",
   "metadata": {},
   "outputs": [],
   "source": [
    "df = pd.DataFrame({\n",
    "    \"names\": [\"Peter\", \"King\", \"Bell\"],\n",
    "    \"marks\": [93, 95, 97],\n",
    "})"
   ]
  },
  {
   "cell_type": "code",
   "execution_count": null,
   "id": "78077101",
   "metadata": {},
   "outputs": [],
   "source": [
    "df = pd.read_csv(\"./demo_file.csv\")\n",
    "df"
   ]
  },
  {
   "cell_type": "code",
   "execution_count": null,
   "id": "74eeee2b",
   "metadata": {},
   "outputs": [],
   "source": [
    "df.head()\n",
    "df.tail()\n",
    "df.describe()\n",
    "df.info()"
   ]
  },
  {
   "cell_type": "markdown",
   "id": "2d07dc67",
   "metadata": {},
   "source": [
    "### Data Selection"
   ]
  },
  {
   "cell_type": "code",
   "execution_count": null,
   "id": "ebf42e50",
   "metadata": {},
   "outputs": [],
   "source": [
    "df[\"Id\"]\n",
    "\n",
    "type(df[\"Id\"])\n",
    "\n",
    "df[[\"Id\", \"SepalLength\"]]\n",
    "\n",
    "df.iloc[0]\n",
    "type(df.iloc[0])"
   ]
  },
  {
   "cell_type": "code",
   "execution_count": null,
   "id": "f143c9ca",
   "metadata": {},
   "outputs": [],
   "source": [
    "df2 = pd.read_csv('./demo_data.csv')\n",
    "\n",
    "df2.dropna()\n",
    "\n",
    "df2.fillna(0)\n",
    "\n",
    "df2.describe()\n",
    "df2.info()\n",
    "\n",
    "df2[\"zeros\"] = [0 for i in range(len(df2))]"
   ]
  },
  {
   "cell_type": "code",
   "execution_count": 11,
   "id": "147256e4",
   "metadata": {},
   "outputs": [
    {
     "data": {
      "application/vnd.microsoft.datawrangler.viewer.v0+json": {
       "columns": [
        {
         "name": "index",
         "rawType": "int64",
         "type": "integer"
        },
        {
         "name": "name",
         "rawType": "object",
         "type": "string"
        },
        {
         "name": "marks_x",
         "rawType": "int64",
         "type": "integer"
        },
        {
         "name": "marks_y",
         "rawType": "int64",
         "type": "integer"
        }
       ],
       "ref": "26fe4206-301d-4dc3-8bb6-90f4500ab6e7",
       "rows": [
        [
         "0",
         "Mike",
         "100",
         "80"
        ],
        [
         "1",
         "Peter",
         "96",
         "74"
        ]
       ],
       "shape": {
        "columns": 3,
        "rows": 2
       }
      },
      "text/html": [
       "<div>\n",
       "<style scoped>\n",
       "    .dataframe tbody tr th:only-of-type {\n",
       "        vertical-align: middle;\n",
       "    }\n",
       "\n",
       "    .dataframe tbody tr th {\n",
       "        vertical-align: top;\n",
       "    }\n",
       "\n",
       "    .dataframe thead th {\n",
       "        text-align: right;\n",
       "    }\n",
       "</style>\n",
       "<table border=\"1\" class=\"dataframe\">\n",
       "  <thead>\n",
       "    <tr style=\"text-align: right;\">\n",
       "      <th></th>\n",
       "      <th>name</th>\n",
       "      <th>marks_x</th>\n",
       "      <th>marks_y</th>\n",
       "    </tr>\n",
       "  </thead>\n",
       "  <tbody>\n",
       "    <tr>\n",
       "      <th>0</th>\n",
       "      <td>Mike</td>\n",
       "      <td>100</td>\n",
       "      <td>80</td>\n",
       "    </tr>\n",
       "    <tr>\n",
       "      <th>1</th>\n",
       "      <td>Peter</td>\n",
       "      <td>96</td>\n",
       "      <td>74</td>\n",
       "    </tr>\n",
       "  </tbody>\n",
       "</table>\n",
       "</div>"
      ],
      "text/plain": [
       "    name  marks_x  marks_y\n",
       "0   Mike      100       80\n",
       "1  Peter       96       74"
      ]
     },
     "execution_count": 11,
     "metadata": {},
     "output_type": "execute_result"
    }
   ],
   "source": [
    "df1 = pd.DataFrame({\n",
    "    \"name\": [\"Mike\", \"Peter\", \"Sid\"],\n",
    "    \"marks\": [100, 96, 88]\n",
    "})\n",
    "\n",
    "df2 = pd.DataFrame({\n",
    "    \"name\": [\"Mike\",\"Aadi\", \"Beard\", \"Peter\",\"Catty\"],\n",
    "    \"marks\": [80, 76, 78, 74, 87]\n",
    "})\n",
    "\n",
    "pd.concat([df1,df2])\n",
    "\n",
    "pd.merge(df1,df2, on=\"name\")\n"
   ]
  }
 ],
 "metadata": {
  "kernelspec": {
   "display_name": "venv",
   "language": "python",
   "name": "python3"
  },
  "language_info": {
   "codemirror_mode": {
    "name": "ipython",
    "version": 3
   },
   "file_extension": ".py",
   "mimetype": "text/x-python",
   "name": "python",
   "nbconvert_exporter": "python",
   "pygments_lexer": "ipython3",
   "version": "3.12.1"
  }
 },
 "nbformat": 4,
 "nbformat_minor": 5
}
