{
 "cells": [
  {
   "cell_type": "markdown",
   "id": "18b087b8-a471-435b-982a-438f34d86af7",
   "metadata": {},
   "source": [
    "## Linear Regression, Ridge and Laso"
   ]
  },
  {
   "cell_type": "code",
   "execution_count": null,
   "id": "d6e3a4a5-bbe1-4228-898f-214f06c572fb",
   "metadata": {},
   "outputs": [],
   "source": [
    "# House Pricing Dataset"
   ]
  }
 ],
 "metadata": {
  "kernelspec": {
   "display_name": "Python [conda env:base] *",
   "language": "python",
   "name": "conda-base-py"
  },
  "language_info": {
   "codemirror_mode": {
    "name": "ipython",
    "version": 3
   },
   "file_extension": ".py",
   "mimetype": "text/x-python",
   "name": "python",
   "nbconvert_exporter": "python",
   "pygments_lexer": "ipython3",
   "version": "3.13.5"
  }
 },
 "nbformat": 4,
 "nbformat_minor": 5
}
