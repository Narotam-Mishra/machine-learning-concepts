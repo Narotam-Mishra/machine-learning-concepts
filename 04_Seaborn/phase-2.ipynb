{
 "cells": [
  {
   "cell_type": "markdown",
   "id": "72b36a41",
   "metadata": {},
   "source": [
    "### Plotting using Seaborn Part2"
   ]
  },
  {
   "cell_type": "code",
   "execution_count": 1,
   "id": "0407e045",
   "metadata": {},
   "outputs": [],
   "source": [
    "import seaborn as sns"
   ]
  },
  {
   "cell_type": "code",
   "execution_count": 2,
   "id": "05116266",
   "metadata": {},
   "outputs": [],
   "source": [
    "# import datasets\n",
    "tips = sns.load_dataset('tips')\n",
    "iris = sns.load_dataset('iris')"
   ]
  },
  {
   "cell_type": "markdown",
   "id": "63cd9636",
   "metadata": {},
   "source": [
    "#### Categorical Plots\n",
    "- used on categorical data"
   ]
  },
  {
   "cell_type": "markdown",
   "id": "dfb46429",
   "metadata": {},
   "source": [
    "##### Categorical Scatter Plot\n",
    "- Stripplot\n",
    "- Swarmplot\n",
    "\n",
    "Bivariate analysis"
   ]
  },
  {
   "cell_type": "markdown",
   "id": "57b343bf",
   "metadata": {},
   "source": [
    "##### Categorical Distribution Plots\n",
    "- Boxplot\n",
    "- Violinplot"
   ]
  },
  {
   "cell_type": "markdown",
   "id": "981331a3",
   "metadata": {},
   "source": [
    "##### Categorical Estimate Plot --> for central tendency\n",
    "- Barplot\n",
    "- Pointplot\n",
    "- Countplot"
   ]
  },
  {
   "cell_type": "markdown",
   "id": "588931fd",
   "metadata": {},
   "source": [
    "##### Categorical Scatter Plot\n",
    "- Stripplot - It is scatter plot between numerical and categorical data,\n",
    "- Swarmplot"
   ]
  },
  {
   "cell_type": "code",
   "execution_count": null,
   "id": "77c08294",
   "metadata": {},
   "outputs": [],
   "source": [
    "# strip plot (using tips data)\n",
    "# axis level function\n",
    "\n",
    "sns.stripplot(data=tips, x='day', y='total_bill')"
   ]
  },
  {
   "cell_type": "code",
   "execution_count": null,
   "id": "54c490f2",
   "metadata": {},
   "outputs": [],
   "source": [
    "# strip plot with straight bars\n",
    "sns.stripplot(data=tips, x='day', y='total_bill', jitter=False)"
   ]
  },
  {
   "cell_type": "code",
   "execution_count": null,
   "id": "78c9dd0d",
   "metadata": {},
   "outputs": [],
   "source": [
    "# above example using catplot with figure level function\n",
    "sns.catplot(data=tips, x='day', y='total_bill', kind='strip')"
   ]
  },
  {
   "cell_type": "code",
   "execution_count": null,
   "id": "090b51c6",
   "metadata": {},
   "outputs": [],
   "source": [
    "# jitter\n",
    "sns.catplot(data=tips, x='day', y='total_bill', kind='strip', jitter=0.2)"
   ]
  },
  {
   "cell_type": "code",
   "execution_count": null,
   "id": "8673ac66",
   "metadata": {},
   "outputs": [],
   "source": [
    "# using `hue`\n",
    "sns.catplot(data=tips, x='day', y='total_bill', kind='strip', jitter=0.2, hue='sex')"
   ]
  },
  {
   "cell_type": "code",
   "execution_count": null,
   "id": "4c14a1e8",
   "metadata": {},
   "outputs": [],
   "source": [
    "# swarmplot (figure level function)\n",
    "sns.catplot(data=tips, x='day', y='total_bill', kind='swarm')"
   ]
  },
  {
   "cell_type": "code",
   "execution_count": null,
   "id": "487190aa",
   "metadata": {},
   "outputs": [],
   "source": [
    "# swarmplot (axis level function)\n",
    "sns.swarmplot(data=tips, x='day', y='total_bill', hue='sex')"
   ]
  },
  {
   "cell_type": "markdown",
   "id": "e4ea5a89",
   "metadata": {},
   "source": [
    "#### Categorical Distribution Plots \n",
    "1. Boxplot\n",
    "2. Violinplot\n",
    "\n",
    "- This plot used to find distribution of a particular column (Univariate) "
   ]
  },
  {
   "cell_type": "markdown",
   "id": "bbf57fed",
   "metadata": {},
   "source": [
    "##### Boxplot \n",
    "- Boxplot is a standardized way of displaying the distribution of data based on a five number summary i.e, minimum, maximum, first quartile[Q1], thrird quartile[Q3], median."
   ]
  },
  {
   "cell_type": "code",
   "execution_count": null,
   "id": "722043a1",
   "metadata": {},
   "outputs": [],
   "source": [
    "# Box plot (axis level)\n",
    "# sns.boxplot(data=tips, x='sex', y='total_bill')\n",
    "\n",
    "sns.boxplot(data=tips, x='day', y='total_bill')"
   ]
  },
  {
   "cell_type": "code",
   "execution_count": null,
   "id": "21936b4d",
   "metadata": {},
   "outputs": [],
   "source": [
    "# catplot (figure level)\n",
    "sns.catplot(data=tips, x='day', y='total_bill', kind='box')"
   ]
  },
  {
   "cell_type": "code",
   "execution_count": null,
   "id": "de74b3c7",
   "metadata": {},
   "outputs": [],
   "source": [
    "# hue\n",
    "sns.catplot(data=tips, x='day', y='total_bill', kind='box', hue='sex')"
   ]
  },
  {
   "cell_type": "code",
   "execution_count": null,
   "id": "d0fd061a",
   "metadata": {},
   "outputs": [],
   "source": [
    "# single boxplot --> numerical col\n",
    "sns.boxplot(data=tips, y='total_bill')"
   ]
  },
  {
   "cell_type": "markdown",
   "id": "6443591f",
   "metadata": {},
   "source": [
    "##### Violinplot (Boxplot + KDE Plot)"
   ]
  },
  {
   "cell_type": "code",
   "execution_count": null,
   "id": "a1b92522",
   "metadata": {},
   "outputs": [],
   "source": [
    "# violinplot\n",
    "sns.violinplot(data=tips, x='day', y='total_bill')"
   ]
  },
  {
   "cell_type": "code",
   "execution_count": null,
   "id": "9b99a0ea",
   "metadata": {},
   "outputs": [],
   "source": [
    "# violinplot using catplot\n",
    "sns.catplot(data=tips, x='day', y='total_bill', kind='violin')"
   ]
  },
  {
   "cell_type": "code",
   "execution_count": null,
   "id": "2de4bb7c",
   "metadata": {},
   "outputs": [],
   "source": [
    "# hue\n",
    "sns.catplot(data=tips, x='day', y='total_bill', kind='violin', hue='sex', split=True)"
   ]
  },
  {
   "cell_type": "markdown",
   "id": "826d140d",
   "metadata": {},
   "source": [
    "##### Categorical Estimate Plot\n",
    "- Barplot\n",
    "- Pointplot\n",
    "- Countplot"
   ]
  },
  {
   "cell_type": "markdown",
   "id": "ce8cc92a",
   "metadata": {},
   "source": [
    "##### BarPlot"
   ]
  },
  {
   "cell_type": "code",
   "execution_count": null,
   "id": "9adcbf24",
   "metadata": {},
   "outputs": [],
   "source": [
    "# barplot\n",
    "sns.barplot(data=tips, x='sex', y='total_bill')"
   ]
  },
  {
   "cell_type": "markdown",
   "id": "73010e8d",
   "metadata": {},
   "source": [
    "when there are multiple observations in each category, it also uses bootstrapping a confidence interval around the estimate, which is plotted using error bars."
   ]
  },
  {
   "cell_type": "code",
   "execution_count": null,
   "id": "e1e2a584",
   "metadata": {},
   "outputs": [],
   "source": [
    "# catplot\n",
    "sns.catplot(data=tips, x='sex', y='total_bill', errorbar=None, kind='bar')"
   ]
  },
  {
   "cell_type": "code",
   "execution_count": null,
   "id": "c9286119",
   "metadata": {},
   "outputs": [],
   "source": [
    "# hue with barplot\n",
    "import numpy as np\n",
    "sns.barplot(data=tips, x='sex', y='total_bill', hue='smoker', estimator=np.max)"
   ]
  },
  {
   "cell_type": "markdown",
   "id": "2ce6684f",
   "metadata": {},
   "source": [
    "##### Pointplot"
   ]
  },
  {
   "cell_type": "code",
   "execution_count": null,
   "id": "2d2922e6",
   "metadata": {},
   "outputs": [],
   "source": [
    "# pointplot\n",
    "sns.pointplot(data=tips, x='sex', y='total_bill', hue='smoker', errorbar=None)"
   ]
  },
  {
   "cell_type": "code",
   "execution_count": null,
   "id": "f001939c",
   "metadata": {},
   "outputs": [],
   "source": [
    "# pointplot (simpler example)\n",
    "sns.pointplot(data=tips, x='sex', y='total_bill', estimator=np.mean)"
   ]
  },
  {
   "cell_type": "code",
   "execution_count": null,
   "id": "3cb3766b",
   "metadata": {},
   "outputs": [],
   "source": [
    "# pointplot (with hue example)\n",
    "sns.pointplot(data=tips, x='sex', y='total_bill', hue='smoker')"
   ]
  },
  {
   "cell_type": "markdown",
   "id": "ca13a829",
   "metadata": {},
   "source": [
    "##### countplot"
   ]
  },
  {
   "cell_type": "markdown",
   "id": "cbe2f52a",
   "metadata": {},
   "source": [
    "A special case for the barplot is when you want to show the number of observations in each category rather than computing a statistic for a second variable. This is similar to a histogram over a categorical, rahter than quantitative variable."
   ]
  },
  {
   "cell_type": "code",
   "execution_count": null,
   "id": "e4e46137",
   "metadata": {},
   "outputs": [],
   "source": [
    "# countplot\n",
    "sns.countplot(data=tips, x='sex')"
   ]
  },
  {
   "cell_type": "code",
   "execution_count": null,
   "id": "a13f816a",
   "metadata": {},
   "outputs": [],
   "source": [
    "# countplot (with hue)\n",
    "sns.countplot(data=tips, x='sex', hue='day')"
   ]
  },
  {
   "cell_type": "code",
   "execution_count": null,
   "id": "9435972d",
   "metadata": {},
   "outputs": [],
   "source": [
    "# faceting using catplot\n",
    "sns.catplot(data=tips, x='sex', y='total_bill', col='smoker', kind='box', row='time')"
   ]
  },
  {
   "cell_type": "markdown",
   "id": "20abd835",
   "metadata": {},
   "source": [
    "### Regression Plot\n",
    "- regplot\n",
    "- Implot\n",
    "\n",
    "In the simplest invocation, both functions draw a scatterplot of two variables, `x` and `y`, and then fit the regression model `y~x` and plot the resulting regression line and a 95% confidence interval for that regression."
   ]
  },
  {
   "cell_type": "markdown",
   "id": "c608e460",
   "metadata": {},
   "source": [
    "##### regplot"
   ]
  },
  {
   "cell_type": "code",
   "execution_count": null,
   "id": "fcc1f80d",
   "metadata": {},
   "outputs": [],
   "source": [
    "# scatter plot\n",
    "sns.scatterplot(data=tips, x='total_bill', y='tip')"
   ]
  },
  {
   "cell_type": "code",
   "execution_count": null,
   "id": "8574feea",
   "metadata": {},
   "outputs": [],
   "source": [
    "# regplot example (axes level function)\n",
    "# `hue` parameter is not available\n",
    "sns.regplot(data=tips, x='total_bill', y='tip')"
   ]
  },
  {
   "cell_type": "code",
   "execution_count": null,
   "id": "27c86dce",
   "metadata": {},
   "outputs": [],
   "source": [
    "# lmpplot example\n",
    "sns.lmplot(data=tips, x='total_bill', y='tip')"
   ]
  },
  {
   "cell_type": "code",
   "execution_count": null,
   "id": "94b268c8",
   "metadata": {},
   "outputs": [],
   "source": [
    "# using `hue` with lmplot\n",
    "sns.lmplot(data=tips, x='total_bill', y='tip', hue='sex')"
   ]
  },
  {
   "cell_type": "markdown",
   "id": "4834be02",
   "metadata": {},
   "source": [
    "Note - `hue` is not availbe with `regplot`"
   ]
  },
  {
   "cell_type": "markdown",
   "id": "65cd7514",
   "metadata": {},
   "source": [
    "### Residual plot"
   ]
  },
  {
   "cell_type": "code",
   "execution_count": null,
   "id": "4e82b418",
   "metadata": {},
   "outputs": [],
   "source": [
    "# residplot\n",
    "sns.residplot(data=tips, x='total_bill', y='tip')"
   ]
  },
  {
   "cell_type": "markdown",
   "id": "b3cce0af",
   "metadata": {},
   "source": [
    "#### Multigrid plots\n",
    "- FacetGrid\n",
    "- PairGrid\n",
    "- JointGrid"
   ]
  },
  {
   "cell_type": "markdown",
   "id": "02bd2f26",
   "metadata": {},
   "source": [
    "##### FacetGrid"
   ]
  },
  {
   "cell_type": "code",
   "execution_count": null,
   "id": "8ccd7a98",
   "metadata": {},
   "outputs": [],
   "source": [
    "# figure level functions --> relplot, displot, catplot & lmplot\n",
    "\n",
    "# add facet column and row\n",
    "sns.catplot(data=tips, x='sex', y='total_bill', kind='violin', col='day', row='time')"
   ]
  },
  {
   "cell_type": "code",
   "execution_count": null,
   "id": "d0e559f2",
   "metadata": {},
   "outputs": [],
   "source": [
    "# facetgrid example\n",
    "\n",
    "g = sns.FacetGrid(data=tips, col='day',row='time', hue='smoker')\n",
    "# g.map(sns.violinplot, 'sex', 'total_bill')\n",
    "\n",
    "# g.map(sns.boxplot, 'sex', 'total_bill')\n",
    "\n",
    "# g.map(sns.scatterplot, 'sex', 'total_bill')\n",
    "g.map(sns.scatterplot, 'tip', 'total_bill')\n",
    "g.add_legend()"
   ]
  },
  {
   "cell_type": "markdown",
   "id": "0a024aa4",
   "metadata": {},
   "source": [
    "#### Plotting Pairwise Relationship (PairGrid Vs Pairplot)\n",
    "- used to plot pairwise relationship"
   ]
  },
  {
   "cell_type": "markdown",
   "id": "92f62283",
   "metadata": {},
   "source": [
    "#### pairplot"
   ]
  },
  {
   "cell_type": "code",
   "execution_count": null,
   "id": "a2d49237",
   "metadata": {},
   "outputs": [],
   "source": [
    "# using iris dataset\n",
    "iris"
   ]
  },
  {
   "cell_type": "code",
   "execution_count": null,
   "id": "18dfbde6",
   "metadata": {},
   "outputs": [],
   "source": [
    "# pairgrid and pairplot (using `iris` dataset)\n",
    "\n",
    "# pairplot example\n",
    "sns.pairplot(iris, hue='species')"
   ]
  },
  {
   "cell_type": "markdown",
   "id": "66d36cb4",
   "metadata": {},
   "source": [
    "#### PairGrid"
   ]
  },
  {
   "cell_type": "code",
   "execution_count": null,
   "id": "e82158ee",
   "metadata": {},
   "outputs": [],
   "source": [
    "# pairplot internally use pairgrid to plot the graph\n",
    "\n",
    "# pairgrid example\n",
    "g = sns.PairGrid(data=iris, hue='species')\n",
    "\n",
    "g.map(sns.scatterplot)"
   ]
  },
  {
   "cell_type": "code",
   "execution_count": null,
   "id": "5b51a0ae",
   "metadata": {},
   "outputs": [],
   "source": [
    "# plot digonal and non-diagonal items separately in PairGrid\n",
    "# pairplot is special case of PairGrid\n",
    "\n",
    "# map_diag --> map_offdiag\n",
    "g = sns.PairGrid(data=iris, hue='species')\n",
    "\n",
    "# g.map_diag(sns.histplot)\n",
    "# g.map_diag(sns.violinplot)\n",
    "g.map_diag(sns.boxplot)\n",
    "\n",
    "# g.map_offdiag(sns.scatterplot)\n",
    "# g.map_offdiag(sns.histplot)\n",
    "g.map_offdiag(sns.kdeplot)"
   ]
  },
  {
   "cell_type": "code",
   "execution_count": null,
   "id": "76123d06",
   "metadata": {},
   "outputs": [],
   "source": [
    "# map_diag --> map_upper --> map_lower\n",
    "g = sns.PairGrid(data=iris, hue='species')\n",
    "\n",
    "g.map_diag(sns.histplot)\n",
    "g.map_upper(sns.kdeplot)\n",
    "g.map_lower(sns.scatterplot)"
   ]
  },
  {
   "cell_type": "code",
   "execution_count": null,
   "id": "061a455d",
   "metadata": {},
   "outputs": [],
   "source": [
    "# vars\n",
    "g = sns.PairGrid(data=iris, hue='species', vars=['sepal_width', 'petal_width'])\n",
    "\n",
    "g.map_diag(sns.histplot)\n",
    "g.map_upper(sns.kdeplot)\n",
    "g.map_lower(sns.scatterplot)"
   ]
  },
  {
   "cell_type": "markdown",
   "id": "875ab4e2",
   "metadata": {},
   "source": [
    "\n",
    "### 📌 What are **Categorical Plots**?\n",
    "\n",
    "* Plots where **x or y axis contains categorical (non-numeric) values**.\n",
    "* Used to visualize how a **numerical variable varies with categories**.\n",
    "\n",
    "#### 🔷 Types of Categorical Scatter Plots:\n",
    "\n",
    "#### 1. 🟢 **Strip Plot (`sns.stripplot`)**\n",
    "\n",
    "* A **scatter plot** for categorical data.\n",
    "* Plots a numerical value **against a categorical axis**.\n",
    "\n",
    "#### ✅ Features:\n",
    "\n",
    "* Adds **jitter (noise)** by default to spread points.\n",
    "* Useful when you want to **see individual observations**.\n",
    "* Points may overlap if no jitter is applied.\n",
    "\n",
    "#### ✅ Syntax Example:\n",
    "\n",
    "```python\n",
    "sns.stripplot(data=tips, x='day', y='total_bill', jitter=True)\n",
    "```\n",
    "\n",
    "#### 🔹 `jitter=` parameter:\n",
    "\n",
    "* Controls horizontal spreading (helps avoid overlap).\n",
    "* Default: `True` (some noise), or specify a value (e.g., `jitter=0.1`, `1.5` etc.).\n",
    "\n",
    "#### 🔹 With `hue`:\n",
    "\n",
    "```python\n",
    "sns.stripplot(data=tips, x='day', y='total_bill', hue='sex')\n",
    "```\n",
    "\n",
    "---\n",
    "\n",
    "### 2. 🔵 **Swarm Plot (`sns.swarmplot`)**\n",
    "\n",
    "* An improved version of strip plot.\n",
    "* Uses an internal **algorithm** to adjust point placement and **avoid overlap**.\n",
    "\n",
    "#### ✅ Features:\n",
    "\n",
    "* Better visual representation of **distribution**.\n",
    "* Great for **small to medium datasets**.\n",
    "\n",
    "#### ✅ Syntax:\n",
    "\n",
    "```python\n",
    "sns.swarmplot(data=tips, x='day', y='total_bill')\n",
    "```\n",
    "\n",
    "#### 🔹 With `hue`:\n",
    "\n",
    "```python\n",
    "sns.swarmplot(data=tips, x='day', y='total_bill', hue='sex')\n",
    "```\n",
    "\n",
    "---\n",
    "\n",
    "### 🔶 Two Types of Function Interfaces\n",
    "\n",
    "| Type             | Description                                | Example                          |\n",
    "| ---------------- | ------------------------------------------ | -------------------------------- |\n",
    "| **Axis-level**   | Works with a single plot at a time         | `sns.stripplot(...)`             |\n",
    "| **Figure-level** | Can manage multiple subplots in one figure | `sns.catplot(kind='strip', ...)` |\n",
    "\n",
    "#### ✅ Example with `catplot`:\n",
    "\n",
    "```python\n",
    "sns.catplot(data=tips, x='day', y='total_bill', kind='strip')\n",
    "```\n",
    "\n",
    "* `catplot()` is flexible – change `kind` to `'strip'`, `'swarm'`, `'box'`, `'violin'`, etc.\n",
    "\n",
    "---\n",
    "\n",
    "### 📝 Important Notes & Pointers\n",
    "\n",
    "| Concept                      | Key Detail                                                          |\n",
    "| ---------------------------- | ------------------------------------------------------------------- |\n",
    "| **Strip Plot**               | Basic scatter over categorical axis with optional jitter            |\n",
    "| **Swarm Plot**               | Scatter with automatic spread to show distribution clearly          |\n",
    "| **Jitter Parameter**         | Helps spread overlapping points horizontally                        |\n",
    "| **Hue Parameter**            | Adds a third variable using color                                   |\n",
    "| **catplot()**                | Figure-level function, `kind='strip'` or `'swarm'`                  |\n",
    "| **Swarm Better Than Strip?** | Yes, for **smaller datasets** where overlapping needs to be avoided |\n",
    "| **Strip Better For?**        | **Medium to large** datasets where performance matters more         |\n",
    "| **Use Case**                 | Visualize how a **numeric variable** varies across **categories**   |\n",
    "\n",
    "---\n",
    "\n",
    "### ✅ Summary in One Line:\n",
    "\n",
    "> Use **stripplot** or **swarmplot** when you want to visualize the **distribution of a numerical variable** with respect to a **categorical variable**, especially useful for **small to medium-sized datasets**.\n",
    "\n",
    "---\n",
    "\n",
    "### 🟨 What are **Distribution Plots**?\n",
    "\n",
    "* These plots **show how a single variable is distributed**.\n",
    "* Unlike scatter plots (which show relationships between two variables), distribution plots are mostly **univariate**.\n",
    "* **Key focus**: Range, spread, central tendency, skewness, and outliers.\n",
    "\n",
    "---\n",
    "\n",
    "### 📦 **Box Plot (`sns.boxplot`)**\n",
    "\n",
    "#### ✅ What It Shows:\n",
    "\n",
    "A Box Plot represents data distribution using a **5-number summary**:\n",
    "\n",
    "1. Minimum (excluding outliers)\n",
    "2. Q1 (25th percentile)\n",
    "3. Median (Q2, 50th percentile)\n",
    "4. Q3 (75th percentile)\n",
    "5. Maximum (excluding outliers)\n",
    "\n",
    "#### 🔹 Other Key Concepts:\n",
    "\n",
    "* **IQR (Interquartile Range)** = Q3 - Q1\n",
    "* **Whiskers**:\n",
    "\n",
    "  * Lower bound = Q1 - 1.5 × IQR\n",
    "  * Upper bound = Q3 + 1.5 × IQR\n",
    "* **Outliers**: Points beyond the whiskers.\n",
    "* **Symmetry/Skew**: Shape of the box indicates skewness.\n",
    "* Can be used to **compare categories** using a categorical variable on `x` axis.\n",
    "\n",
    "#### ✅ Syntax Examples:\n",
    "\n",
    "```python\n",
    "# Simple boxplot\n",
    "sns.boxplot(data=tips, y='total_bill')\n",
    "\n",
    "# Boxplot with categorical variable\n",
    "sns.boxplot(data=tips, x='sex', y='total_bill')\n",
    "\n",
    "# Using catplot (Figure-level)\n",
    "sns.catplot(data=tips, x='sex', y='total_bill', kind='box')\n",
    "```\n",
    "\n",
    "---\n",
    "\n",
    "### 🎻 **Violin Plot (`sns.violinplot`)**\n",
    "\n",
    "#### ✅ What It Is:\n",
    "\n",
    "* A **combination of Box Plot + KDE (Kernel Density Estimation)**.\n",
    "* Shows **distribution density** of the data along with summary stats.\n",
    "\n",
    "#### ✅ Key Features:\n",
    "\n",
    "* Wider sections of the violin indicate **more data points** in that range.\n",
    "* Shows **distribution shape**, especially useful to detect **multi-modality**.\n",
    "* Includes **median and quartiles** (like boxplot) inside.\n",
    "\n",
    "#### ✅ Syntax Examples:\n",
    "\n",
    "```python\n",
    "# Simple violin plot\n",
    "sns.violinplot(data=tips, x='sex', y='total_bill')\n",
    "\n",
    "# With hue and split\n",
    "sns.violinplot(data=tips, x='day', y='total_bill', hue='sex', split=True)\n",
    "\n",
    "# Using catplot\n",
    "sns.catplot(data=tips, x='sex', y='total_bill', kind='violin', hue='smoker', split=True)\n",
    "```\n",
    "\n",
    "---\n",
    "\n",
    "### 🧠 Quick Revision Notes\n",
    "\n",
    "| Concept                | Details                                                                   |\n",
    "| ---------------------- | ------------------------------------------------------------------------- |\n",
    "| **Box Plot**           | Uses 5-number summary to show spread, outliers, skew                      |\n",
    "| **Violin Plot**        | Adds KDE to show shape of the distribution                                |\n",
    "| **IQR**                | Q3 - Q1, used to detect outliers                                          |\n",
    "| **Outliers**           | Points beyond Q1 - 1.5×IQR and Q3 + 1.5×IQR                               |\n",
    "| **KDE**                | Smoothed estimate of distribution                                         |\n",
    "| **`hue` parameter**    | Add a third variable with color                                           |\n",
    "| **`split=True`**       | Used with `hue` to combine violin plots side-by-side                      |\n",
    "| **Figure-level plots** | Use `sns.catplot(kind='box')` or `kind='violin'` for multi-subplot layout |\n",
    "| **Use case**           | Excellent for **univariate** analysis and **group comparison**            |\n",
    "\n",
    "---\n",
    "\n",
    "### 🧾 Summary:\n",
    "\n",
    "> **Box plots** show distribution, median, IQR, and outliers clearly.\n",
    "> **Violin plots** enhance it by adding the **shape of distribution** using KDE.\n",
    "> Use **hue and split** to compare groups, and **catplot** for subplot flexibility.\n",
    "\n",
    "---\n",
    "\n",
    "### ✅ **1. Bar Plot (`sns.barplot`)**\n",
    "\n",
    "#### 📌 Purpose:\n",
    "\n",
    "To show an **aggregate statistic** (default: **mean**) of a **numerical variable** across **categories**.\n",
    "\n",
    "#### 📊 Example:\n",
    "\n",
    "```python\n",
    "sns.barplot(data=tips, x='sex', y='total_bill')\n",
    "```\n",
    "\n",
    "#### 🔑 Key Points:\n",
    "\n",
    "* `x`: **Categorical variable**\n",
    "* `y`: **Numerical variable**\n",
    "* **Default estimator**: `mean`\n",
    "* Can be changed using `estimator=` (e.g., `np.median`, `min`, `max`, `np.std`)\n",
    "* **Error bars**: Represent **confidence intervals** (by default, Seaborn uses **bootstrapping**)\n",
    "\n",
    "  * To remove: `errorbar=None` (may vary by version)\n",
    "\n",
    "#### 🔁 With hue:\n",
    "\n",
    "```python\n",
    "sns.barplot(data=tips, x='sex', y='total_bill', hue='smoker')\n",
    "```\n",
    "\n",
    "---\n",
    "\n",
    "### ✅ **2. Point Plot (`sns.pointplot`)**\n",
    "\n",
    "#### 📌 Purpose:\n",
    "\n",
    "To visualize **trends or differences** across **categorical variables**, using **connected lines**.\n",
    "\n",
    "#### 📊 Example:\n",
    "\n",
    "```python\n",
    "sns.pointplot(data=tips, x='sex', y='total_bill', hue='smoker')\n",
    "```\n",
    "\n",
    "#### 🔑 Key Points:\n",
    "\n",
    "* Similar to bar plot, but **adds lines connecting points** to **highlight changes**.\n",
    "* More useful for **comparative analysis**.\n",
    "* Shows **central tendency** with error bars.\n",
    "* Great for comparing **group differences** (e.g., male vs female for smokers vs non-smokers)\n",
    "\n",
    "---\n",
    "\n",
    "### ✅ **3. Count Plot (`sns.countplot`)**\n",
    "\n",
    "#### 📌 Purpose:\n",
    "\n",
    "To show the **count (frequency)** of observations for each category.\n",
    "\n",
    "#### 📊 Example:\n",
    "\n",
    "```python\n",
    "sns.countplot(data=tips, x='sex')\n",
    "```\n",
    "\n",
    "#### 🔑 Key Points:\n",
    "\n",
    "* Equivalent to `value_counts().plot(kind='bar')` for **categorical variables**.\n",
    "* No `y` axis needed (it's **automatically count**).\n",
    "* Add `hue` to **breakdown further**:\n",
    "\n",
    "```python\n",
    "sns.countplot(data=tips, x='day', hue='sex')\n",
    "```\n",
    "\n",
    "---\n",
    "\n",
    "### ✅ **4. Faceting (`sns.catplot`, `col=`, `row=`)**\n",
    "\n",
    "#### 📌 Purpose:\n",
    "\n",
    "To **split plots into subplots** based on one or more categorical variables.\n",
    "\n",
    "#### 📊 Example:\n",
    "\n",
    "```python\n",
    "sns.catplot(data=tips, x='sex', y='total_bill', kind='box', col='smoker')\n",
    "```\n",
    "\n",
    "#### 🔑 Key Points:\n",
    "\n",
    "* Use `col=` and/or `row=` for **facet grids**.\n",
    "* Use `col_wrap=` to wrap plots into multiple rows.\n",
    "* Can be used with **any kind of catplot**: `'bar'`, `'violin'`, `'box'`, `'point'`, `'strip'`, `'swarm'`.\n",
    "\n",
    "---\n",
    "\n",
    "### 🧠 Summary Table of Seaborn Categorical Plots:\n",
    "\n",
    "| Plot Type      | Purpose                                      | Shows                     | Key Function    |\n",
    "| -------------- | -------------------------------------------- | ------------------------- | --------------- |\n",
    "| **Bar Plot**   | Compare aggregate stats (mean, median, etc.) | Mean + error bars         | `sns.barplot`   |\n",
    "| **Point Plot** | Compare trends across categories             | Points + connecting lines | `sns.pointplot` |\n",
    "| **Count Plot** | Show count of observations per category      | Count bars                | `sns.countplot` |\n",
    "| **Faceting**   | Multiple plots split by categories           | Subplots by category      | `sns.catplot`   |\n",
    "\n",
    "---\n",
    "\n",
    "### ✅ General Tips:\n",
    "\n",
    "* Use `hue=` to add **grouping** within plots.\n",
    "* Use `estimator=` in `barplot` to customize aggregation (e.g., `np.mean`, `np.max`)\n",
    "* Use `errorbar=None` or `ci=None` to remove error bars (may vary with Seaborn versions).\n",
    "* `catplot()` is a **figure-level function** (for faceting), while others are **axes-level**.\n",
    "\n",
    "---\n",
    "\n",
    "### 📌 Summary: Regression Plots in Seaborn\n",
    "\n",
    "#### 🔷 What is Regression?\n",
    "\n",
    "* Regression is about finding a **mathematical relationship** between two **numeric (quantitative)** variables.\n",
    "* Example: Predicting **marks** based on **hours studied**.\n",
    "* Goal: Fit a **line** through the data that best represents this relationship.\n",
    "* Formula of a line:\n",
    "\n",
    "  $$\n",
    "  y = mx + b\n",
    "  $$\n",
    "\n",
    "  where `m` = slope, `b` = intercept, `x` = input, `y` = predicted output\n",
    "\n",
    "---\n",
    "\n",
    "### 🔹 1. **`regplot()`** — Regression Plot\n",
    "\n",
    "#### ✅ Purpose:\n",
    "\n",
    "* Shows both:\n",
    "\n",
    "  * **Scatter plot**\n",
    "  * **Best-fit linear regression line**\n",
    "\n",
    "#### 🔑 Key Points:\n",
    "\n",
    "* `regplot()` is an **axes-level function**.\n",
    "* It fits a **linear regression line** with a **confidence interval**.\n",
    "* Default CI is **95%**, which shows the uncertainty of the prediction.\n",
    "\n",
    "#### 🧪 Example:\n",
    "\n",
    "```python\n",
    "import seaborn as sns\n",
    "import matplotlib.pyplot as plt\n",
    "\n",
    "sns.regplot(data=tips, x='total_bill', y='tip')\n",
    "plt.show()\n",
    "```\n",
    "\n",
    "---\n",
    "\n",
    "#### 🔹 2. **`lmplot()`** — Linear Model Plot\n",
    "\n",
    "#### ✅ Purpose:\n",
    "\n",
    "* Similar to `regplot()` but is a **figure-level function**.\n",
    "* Supports **faceting** and **hue-based regression lines** (e.g., separate lines for males and females).\n",
    "\n",
    "#### 🔑 Key Points:\n",
    "\n",
    "* Can group data using `hue=`, `col=`, `row=`.\n",
    "* Automatically creates multiple regression lines for different groups.\n",
    "\n",
    "#### 🧪 Example:\n",
    "\n",
    "```python\n",
    "sns.lmplot(data=tips, x='total_bill', y='tip', hue='sex')\n",
    "```\n",
    "\n",
    "---\n",
    "\n",
    "### 🔹 3. **Residual Plot (`residplot`)**\n",
    "\n",
    "#### ✅ Purpose:\n",
    "\n",
    "* Shows the **error** (residual) between actual data and regression line prediction.\n",
    "* Helps in **diagnosing model performance**.\n",
    "\n",
    "#### 🧪 Example:\n",
    "\n",
    "```python\n",
    "sns.residplot(data=tips, x='total_bill', y='tip')\n",
    "```\n",
    "\n",
    "#### 🔑 Key Concept:\n",
    "\n",
    "* **Residual** = Actual value - Predicted value\n",
    "* Center line = 0 error\n",
    "* Points above line: Under-predicted\n",
    "* Points below line: Over-predicted\n",
    "\n",
    "---\n",
    "\n",
    "### ✅ Key Differences\n",
    "\n",
    "| Feature     | `regplot()`         | `lmplot()`                     |\n",
    "| ----------- | ------------------- | ------------------------------ |\n",
    "| Type        | Axes-level function | Figure-level function          |\n",
    "| Use `hue=`? | ❌ Not supported     | ✅ Supported                    |\n",
    "| Faceting    | ❌ No                | ✅ Yes (`col=`, `row=`)         |\n",
    "| Styling     | Manual              | Automatically adjusts subplots |\n",
    "\n",
    "---\n",
    "\n",
    "### 📚 Quick Tips:\n",
    "\n",
    "* Use `regplot()` for **simple scatter + line** visualization.\n",
    "* Use `lmplot()` when you want **group-wise regression lines** or **multiple subplots**.\n",
    "* Use `residplot()` to **check for errors** and **evaluate model fit**.\n",
    "* Regression line tries to **minimize total error** between line and actual points.\n",
    "---\n",
    "\n",
    "### ✅ Summary Table\n",
    "\n",
    "| Plot               | Purpose                           | Seaborn Function |\n",
    "| ------------------ | --------------------------------- | ---------------- |\n",
    "| Scatter + Line     | Visualize regression relationship | `regplot()`      |\n",
    "| Grouped Regression | Regression by category/group      | `lmplot()`       |\n",
    "| Residual           | Show error from regression line   | `residplot()`    |\n",
    "\n",
    "---\n",
    "\n",
    "### 🎨 Facetting with `relplot()`, `displot()`, `catplot()`\n",
    "\n",
    "* These are **figure-level** plotting functions that let you create multiple subplots (facets) by mapping categorical variables to grid rows or columns.\n",
    "* Common parameters:\n",
    "\n",
    "  * `row=` and `col=`: split plots by categories into separate rows or columns.\n",
    "  * `hue=`: color-code different categories within each subplot.\n",
    "  * `col_wrap=`: wrap columns into multiple rows when too many facets.\n",
    "* Example:\n",
    "\n",
    "  ```python\n",
    "  sns.catplot(data=tips, x='day', y='total_bill', kind='violin',\n",
    "              row='sex', col='time', hue='smoker', col_wrap=2)\n",
    "  ```\n",
    "\n",
    "---\n",
    "\n",
    "### 📊 PairPlot and PairGrid — Exploring pairwise relationships\n",
    "\n",
    "#### ✅ `pairplot()`\n",
    "\n",
    "* Automatically plots all **pairwise relationships** between numerical columns:\n",
    "\n",
    "  * Off-diagonal: scatter plots (with optional hue coloring)\n",
    "  * Diagonal: histograms or KDE plots\n",
    "* Great for quick exploratory data analysis.\n",
    "* Example:\n",
    "\n",
    "  ```python\n",
    "  sns.pairplot(iris, hue='species')\n",
    "  ```\n",
    "\n",
    "#### ✅ `PairGrid`\n",
    "\n",
    "* A **more customizable version** of `pairplot()`:\n",
    "\n",
    "  * Initialize a grid:\n",
    "\n",
    "    ```python\n",
    "    g = sns.PairGrid(iris)\n",
    "    ```\n",
    "  * Map different plot types:\n",
    "\n",
    "    ```python\n",
    "    g.map_diag(sns.histplot)\n",
    "    g.map_offdiag(sns.kdeplot)\n",
    "    ```\n",
    "* Offers full control: choose plot functions independently for upper/lower/diagonal.\n",
    "\n",
    "#### 🔍 What you can do with PairGrid:\n",
    "\n",
    "* Apply **different plot types** on upper vs lower triangles.\n",
    "* Customize plots for **specific combinations**:\n",
    "\n",
    "  * Example: use `kdeplot` on upper off-diagonal, and scatter or hist on lower.\n",
    "* Control which **specific columns** to include via `vars=[...]`.\n",
    "* Color/differentiate groups using `hue=`.\n",
    "* Full flexibility compared to `pairplot()`.\n",
    "\n",
    "---\n",
    "\n",
    "### 🧠 Key Benefits & Tips\n",
    "\n",
    "* Facet grids let you **organize plots** by categories easily.\n",
    "* Use `col_wrap=` to manage grid layout when there are many category levels.\n",
    "* Pairplot = quick & automatic; PairGrid = flexible & customizable.\n",
    "* Use `hue=` inside both to separate groups on color basis.\n",
    "* With PairGrid, you can mix plot styles: e.g. histogram on diagonal, scatter below, kde above.\n",
    "\n",
    "---\n",
    "\n",
    "In summary:\n",
    "\n",
    "* **Figure‑level Seaborn functions** like `relplot()`, `displot()`, and `catplot()` support powerful **facetting** via `row`, `col`, `hue`, and `col_wrap`.\n",
    "* For multivariate numeric data:\n",
    "\n",
    "  * Use **`pairplot()`** for quick pairwise visualization.\n",
    "  * Use **`PairGrid`** when you need **fine control** over plot types and layout.\n",
    "  * Customize diagonal and off-diagonal visuals independently for in-depth exploration.\n",
    "\n",
    "---\n",
    "\n",
    "start with (1:25:56)"
   ]
  }
 ],
 "metadata": {
  "kernelspec": {
   "display_name": "venv",
   "language": "python",
   "name": "python3"
  },
  "language_info": {
   "codemirror_mode": {
    "name": "ipython",
    "version": 3
   },
   "file_extension": ".py",
   "mimetype": "text/x-python",
   "name": "python",
   "nbconvert_exporter": "python",
   "pygments_lexer": "ipython3",
   "version": "3.12.1"
  }
 },
 "nbformat": 4,
 "nbformat_minor": 5
}
