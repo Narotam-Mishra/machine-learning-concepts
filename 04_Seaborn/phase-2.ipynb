{
 "cells": [
  {
   "cell_type": "markdown",
   "id": "72b36a41",
   "metadata": {},
   "source": [
    "### Plotting using Seaborn Part2"
   ]
  },
  {
   "cell_type": "code",
   "execution_count": 1,
   "id": "0407e045",
   "metadata": {},
   "outputs": [],
   "source": [
    "import seaborn as sns"
   ]
  },
  {
   "cell_type": "code",
   "execution_count": 2,
   "id": "05116266",
   "metadata": {},
   "outputs": [],
   "source": [
    "# import datasets\n",
    "tips = sns.load_dataset('tips')\n",
    "iris = sns.load_dataset('iris')"
   ]
  },
  {
   "cell_type": "markdown",
   "id": "63cd9636",
   "metadata": {},
   "source": [
    "#### Categorial Plots"
   ]
  },
  {
   "cell_type": "markdown",
   "id": "dfb46429",
   "metadata": {},
   "source": [
    "##### Categorical Scatter Plot\n",
    "- Stripplot\n",
    "- Swarmplot"
   ]
  },
  {
   "cell_type": "markdown",
   "id": "57b343bf",
   "metadata": {},
   "source": [
    "##### Categorical Distribution Plots\n",
    "- Boxplot\n",
    "- Violinplot"
   ]
  },
  {
   "cell_type": "markdown",
   "id": "981331a3",
   "metadata": {},
   "source": [
    "##### Categorical Estimate Plot --> for central tendency\n",
    "- Barplot\n",
    "- Pointplot\n",
    "- Countplot"
   ]
  },
  {
   "cell_type": "markdown",
   "id": "a46b7825",
   "metadata": {},
   "source": [
    "start from (4:37)"
   ]
  },
  {
   "cell_type": "markdown",
   "id": "59670d67",
   "metadata": {},
   "source": []
  }
 ],
 "metadata": {
  "kernelspec": {
   "display_name": "venv",
   "language": "python",
   "name": "python3"
  },
  "language_info": {
   "codemirror_mode": {
    "name": "ipython",
    "version": 3
   },
   "file_extension": ".py",
   "mimetype": "text/x-python",
   "name": "python",
   "nbconvert_exporter": "python",
   "pygments_lexer": "ipython3",
   "version": "3.12.1"
  }
 },
 "nbformat": 4,
 "nbformat_minor": 5
}
