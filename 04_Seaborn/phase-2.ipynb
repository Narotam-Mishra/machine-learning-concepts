{
 "cells": [
  {
   "cell_type": "markdown",
   "id": "72b36a41",
   "metadata": {},
   "source": [
    "### Plotting using Seaborn Part2"
   ]
  },
  {
   "cell_type": "code",
   "execution_count": 1,
   "id": "0407e045",
   "metadata": {},
   "outputs": [],
   "source": [
    "import seaborn as sns"
   ]
  },
  {
   "cell_type": "code",
   "execution_count": 2,
   "id": "05116266",
   "metadata": {},
   "outputs": [],
   "source": [
    "# import datasets\n",
    "tips = sns.load_dataset('tips')\n",
    "iris = sns.load_dataset('iris')"
   ]
  },
  {
   "cell_type": "markdown",
   "id": "63cd9636",
   "metadata": {},
   "source": [
    "#### Categorical Plots\n",
    "- used on categorical data"
   ]
  },
  {
   "cell_type": "markdown",
   "id": "dfb46429",
   "metadata": {},
   "source": [
    "##### Categorical Scatter Plot\n",
    "- Stripplot\n",
    "- Swarmplot\n",
    "\n",
    "Bivariate analysis"
   ]
  },
  {
   "cell_type": "markdown",
   "id": "57b343bf",
   "metadata": {},
   "source": [
    "##### Categorical Distribution Plots\n",
    "- Boxplot\n",
    "- Violinplot"
   ]
  },
  {
   "cell_type": "markdown",
   "id": "981331a3",
   "metadata": {},
   "source": [
    "##### Categorical Estimate Plot --> for central tendency\n",
    "- Barplot\n",
    "- Pointplot\n",
    "- Countplot"
   ]
  },
  {
   "cell_type": "markdown",
   "id": "588931fd",
   "metadata": {},
   "source": [
    "##### Categorical Scatter Plot\n",
    "- Stripplot - It is scatter plot between numerical and categorical data,\n",
    "- Swarmplot"
   ]
  },
  {
   "cell_type": "code",
   "execution_count": null,
   "id": "77c08294",
   "metadata": {},
   "outputs": [],
   "source": [
    "# strip plot (using tips data)\n",
    "# axis level function\n",
    "\n",
    "sns.stripplot(data=tips, x='day', y='total_bill')"
   ]
  },
  {
   "cell_type": "code",
   "execution_count": null,
   "id": "54c490f2",
   "metadata": {},
   "outputs": [],
   "source": [
    "# strip plot with straight bars\n",
    "sns.stripplot(data=tips, x='day', y='total_bill', jitter=False)"
   ]
  },
  {
   "cell_type": "code",
   "execution_count": null,
   "id": "78c9dd0d",
   "metadata": {},
   "outputs": [],
   "source": [
    "# above example using catplot with figure level function\n",
    "sns.catplot(data=tips, x='day', y='total_bill', kind='strip')"
   ]
  },
  {
   "cell_type": "code",
   "execution_count": null,
   "id": "090b51c6",
   "metadata": {},
   "outputs": [],
   "source": [
    "# jitter\n",
    "sns.catplot(data=tips, x='day', y='total_bill', kind='strip', jitter=0.2)"
   ]
  },
  {
   "cell_type": "code",
   "execution_count": null,
   "id": "8673ac66",
   "metadata": {},
   "outputs": [],
   "source": [
    "# using `hue`\n",
    "sns.catplot(data=tips, x='day', y='total_bill', kind='strip', jitter=0.2, hue='sex')"
   ]
  },
  {
   "cell_type": "code",
   "execution_count": null,
   "id": "4c14a1e8",
   "metadata": {},
   "outputs": [],
   "source": [
    "# swarmplot (figure level function)\n",
    "sns.catplot(data=tips, x='day', y='total_bill', kind='swarm')"
   ]
  },
  {
   "cell_type": "code",
   "execution_count": null,
   "id": "487190aa",
   "metadata": {},
   "outputs": [],
   "source": [
    "# swarmplot (axis level function)\n",
    "sns.swarmplot(data=tips, x='day', y='total_bill', hue='sex')"
   ]
  },
  {
   "cell_type": "markdown",
   "id": "e4ea5a89",
   "metadata": {},
   "source": [
    "#### Categorical Distribution Plots \n",
    "1. Boxplot\n",
    "2. Violinplot\n",
    "\n",
    "- This plot used to find distribution of a particular column (Univariate) "
   ]
  },
  {
   "cell_type": "markdown",
   "id": "bbf57fed",
   "metadata": {},
   "source": [
    "##### Boxplot \n",
    "- Boxplot is a standardized way of displaying the distribution of data based on a five number summary i.e, minimum, maximum, first quartile[Q1], thrird quartile[Q3], median."
   ]
  },
  {
   "cell_type": "code",
   "execution_count": null,
   "id": "722043a1",
   "metadata": {},
   "outputs": [],
   "source": [
    "# Box plot (axis level)\n",
    "# sns.boxplot(data=tips, x='sex', y='total_bill')\n",
    "\n",
    "sns.boxplot(data=tips, x='day', y='total_bill')"
   ]
  },
  {
   "cell_type": "code",
   "execution_count": null,
   "id": "21936b4d",
   "metadata": {},
   "outputs": [],
   "source": [
    "# catplot (figure level)\n",
    "sns.catplot(data=tips, x='day', y='total_bill', kind='box')"
   ]
  },
  {
   "cell_type": "code",
   "execution_count": null,
   "id": "de74b3c7",
   "metadata": {},
   "outputs": [],
   "source": [
    "# hue\n",
    "sns.catplot(data=tips, x='day', y='total_bill', kind='box', hue='sex')"
   ]
  },
  {
   "cell_type": "code",
   "execution_count": null,
   "id": "d0fd061a",
   "metadata": {},
   "outputs": [],
   "source": [
    "# single boxplot --> numerical col\n",
    "sns.boxplot(data=tips, y='total_bill')"
   ]
  },
  {
   "cell_type": "markdown",
   "id": "6443591f",
   "metadata": {},
   "source": [
    "##### Violinplot (Boxplot + KDE Plot)"
   ]
  },
  {
   "cell_type": "code",
   "execution_count": null,
   "id": "a1b92522",
   "metadata": {},
   "outputs": [],
   "source": [
    "# violinplot\n",
    "sns.violinplot(data=tips, x='day', y='total_bill')"
   ]
  },
  {
   "cell_type": "code",
   "execution_count": null,
   "id": "9b99a0ea",
   "metadata": {},
   "outputs": [],
   "source": [
    "# violinplot using catplot\n",
    "sns.catplot(data=tips, x='day', y='total_bill', kind='violin')"
   ]
  },
  {
   "cell_type": "code",
   "execution_count": null,
   "id": "2de4bb7c",
   "metadata": {},
   "outputs": [],
   "source": [
    "# hue\n",
    "sns.catplot(data=tips, x='day', y='total_bill', kind='violin', hue='sex', split=True)"
   ]
  },
  {
   "cell_type": "markdown",
   "id": "826d140d",
   "metadata": {},
   "source": [
    "##### Categorical Estimate Plot\n",
    "- Barplot\n",
    "- Pointplot\n",
    "- Countplot"
   ]
  },
  {
   "cell_type": "markdown",
   "id": "ce8cc92a",
   "metadata": {},
   "source": [
    "##### BarPlot"
   ]
  },
  {
   "cell_type": "code",
   "execution_count": null,
   "id": "9adcbf24",
   "metadata": {},
   "outputs": [],
   "source": [
    "# barplot\n",
    "sns.barplot(data=tips, x='sex', y='total_bill')"
   ]
  },
  {
   "cell_type": "markdown",
   "id": "73010e8d",
   "metadata": {},
   "source": [
    "when there are multiple observations in each category, it also uses bootstrapping a confidence interval around the estimate, which is plotted using error bars."
   ]
  },
  {
   "cell_type": "code",
   "execution_count": null,
   "id": "e1e2a584",
   "metadata": {},
   "outputs": [],
   "source": [
    "# catplot\n",
    "sns.catplot(data=tips, x='sex', y='total_bill', errorbar=None, kind='bar')"
   ]
  },
  {
   "cell_type": "code",
   "execution_count": null,
   "id": "c9286119",
   "metadata": {},
   "outputs": [],
   "source": [
    "# hue with barplot\n",
    "import numpy as np\n",
    "sns.barplot(data=tips, x='sex', y='total_bill', hue='smoker', estimator=np.max)"
   ]
  },
  {
   "cell_type": "markdown",
   "id": "2ce6684f",
   "metadata": {},
   "source": [
    "##### Pointplot"
   ]
  },
  {
   "cell_type": "code",
   "execution_count": null,
   "id": "2d2922e6",
   "metadata": {},
   "outputs": [],
   "source": [
    "# pointplot\n",
    "sns.pointplot(data=tips, x='sex', y='total_bill', hue='smoker', errorbar=None)"
   ]
  },
  {
   "cell_type": "code",
   "execution_count": null,
   "id": "f001939c",
   "metadata": {},
   "outputs": [],
   "source": [
    "# pointplot (simpler example)\n",
    "sns.pointplot(data=tips, x='sex', y='total_bill', estimator=np.mean)"
   ]
  },
  {
   "cell_type": "code",
   "execution_count": null,
   "id": "3cb3766b",
   "metadata": {},
   "outputs": [],
   "source": [
    "# pointplot (with hue example)\n",
    "sns.pointplot(data=tips, x='sex', y='total_bill', hue='smoker')"
   ]
  },
  {
   "cell_type": "markdown",
   "id": "ca13a829",
   "metadata": {},
   "source": [
    "##### countplot"
   ]
  },
  {
   "cell_type": "markdown",
   "id": "cbe2f52a",
   "metadata": {},
   "source": [
    "A special case for the barplot is when you want to show the number of observations in each category rather than computing a statistic for a second variable. This is similar to a histogram over a categorical, rahter than quantitative variable."
   ]
  },
  {
   "cell_type": "code",
   "execution_count": null,
   "id": "e4e46137",
   "metadata": {},
   "outputs": [],
   "source": [
    "# countplot\n",
    "sns.countplot(data=tips, x='sex')"
   ]
  },
  {
   "cell_type": "code",
   "execution_count": null,
   "id": "a13f816a",
   "metadata": {},
   "outputs": [],
   "source": [
    "# countplot (with hue)\n",
    "sns.countplot(data=tips, x='sex', hue='day')"
   ]
  },
  {
   "cell_type": "code",
   "execution_count": null,
   "id": "9435972d",
   "metadata": {},
   "outputs": [],
   "source": [
    "# faceting using catplot\n",
    "sns.catplot(data=tips, x='sex', y='total_bill', col='smoker', kind='box', row='time')"
   ]
  },
  {
   "cell_type": "markdown",
   "id": "875ab4e2",
   "metadata": {},
   "source": [
    "\n",
    "### 📌 What are **Categorical Plots**?\n",
    "\n",
    "* Plots where **x or y axis contains categorical (non-numeric) values**.\n",
    "* Used to visualize how a **numerical variable varies with categories**.\n",
    "\n",
    "#### 🔷 Types of Categorical Scatter Plots:\n",
    "\n",
    "#### 1. 🟢 **Strip Plot (`sns.stripplot`)**\n",
    "\n",
    "* A **scatter plot** for categorical data.\n",
    "* Plots a numerical value **against a categorical axis**.\n",
    "\n",
    "#### ✅ Features:\n",
    "\n",
    "* Adds **jitter (noise)** by default to spread points.\n",
    "* Useful when you want to **see individual observations**.\n",
    "* Points may overlap if no jitter is applied.\n",
    "\n",
    "#### ✅ Syntax Example:\n",
    "\n",
    "```python\n",
    "sns.stripplot(data=tips, x='day', y='total_bill', jitter=True)\n",
    "```\n",
    "\n",
    "#### 🔹 `jitter=` parameter:\n",
    "\n",
    "* Controls horizontal spreading (helps avoid overlap).\n",
    "* Default: `True` (some noise), or specify a value (e.g., `jitter=0.1`, `1.5` etc.).\n",
    "\n",
    "#### 🔹 With `hue`:\n",
    "\n",
    "```python\n",
    "sns.stripplot(data=tips, x='day', y='total_bill', hue='sex')\n",
    "```\n",
    "\n",
    "---\n",
    "\n",
    "### 2. 🔵 **Swarm Plot (`sns.swarmplot`)**\n",
    "\n",
    "* An improved version of strip plot.\n",
    "* Uses an internal **algorithm** to adjust point placement and **avoid overlap**.\n",
    "\n",
    "#### ✅ Features:\n",
    "\n",
    "* Better visual representation of **distribution**.\n",
    "* Great for **small to medium datasets**.\n",
    "\n",
    "#### ✅ Syntax:\n",
    "\n",
    "```python\n",
    "sns.swarmplot(data=tips, x='day', y='total_bill')\n",
    "```\n",
    "\n",
    "#### 🔹 With `hue`:\n",
    "\n",
    "```python\n",
    "sns.swarmplot(data=tips, x='day', y='total_bill', hue='sex')\n",
    "```\n",
    "\n",
    "---\n",
    "\n",
    "### 🔶 Two Types of Function Interfaces\n",
    "\n",
    "| Type             | Description                                | Example                          |\n",
    "| ---------------- | ------------------------------------------ | -------------------------------- |\n",
    "| **Axis-level**   | Works with a single plot at a time         | `sns.stripplot(...)`             |\n",
    "| **Figure-level** | Can manage multiple subplots in one figure | `sns.catplot(kind='strip', ...)` |\n",
    "\n",
    "#### ✅ Example with `catplot`:\n",
    "\n",
    "```python\n",
    "sns.catplot(data=tips, x='day', y='total_bill', kind='strip')\n",
    "```\n",
    "\n",
    "* `catplot()` is flexible – change `kind` to `'strip'`, `'swarm'`, `'box'`, `'violin'`, etc.\n",
    "\n",
    "---\n",
    "\n",
    "### 📝 Important Notes & Pointers\n",
    "\n",
    "| Concept                      | Key Detail                                                          |\n",
    "| ---------------------------- | ------------------------------------------------------------------- |\n",
    "| **Strip Plot**               | Basic scatter over categorical axis with optional jitter            |\n",
    "| **Swarm Plot**               | Scatter with automatic spread to show distribution clearly          |\n",
    "| **Jitter Parameter**         | Helps spread overlapping points horizontally                        |\n",
    "| **Hue Parameter**            | Adds a third variable using color                                   |\n",
    "| **catplot()**                | Figure-level function, `kind='strip'` or `'swarm'`                  |\n",
    "| **Swarm Better Than Strip?** | Yes, for **smaller datasets** where overlapping needs to be avoided |\n",
    "| **Strip Better For?**        | **Medium to large** datasets where performance matters more         |\n",
    "| **Use Case**                 | Visualize how a **numeric variable** varies across **categories**   |\n",
    "\n",
    "---\n",
    "\n",
    "### ✅ Summary in One Line:\n",
    "\n",
    "> Use **stripplot** or **swarmplot** when you want to visualize the **distribution of a numerical variable** with respect to a **categorical variable**, especially useful for **small to medium-sized datasets**.\n",
    "\n",
    "---\n",
    "\n",
    "### 🟨 What are **Distribution Plots**?\n",
    "\n",
    "* These plots **show how a single variable is distributed**.\n",
    "* Unlike scatter plots (which show relationships between two variables), distribution plots are mostly **univariate**.\n",
    "* **Key focus**: Range, spread, central tendency, skewness, and outliers.\n",
    "\n",
    "---\n",
    "\n",
    "### 📦 **Box Plot (`sns.boxplot`)**\n",
    "\n",
    "#### ✅ What It Shows:\n",
    "\n",
    "A Box Plot represents data distribution using a **5-number summary**:\n",
    "\n",
    "1. Minimum (excluding outliers)\n",
    "2. Q1 (25th percentile)\n",
    "3. Median (Q2, 50th percentile)\n",
    "4. Q3 (75th percentile)\n",
    "5. Maximum (excluding outliers)\n",
    "\n",
    "#### 🔹 Other Key Concepts:\n",
    "\n",
    "* **IQR (Interquartile Range)** = Q3 - Q1\n",
    "* **Whiskers**:\n",
    "\n",
    "  * Lower bound = Q1 - 1.5 × IQR\n",
    "  * Upper bound = Q3 + 1.5 × IQR\n",
    "* **Outliers**: Points beyond the whiskers.\n",
    "* **Symmetry/Skew**: Shape of the box indicates skewness.\n",
    "* Can be used to **compare categories** using a categorical variable on `x` axis.\n",
    "\n",
    "#### ✅ Syntax Examples:\n",
    "\n",
    "```python\n",
    "# Simple boxplot\n",
    "sns.boxplot(data=tips, y='total_bill')\n",
    "\n",
    "# Boxplot with categorical variable\n",
    "sns.boxplot(data=tips, x='sex', y='total_bill')\n",
    "\n",
    "# Using catplot (Figure-level)\n",
    "sns.catplot(data=tips, x='sex', y='total_bill', kind='box')\n",
    "```\n",
    "\n",
    "---\n",
    "\n",
    "### 🎻 **Violin Plot (`sns.violinplot`)**\n",
    "\n",
    "#### ✅ What It Is:\n",
    "\n",
    "* A **combination of Box Plot + KDE (Kernel Density Estimation)**.\n",
    "* Shows **distribution density** of the data along with summary stats.\n",
    "\n",
    "#### ✅ Key Features:\n",
    "\n",
    "* Wider sections of the violin indicate **more data points** in that range.\n",
    "* Shows **distribution shape**, especially useful to detect **multi-modality**.\n",
    "* Includes **median and quartiles** (like boxplot) inside.\n",
    "\n",
    "#### ✅ Syntax Examples:\n",
    "\n",
    "```python\n",
    "# Simple violin plot\n",
    "sns.violinplot(data=tips, x='sex', y='total_bill')\n",
    "\n",
    "# With hue and split\n",
    "sns.violinplot(data=tips, x='day', y='total_bill', hue='sex', split=True)\n",
    "\n",
    "# Using catplot\n",
    "sns.catplot(data=tips, x='sex', y='total_bill', kind='violin', hue='smoker', split=True)\n",
    "```\n",
    "\n",
    "---\n",
    "\n",
    "### 🧠 Quick Revision Notes\n",
    "\n",
    "| Concept                | Details                                                                   |\n",
    "| ---------------------- | ------------------------------------------------------------------------- |\n",
    "| **Box Plot**           | Uses 5-number summary to show spread, outliers, skew                      |\n",
    "| **Violin Plot**        | Adds KDE to show shape of the distribution                                |\n",
    "| **IQR**                | Q3 - Q1, used to detect outliers                                          |\n",
    "| **Outliers**           | Points beyond Q1 - 1.5×IQR and Q3 + 1.5×IQR                               |\n",
    "| **KDE**                | Smoothed estimate of distribution                                         |\n",
    "| **`hue` parameter**    | Add a third variable with color                                           |\n",
    "| **`split=True`**       | Used with `hue` to combine violin plots side-by-side                      |\n",
    "| **Figure-level plots** | Use `sns.catplot(kind='box')` or `kind='violin'` for multi-subplot layout |\n",
    "| **Use case**           | Excellent for **univariate** analysis and **group comparison**            |\n",
    "\n",
    "---\n",
    "\n",
    "### 🧾 Summary:\n",
    "\n",
    "> **Box plots** show distribution, median, IQR, and outliers clearly.\n",
    "> **Violin plots** enhance it by adding the **shape of distribution** using KDE.\n",
    "> Use **hue and split** to compare groups, and **catplot** for subplot flexibility.\n",
    "\n",
    "---\n",
    "\n",
    "### ✅ **1. Bar Plot (`sns.barplot`)**\n",
    "\n",
    "#### 📌 Purpose:\n",
    "\n",
    "To show an **aggregate statistic** (default: **mean**) of a **numerical variable** across **categories**.\n",
    "\n",
    "#### 📊 Example:\n",
    "\n",
    "```python\n",
    "sns.barplot(data=tips, x='sex', y='total_bill')\n",
    "```\n",
    "\n",
    "#### 🔑 Key Points:\n",
    "\n",
    "* `x`: **Categorical variable**\n",
    "* `y`: **Numerical variable**\n",
    "* **Default estimator**: `mean`\n",
    "* Can be changed using `estimator=` (e.g., `np.median`, `min`, `max`, `np.std`)\n",
    "* **Error bars**: Represent **confidence intervals** (by default, Seaborn uses **bootstrapping**)\n",
    "\n",
    "  * To remove: `errorbar=None` (may vary by version)\n",
    "\n",
    "#### 🔁 With hue:\n",
    "\n",
    "```python\n",
    "sns.barplot(data=tips, x='sex', y='total_bill', hue='smoker')\n",
    "```\n",
    "\n",
    "---\n",
    "\n",
    "### ✅ **2. Point Plot (`sns.pointplot`)**\n",
    "\n",
    "#### 📌 Purpose:\n",
    "\n",
    "To visualize **trends or differences** across **categorical variables**, using **connected lines**.\n",
    "\n",
    "#### 📊 Example:\n",
    "\n",
    "```python\n",
    "sns.pointplot(data=tips, x='sex', y='total_bill', hue='smoker')\n",
    "```\n",
    "\n",
    "#### 🔑 Key Points:\n",
    "\n",
    "* Similar to bar plot, but **adds lines connecting points** to **highlight changes**.\n",
    "* More useful for **comparative analysis**.\n",
    "* Shows **central tendency** with error bars.\n",
    "* Great for comparing **group differences** (e.g., male vs female for smokers vs non-smokers)\n",
    "\n",
    "---\n",
    "\n",
    "### ✅ **3. Count Plot (`sns.countplot`)**\n",
    "\n",
    "#### 📌 Purpose:\n",
    "\n",
    "To show the **count (frequency)** of observations for each category.\n",
    "\n",
    "#### 📊 Example:\n",
    "\n",
    "```python\n",
    "sns.countplot(data=tips, x='sex')\n",
    "```\n",
    "\n",
    "#### 🔑 Key Points:\n",
    "\n",
    "* Equivalent to `value_counts().plot(kind='bar')` for **categorical variables**.\n",
    "* No `y` axis needed (it's **automatically count**).\n",
    "* Add `hue` to **breakdown further**:\n",
    "\n",
    "```python\n",
    "sns.countplot(data=tips, x='day', hue='sex')\n",
    "```\n",
    "\n",
    "---\n",
    "\n",
    "### ✅ **4. Faceting (`sns.catplot`, `col=`, `row=`)**\n",
    "\n",
    "#### 📌 Purpose:\n",
    "\n",
    "To **split plots into subplots** based on one or more categorical variables.\n",
    "\n",
    "#### 📊 Example:\n",
    "\n",
    "```python\n",
    "sns.catplot(data=tips, x='sex', y='total_bill', kind='box', col='smoker')\n",
    "```\n",
    "\n",
    "#### 🔑 Key Points:\n",
    "\n",
    "* Use `col=` and/or `row=` for **facet grids**.\n",
    "* Use `col_wrap=` to wrap plots into multiple rows.\n",
    "* Can be used with **any kind of catplot**: `'bar'`, `'violin'`, `'box'`, `'point'`, `'strip'`, `'swarm'`.\n",
    "\n",
    "---\n",
    "\n",
    "### 🧠 Summary Table of Seaborn Categorical Plots:\n",
    "\n",
    "| Plot Type      | Purpose                                      | Shows                     | Key Function    |\n",
    "| -------------- | -------------------------------------------- | ------------------------- | --------------- |\n",
    "| **Bar Plot**   | Compare aggregate stats (mean, median, etc.) | Mean + error bars         | `sns.barplot`   |\n",
    "| **Point Plot** | Compare trends across categories             | Points + connecting lines | `sns.pointplot` |\n",
    "| **Count Plot** | Show count of observations per category      | Count bars                | `sns.countplot` |\n",
    "| **Faceting**   | Multiple plots split by categories           | Subplots by category      | `sns.catplot`   |\n",
    "\n",
    "---\n",
    "\n",
    "### ✅ General Tips:\n",
    "\n",
    "* Use `hue=` to add **grouping** within plots.\n",
    "* Use `estimator=` in `barplot` to customize aggregation (e.g., `np.mean`, `np.max`)\n",
    "* Use `errorbar=None` or `ci=None` to remove error bars (may vary with Seaborn versions).\n",
    "* `catplot()` is a **figure-level function** (for faceting), while others are **axes-level**.\n",
    "\n",
    "---\n",
    "\n",
    "start with (46:34)"
   ]
  },
  {
   "cell_type": "markdown",
   "id": "100e25a6",
   "metadata": {},
   "source": []
  }
 ],
 "metadata": {
  "kernelspec": {
   "display_name": "venv",
   "language": "python",
   "name": "python3"
  },
  "language_info": {
   "codemirror_mode": {
    "name": "ipython",
    "version": 3
   },
   "file_extension": ".py",
   "mimetype": "text/x-python",
   "name": "python",
   "nbconvert_exporter": "python",
   "pygments_lexer": "ipython3",
   "version": "3.12.1"
  }
 },
 "nbformat": 4,
 "nbformat_minor": 5
}
