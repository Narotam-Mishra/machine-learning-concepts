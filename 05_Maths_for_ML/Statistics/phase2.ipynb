{
 "cells": [
  {
   "cell_type": "markdown",
   "id": "a046f83b",
   "metadata": {},
   "source": [
    "## Descriptive Statistics Part-2"
   ]
  },
  {
   "cell_type": "markdown",
   "id": "d574d54e",
   "metadata": {},
   "source": [
    "### Quantiles and Percentiles\n",
    "- Quantiles are statistical measures used to divide a set of numerical data into equal-sized groups, with each group containing an equal number of observations. Quantiles are important measures of variability and can be used to: understand distribution of data, summarize and compare different datasets. They can also be \n",
    "used to identify outliers.\n",
    "\n",
    "- There are several types of quantiles used in statistical analysis, including :-\n",
    "1. Quartiles: Divide the data into four equal parts, Q1 (25th percentile), Q2 \n",
    "(50th percentile or median), and Q3 (75th percentile).\n",
    "\n",
    "2. Deciles: Divide the data into ten equal parts, D1 (10th percentile), D2 (20th percentile), ..., D9 (90th percentile).\n",
    "\n",
    "3. Percentiles: Divide the data into 100 equal parts, P1 (1st percentile), P2 (2nd percentile), ..., P99 (99th percentile).\n",
    "\n",
    "4. Quintiles: Divides the data into 5 equal parts,\n",
    "\n",
    "Things to remember while calculating these measures :-\n",
    "- Data should be sorted from low to high.\n",
    "- We are basically finding the location of an observation.\n",
    "- They are not actual values in the data.\n",
    "- All other tiles can be easily derived from Percentiles."
   ]
  },
  {
   "cell_type": "markdown",
   "id": "b00a2791",
   "metadata": {},
   "source": [
    "#### Percentiles\n",
    "- Percentile :- A percentile is a statistical measure that represents the percentage of observations in a dataset that fall below a particular value. For example, the 75th percentile is the value below which 75% of the observations in the dataset fall.\n",
    "\n",
    "##### Formula to Calculate the Percentile Value\n",
    "\n",
    "PL = (p / 100) × (N + 1)\n",
    "\n",
    "\n",
    "Where:\n",
    "- **PL** = the desired percentile value location  \n",
    "- **N** = the total number of observations in the dataset  \n",
    "- **p** = the percentile rank (expressed as a percentage)  \n"
   ]
  },
  {
   "cell_type": "markdown",
   "id": "db16a662",
   "metadata": {},
   "source": [
    "### 5 number summary in statistics\n",
    "- The five-number summary is a descriptive statistic that provides a summary of a dataset. It consists of five values that divide the dataset into four equal parts, also known as quartiles. The five-number summary includes the following values :-\n",
    "\n",
    "1. Minimum value: The smallest value in the dataset.\n",
    "\n",
    "2. First quartile (Q1): The value that separates the lowest 25% of the data from \n",
    "the rest of the dataset.\n",
    "\n",
    "3. Median (Q2): The value that separates the lowest 50% from the highest 50% \n",
    "of the data.\n",
    "\n",
    "4. Third quartile (Q3): The value that separates the lowest 75% of the data from \n",
    "the highest 25% of the data.\n",
    "\n",
    "5. Maximum value: The largest value in the dataset.\n",
    "\n",
    "- Interquartile Range :- The interquartile range (IQR) is a measure of variability that is based on the five-number summary of a dataset. Specifically, the IQR is defined as the difference between the third quartile (Q3) and the first quartile (Q1) of a dataset.  \n"
   ]
  },
  {
   "cell_type": "markdown",
   "id": "4d9078fd",
   "metadata": {},
   "source": [
    "### Boxplot\n",
    "- A box plot, also known as a box-and-whisker plot, is a graphical representation of a dataset that shows the distribution of the data. The box plot displays a summary of the data, including the minimum and maximum values, the first quartile (Q1), the median (Q2), and the third quartile (Q3).\n",
    "\n",
    "- Benefits of a Boxplot :-\n",
    "1. Easy way to see the distribution of data\n",
    "2. Tells about skewness of data\n",
    "3. Can identify outliers\n",
    "4. Compare 2 categories of data\n",
    "\n",
    "- Note :- We can Boxplot to detect outliers."
   ]
  }
 ],
 "metadata": {
  "language_info": {
   "name": "python"
  }
 },
 "nbformat": 4,
 "nbformat_minor": 5
}
