{
 "cells": [
  {
   "cell_type": "markdown",
   "id": "a046f83b",
   "metadata": {},
   "source": [
    "## Descriptive Statistics Part-2"
   ]
  },
  {
   "cell_type": "markdown",
   "id": "d574d54e",
   "metadata": {},
   "source": [
    "### Quantiles and Percentiles\n",
    "- Quantiles are statistical measures used to divide a set of numerical data into equal-sized groups, with each group containing an equal number of observations. Quantiles are important measures of variability and can be used to: understand distribution of data, summarize and compare different datasets. They can also be \n",
    "used to identify outliers.\n",
    "\n",
    "- There are several types of quantiles used in statistical analysis, including :-\n",
    "1. Quartiles: Divide the data into four equal parts, Q1 (25th percentile), Q2 \n",
    "(50th percentile or median), and Q3 (75th percentile).\n",
    "\n",
    "2. Deciles: Divide the data into ten equal parts, D1 (10th percentile), D2 (20th percentile), ..., D9 (90th percentile).\n",
    "\n",
    "3. Percentiles: Divide the data into 100 equal parts, P1 (1st percentile), P2 (2nd percentile), ..., P99 (99th percentile).\n",
    "\n",
    "4. Quintiles: Divides the data into 5 equal parts,\n",
    "\n",
    "Things to remember while calculating these measures :-\n",
    "- Data should be sorted from low to high.\n",
    "- We are basically finding the location of an observation.\n",
    "- They are not actual values in the data.\n",
    "- All other tiles can be easily derived from Percentiles."
   ]
  },
  {
   "cell_type": "markdown",
   "id": "b00a2791",
   "metadata": {},
   "source": [
    "#### Percentiles\n",
    "- Percentile :- A percentile is a statistical measure that represents the percentage of observations in a dataset that fall below a particular value. For example, the 75th percentile is the value below which 75% of the observations in the dataset fall.\n",
    "\n",
    "##### Formula to Calculate the Percentile Value\n",
    "\n",
    "PL = (p / 100) × (N + 1)\n",
    "\n",
    "\n",
    "Where:\n",
    "- **PL** = the desired percentile value location  \n",
    "- **N** = the total number of observations in the dataset  \n",
    "- **p** = the percentile rank (expressed as a percentage)  \n"
   ]
  },
  {
   "cell_type": "markdown",
   "id": "db16a662",
   "metadata": {},
   "source": [
    "### 5 number summary in statistics\n",
    "- The five-number summary is a descriptive statistic that provides a summary of a dataset. It consists of five values that divide the dataset into four equal parts, also known as quartiles. The five-number summary includes the following values :-\n",
    "\n",
    "1. Minimum value: The smallest value in the dataset.\n",
    "\n",
    "2. First quartile (Q1): The value that separates the lowest 25% of the data from \n",
    "the rest of the dataset.\n",
    "\n",
    "3. Median (Q2): The value that separates the lowest 50% from the highest 50% \n",
    "of the data.\n",
    "\n",
    "4. Third quartile (Q3): The value that separates the lowest 75% of the data from \n",
    "the highest 25% of the data.\n",
    "\n",
    "5. Maximum value: The largest value in the dataset.\n",
    "\n",
    "- Interquartile Range :- The interquartile range (IQR) is a measure of variability that is based on the five-number summary of a dataset. Specifically, the IQR is defined as the difference between the third quartile (Q3) and the first quartile (Q1) of a dataset.  \n"
   ]
  },
  {
   "cell_type": "markdown",
   "id": "4d9078fd",
   "metadata": {},
   "source": [
    "### Boxplot\n",
    "- A box plot, also known as a box-and-whisker plot, is a graphical representation of a dataset that shows the distribution of the data. The box plot displays a summary of the data, including the minimum and maximum values, the first quartile (Q1), the median (Q2), and the third quartile (Q3).\n",
    "\n",
    "- Benefits of a Boxplot :-\n",
    "1. Easy way to see the distribution of data\n",
    "2. Tells about skewness of data\n",
    "3. Can identify outliers\n",
    "4. Compare 2 categories of data\n",
    "\n",
    "- Note :- Using Boxplot, We can detect outliers."
   ]
  },
  {
   "cell_type": "markdown",
   "id": "efe4be51",
   "metadata": {},
   "source": [
    "### Covariance"
   ]
  },
  {
   "cell_type": "markdown",
   "id": "e524d9b7",
   "metadata": {},
   "source": [
    "- Covariance is a statistical measure that describes the degree to which two variables are linearly related. It measures how much two variables change together, such that when one variable increases, does the other variable also increase, or does it decrease?\n",
    "\n",
    "- If the covariance between two variables is positive, it means that the variables tend to move together in the same direction. If the covariance is negative, it means that the variables tend to move in opposite directions. A covariance of zero indicates that the variables are not linearly related.\n",
    "\n",
    "### How Covriance is calculated?\n",
    "\n",
    "#### Covariance Formula\n",
    "\n",
    "#### Population\n",
    "$$\n",
    "\\sigma_{xy} = \\frac{\\sum (X - \\mu_x)(Y - \\mu_y)}{N}\n",
    "$$\n",
    "\n",
    "Where:  \n",
    "- \\(X, Y\\) = The value of X and Y in the population  \n",
    "- $\\mu_x, \\mu_y$ = The population mean of X and Y  \n",
    "- \\(N\\) = Total number of observations  \n",
    "\n",
    "---\n",
    "\n",
    "### Sample\n",
    "$$\n",
    "s_{xy} = \\frac{\\sum (X - \\bar{X})(Y - \\bar{Y})}{n - 1}\n",
    "$$\n",
    "\n",
    "Where:  \n",
    "- \\(X, Y\\) = The value of X and Y in the sample data  \n",
    "- $\\bar{X}, \\bar{Y}$ = The sample mean of X and Y  \n",
    "- \\(n\\) = Total number of observations  \n",
    "\n",
    "\n",
    "#### Disadvantage of Covariance\n",
    "- One limitation of covariance is that it does not tell us about the strength of the relationship between two variables, since the magnitude of covariance is affected by the scale of the variables.\n",
    "\n",
    "- Note - Covariance of a variable with itself.\n"
   ]
  },
  {
   "cell_type": "code",
   "execution_count": 1,
   "id": "ec0720a1",
   "metadata": {},
   "outputs": [],
   "source": [
    "import seaborn as sns\n",
    "import pandas as pd\n",
    "import matplotlib.pyplot as plt\n",
    "import numpy as np"
   ]
  },
  {
   "cell_type": "code",
   "execution_count": 2,
   "id": "84139584",
   "metadata": {},
   "outputs": [],
   "source": [
    "df = pd.DataFrame()"
   ]
  },
  {
   "cell_type": "code",
   "execution_count": 3,
   "id": "f6294c47",
   "metadata": {},
   "outputs": [],
   "source": [
    "from re import X\n",
    "x = pd.Series([12,25,68,42,113])\n",
    "y = pd.Series([11,29,58,121,100])"
   ]
  },
  {
   "cell_type": "code",
   "execution_count": 4,
   "id": "a57eabfe",
   "metadata": {},
   "outputs": [],
   "source": [
    "df['x'] = x\n",
    "df['y'] = y"
   ]
  },
  {
   "cell_type": "code",
   "execution_count": null,
   "id": "d8299c71",
   "metadata": {},
   "outputs": [],
   "source": [
    "df"
   ]
  },
  {
   "cell_type": "code",
   "execution_count": null,
   "id": "c500c367",
   "metadata": {},
   "outputs": [],
   "source": [
    "# example 1 -  to illustrate disadvantage of Covariance\n",
    "\n",
    "fig, (ax1, ax2) = plt.subplots(1, 2, figsize=(10, 3))\n",
    "\n",
    "# plot scatterplots on each axes\n",
    "ax1.scatter(df['x'], df['y'])\n",
    "ax2.scatter(df['x']*2, df['y']*2)\n",
    "\n",
    "ax1.set_title(\"Covariance - \" + str(np.cov(df['x'], df['y'])[0,1]))\n",
    "ax2.set_title(\"Covariance - \" + str(np.cov(df['x']*2, df['y']*2)[0,1]))\n",
    "\n",
    "print(np.cov(df['x'],df['y'])[0,1])\n",
    "print(np.cov(df['x']*2,df['y']*2)[0,1])"
   ]
  },
  {
   "cell_type": "code",
   "execution_count": null,
   "id": "cae1dab4",
   "metadata": {},
   "outputs": [],
   "source": [
    "# example 2 -  to illustrate disadvantage of Covariance\n",
    "\n",
    "fig, ax = plt.subplots(1, 3, figsize=(15, 3))\n",
    "\n",
    "# Plot scatterplots on each axes\n",
    "ax[0].scatter(df['x'], df['x'])\n",
    "ax[1].scatter(df['x'], df['y'])\n",
    "ax[2].scatter(df['x']*2, df['y']*2)\n",
    "\n",
    "ax[0].set_title(\"Covariance - \" + str(np.cov(df['x'],df['x'])[0,1]))\n",
    "ax[1].set_title(\"Covariance - \" + str(np.cov(df['x'],df['y'])[0,1]))\n",
    "ax[2].set_title(\"Covariance - \" + str(np.cov(df['x']*2,df['y']*2)[0,1]))"
   ]
  },
  {
   "cell_type": "markdown",
   "id": "1f4c9142",
   "metadata": {},
   "source": [
    "### Correlation"
   ]
  },
  {
   "cell_type": "markdown",
   "id": "00a73d78",
   "metadata": {},
   "source": [
    "- Correlation refers to a statistical relationship between two or more variables. Specifically, it measures the degree to which two variables are related and \n",
    "how they tend to change together.\n",
    "\n",
    "- Correlation is often measured using a statistical tool called the correlation coefficient, which ranges from -1 to 1. A correlation coefficient of -1 indicates a perfect negative correlation, a correlation coefficient of 0 indicates no correlation, and a correlation coefficient of 1 indicates a perfect positive correlation.\n",
    "\n",
    "#### Correlation Formula\n",
    "\n",
    "The formula for correlation is:\n",
    "\n",
    "$$\n",
    "\\text{Correlation} = \\frac{\\text{Cov}(x, y)}{\\sigma_x \\cdot \\sigma_y}\n",
    "$$\n",
    "\n",
    "### Where:\n",
    "- **Cov(x, y)** = Covariance between variables **x** and **y**  \n",
    "- **σₓ** = Standard deviation of variable **x**  \n",
    "- **σᵧ** = Standard deviation of variable **y**  \n",
    "- **Correlation** value ranges between **-1 and 1**:\n",
    "  - **1** → Perfect positive correlation  \n",
    "  - **-1** → Perfect negative correlation  \n",
    "  - **0** → No correlation\n"
   ]
  },
  {
   "cell_type": "code",
   "execution_count": null,
   "id": "2f353c22",
   "metadata": {},
   "outputs": [],
   "source": [
    "# Correlation example - 1\n",
    "\n",
    "fig, (ax1, ax2) = plt.subplots(1, 2, figsize=(10, 3))\n",
    "\n",
    "# Plot scatterplots on each axes\n",
    "ax1.scatter(df['x'], df['x'])\n",
    "ax2.scatter(df['x'], df['y'])\n",
    "\n",
    "ax1.set_title(\"Correlation - \" + str(df['x'].corr(df['x'])))\n",
    "ax2.set_title(\"Correlation - \" + str((df['x']).corr(df['y'])))"
   ]
  },
  {
   "cell_type": "code",
   "execution_count": null,
   "id": "25b6cd6a",
   "metadata": {},
   "outputs": [],
   "source": [
    "# Correlation example - 2 (using scale)\n",
    "\n",
    "fig, (ax1, ax2) = plt.subplots(1, 2, figsize=(10, 3))\n",
    "\n",
    "# Plot scatterplots on each axes\n",
    "ax1.scatter(df['x'], df['y'])\n",
    "ax2.scatter(df['x']*2, df['y'])\n",
    "\n",
    "ax1.set_title(\"Correlation - \" + str(df['x'].corr(df['y'])))\n",
    "ax2.set_title(\"Correlation - \" + str((df['x']*2).corr(df['y']*2)))"
   ]
  },
  {
   "cell_type": "markdown",
   "id": "af432e32",
   "metadata": {},
   "source": [
    "### Correlation and Causation\n",
    "The phrase \"correlation does not imply causation\" means that just because two variables are associated with each other, it does not necessarily mean that one causes the other. In other words, a correlation between two variables does not necessarily imply that one variable is the reason for the other variable's behaviour.\n",
    "\n",
    "Suppose there is a positive correlation between the number of firefighters present at a fire and the amount of damage caused by the fire. One might be tempted to conclude that the presence of firefighters causes more damage. However, this correlation could be explained by a third variable - the severity of the fire. More severe fires might require more firefighters to be present, and \n",
    "also cause more damage.\n",
    "\n",
    "Thus, while correlations can provide valuable insights into how different variables are related, they cannot be used to establish causality. Establishing causality often requires additional evidence such as experiments, randomized controlled trials, or well-designed observational studies."
   ]
  },
  {
   "cell_type": "markdown",
   "id": "4a3802b8",
   "metadata": {},
   "source": [
    "### Visualize Multiple Variables\n",
    "\n",
    "- 3D Scatter Plots\n",
    "- Hue Parameter\n",
    "- Facetgrids\n",
    "- Pairplots\n",
    "- Bubble Plots"
   ]
  }
 ],
 "metadata": {
  "kernelspec": {
   "display_name": "venv",
   "language": "python",
   "name": "python3"
  },
  "language_info": {
   "codemirror_mode": {
    "name": "ipython",
    "version": 3
   },
   "file_extension": ".py",
   "mimetype": "text/x-python",
   "name": "python",
   "nbconvert_exporter": "python",
   "pygments_lexer": "ipython3",
   "version": "3.12.1"
  }
 },
 "nbformat": 4,
 "nbformat_minor": 5
}
