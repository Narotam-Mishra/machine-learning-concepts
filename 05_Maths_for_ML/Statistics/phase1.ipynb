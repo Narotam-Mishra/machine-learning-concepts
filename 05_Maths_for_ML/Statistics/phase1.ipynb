{
 "cells": [
  {
   "cell_type": "markdown",
   "id": "25e211c1",
   "metadata": {},
   "source": [
    "### What is Statistics?\n",
    "- Statistics ia branch of Mathematics that involves collecting, analysing, interpreting and presenting data. It provides tools and methods to understand and make sense of large amounts of data and to draw conclusions and make decisions based on the data.\n",
    "\n",
    "Examples :-\n",
    "1. Business - Data Analysis (Identifying customer behaviour) and Demand Forecasting\n",
    "2. Medical - Identify efficacy of new medicines (Clinical trails), Identifying risk factor for diseases (Epidemiology)\n",
    "3. Government & Politics - Conducting surveys, Polling\n",
    "4. Environmental Science - Climate research"
   ]
  },
  {
   "cell_type": "markdown",
   "id": "3d8ed886",
   "metadata": {},
   "source": [
    "### Types of Statistics :-\n",
    "1. Descriptive Statistics - Descriptive Statistics deals witht the collection, organization, analysis, Interpretation, and presentation of data. It focuses on summarizing and describing the main features of a set of data, without making inferences or predictions about the large population.\n",
    "\n",
    "2. Inferential Statistics - Inferential statistics deals with making conclusions and predictions about a population based on a sample. It involves the use of probability theory to estimate the likelihood of certain events occurring, hypothesis testing to determine if a certain claim about a population is supported by the data, and regression analysis to examine the relationships between variables.\n",
    "\n",
    "Inferential statistics is a branch of statistics that deals with making inferences or predictions about a larger population based on a sample of data. It involves using statistical techniques to test hypotheses and draw conclusions from data. Some of the topics that come under inferential statistics are :-\n",
    "- **Hypothesis testing**: This involves testing a hypothesis about a population parameter based \n",
    "on a sample of data. For example, testing whether the mean height of a population is \n",
    "different from a given value.\n",
    "\n",
    "- **Confidence intervals**: This involves estimating the range of values that a population \n",
    "parameter could take based on a sample of data. For example, estimating the population \n",
    "mean height within a given confidence level.\n",
    "\n",
    "- **Analysis of variance (ANOVA)**: This involves comparing means across multiple groups to \n",
    "determine if there are any significant differences. For example, comparing the mean \n",
    "height of individuals from different regions.\n",
    "\n",
    "- **Regression analysis**: This involves modelling the relationship between a dependent \n",
    "variable and one or more independent variables. For example, predicting the sales of a \n",
    "product based on advertising expenditure.\n",
    "\n",
    "- **Chi-square tests**: This involves testing the independence or association between two \n",
    "categorical variables. For example, testing whether gender and occupation are \n",
    "independent variables.\n",
    "\n",
    "- **Sampling techniques**: This involves ensuring that the sample of data is representative of \n",
    "the population. For example, using random sampling to select individuals from a \n",
    "population.\n",
    "\n",
    "- **Bayesian statistics**: This is an alternative approach to statistical inference that involves \n",
    "updating beliefs about the probability of an event based on new evidence. For example, \n",
    "updating the probability of a disease given a positive test result."
   ]
  },
  {
   "cell_type": "markdown",
   "id": "1b549d39",
   "metadata": {},
   "source": [
    "### Types of Data \n",
    "\n",
    "Types of data can be broadly classified into two main categories:\n",
    "\n",
    "#### 1. Categorical or Qualitative Data\n",
    "\n",
    "* **Nominal Data**\n",
    "\n",
    "  * No natural order\n",
    "  * Example: Gender, Colors, Names\n",
    "\n",
    "* **Ordinal Data**\n",
    "\n",
    "  * Has a meaningful order but no fixed interval\n",
    "  * Example: Rankings (e.g., Small, Medium, Large)\n",
    "\n",
    "#### 2. Numerical or Quantitative Data\n",
    "\n",
    "* **Discrete Data**\n",
    "\n",
    "  * Countable, often integers\n",
    "  * Example: Number of children, Number of cars\n",
    "\n",
    "* **Continuous Data**\n",
    "\n",
    "  * Measurable, can take any value within a range\n",
    "  * Example: Age, Height, Weight\n",
    "\n",
    "````"
   ]
  },
  {
   "cell_type": "markdown",
   "id": "c8703df4",
   "metadata": {},
   "source": [
    "### Measure of Central Tendency\n",
    "- A measure of central tendency is a statistical measure that represents a typical or \n",
    "central value for a dataset. It provides a summary of the data by identifying a \n",
    "single value that is most representative of the dataset as a whole. It is measured using :-\n",
    "\n",
    "- Mean :- The mean is the sum of all values in the dataset divided by the number of values. \n",
    "\n",
    "Problem with Mean :- The major flaw with `mean` is that if there is any outliers in the dataset then mean can be incorrect.\n",
    "\n",
    "- Median :- The median is the middle value in the dataset when the data is arranged in order\n",
    "\n",
    "- Mode :- The mode is the value that appears most frequently in the dataset. Mode is useful with categorical dataset.\n",
    "\n",
    "- Weighted Mean :- The weighted mean is the sum of the products of each value and its weight, divided by the sum of the weights. It is used to calculate a mean when the values in the dataset have different importance or frequency.\n",
    "\n",
    "- Trimmed Mean :- A trimmed mean is calculated by removing a certain percentage of the smallest and largest values (outliers) from the dataset and then taking the mean of the remaining values. The percentage of values removed is called the trimming percentage. It is used to remove the impact of outliers on dataset"
   ]
  },
  {
   "cell_type": "markdown",
   "id": "6490780e",
   "metadata": {},
   "source": [
    "### Measure of Dispersion\n",
    "- A measure of dispersion is a statistical measure that describes the spread or variability of a dataset. It provides information about how the data is distributed around the central tendency (mean, median or mode) of the dataset. For measure of Dispesion, we use :-\n",
    "\n",
    "1. Range :- The range is the difference between the maximum and minimum values in the dataset. It is a simple measure of dispersion that is easy to calculate but can be affected by outliers.\n",
    "\n",
    "2. Variance :- The variance is the average of the squared differences between each data point and the mean. It measures the average distance of each data point from the mean and is useful in comparing the\n",
    "dispersion of datasets with different means.\n",
    "\n",
    "- Mean Absolute Deviation (MAD) is less prone to outliers in comparison to Variance but we can use this to make inference.\n",
    "\n",
    "3. Standard Deviation :- The standard deviation is the square root of the variance. It is a widely used to measure of dispersion that is useful in describing the shape of a distribution.\n",
    "\n",
    "4. Coefficient of Variation :- Coefficient of Variation (CV): The CV is the ratio of the standard deviation to the mean expressed as a percentage. It is used to compare the variability of datasets with different means and is commonly used in fields such as biology, chemistry, and engineering. The coefficient of variation (CV) is a statistical measure that expresses the amount of variability in a dataset relative to the mean. It is a dimensionless quantity that is expressed as a percentage"
   ]
  },
  {
   "cell_type": "markdown",
   "id": "bf2baa4b",
   "metadata": {},
   "source": [
    "### Graph for Univariate Analysis\n",
    "\n",
    "- We used to perform this on single column. There are two types of data that we usually analyze in Univariate Analysis :-\n",
    "a. Categorical\n",
    "b. Numerical\n",
    "\n",
    "1. Categorical - Frequency Distribution Table & Cumulative Frequency \n",
    "- A frequency distribution table is a table that summarizes the number of times (or frequency) that each value occurs in a dataset. Types of graph that can be used in such dataset is `BarGraph`\n",
    "\n",
    "- **Relative frequency** is the proportion or percentage of a category in a dataset or sample. It is calculated by dividing the frequency of a category by the total number of observations in the dataset or sample. We can use `PieChart` graph for such dataset.\n",
    "\n",
    "- **Cumulative frequency** is the running total of frequencies of a variable or category in a dataset or sample. It is calculated by adding up the frequencies of the current category and all previous categories in the dataset or sample.\n",
    "\n",
    "2. Numerical - Frequency Distribution Table & Histogram\n",
    "- Type of graphs that can be used here are Histogram,"
   ]
  },
  {
   "cell_type": "markdown",
   "id": "8d22fa35",
   "metadata": {},
   "source": [
    "### Graphs for Bivariate Analysis\n",
    "\n",
    "- We used to perform this on two or more than two columns. There are three types of data that we usually analyze in Bivariate Analysis :-\n",
    "1. Categorical Categorical\n",
    "2. Numerical Numerical\n",
    "3. Numerical Categorical\n"
   ]
  },
  {
   "cell_type": "markdown",
   "id": "a01d5c9f",
   "metadata": {},
   "source": []
  }
 ],
 "metadata": {
  "kernelspec": {
   "display_name": "venv",
   "language": "python",
   "name": "python3"
  },
  "language_info": {
   "name": "python",
   "version": "3.12.1"
  }
 },
 "nbformat": 4,
 "nbformat_minor": 5
}
