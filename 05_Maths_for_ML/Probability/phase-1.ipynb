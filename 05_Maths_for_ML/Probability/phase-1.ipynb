{
 "cells": [
  {
   "cell_type": "markdown",
   "id": "5ef09e35",
   "metadata": {},
   "source": [
    "### Probability Distribution Functions - PDF, PMF & CDF"
   ]
  },
  {
   "cell_type": "markdown",
   "id": "e6c1503f",
   "metadata": {},
   "source": [
    "### Random Variables\n",
    "- A Random Variable is a set of possible values from a random experiment.\n",
    "\n",
    "#### Types of Random variables :-\n",
    "1. Discrete Random Variable - Example can be Outcome of coin toss {H, T} or outcome of dice roll {1,2,3,4,5,6}\n",
    "\n",
    "2. Continuous Random Variable - CGPA of a collage student {0,10}"
   ]
  },
  {
   "cell_type": "markdown",
   "id": "573d297b",
   "metadata": {},
   "source": [
    "### Probability Distributions\n",
    "- A probability distribution is a list of all of the possible outcomes of a random variable along with their corresponding probability values."
   ]
  },
  {
   "cell_type": "markdown",
   "id": "8f9d7da9",
   "metadata": {},
   "source": [
    "### Problem with Distribution\n",
    "- In many scenarios, the number of outcomes can be much larger and hence a table would be tedious to write down. Worse still,the number of possible outcomes could be infinite, in which case, good luck writing a table for that.\n",
    "Example - Height of people, Rolling 10 dice together\n",
    "\n",
    "#### Solution - Function?\n",
    "- What if we use a mathematical function to model the relationship between outcome and probability?"
   ]
  },
  {
   "cell_type": "markdown",
   "id": "b07407e6",
   "metadata": {},
   "source": [
    "### Probability Distribution Function (PDF)\n",
    "- It is a mathematical relationship between all the possible outcomes of random variables with probabilities of outcomes.\n",
    "\n",
    "Note - A lot of time Probability Distribution and Probability Distribution Functions are used interchangeably."
   ]
  },
  {
   "cell_type": "markdown",
   "id": "77127ba1",
   "metadata": {},
   "source": [
    "### Types of Probability Distributions \n",
    "- Discrete Random Variable\n",
    "- Continuous Random Variable"
   ]
  },
  {
   "cell_type": "markdown",
   "id": "94173b4f",
   "metadata": {},
   "source": [
    "#### Some Famous Probability Distributions\n",
    "- Normal distribution\n",
    "- Uniform distribution\n",
    "- Beta distribution\n",
    "- Bernoulli distribution\n",
    "- Binomial distribution\n",
    "\n",
    "\n",
    "#### Why are Probability Distributions important?\n",
    "- Gives an idea about the shape/distribution of the data.\n",
    "- And if our data follows a famous distribution then we automatically know a lot about the data.\n",
    "\n",
    "#### A note on Parameters (PDF)\n",
    "- Parameters in probability distributions are numerical values that determine the shape, location, and scale of the distribution.\n",
    "- Different probability distributions have different sets of parameters that determine their shape and characteristics, and understanding these parameters is essential in statistical \n",
    "analysis and inference."
   ]
  },
  {
   "cell_type": "markdown",
   "id": "a890c09e",
   "metadata": {},
   "source": [
    "### More about Probability Distribution Function\n",
    "- A probability distribution function is a mathematical function that describes the probability of obtaining different values of a random variable in a particular probability distribution.\n",
    "\n",
    "#### Types of Probability Distribution Function\n",
    "- Probability Mass Function (PMF)\n",
    "- Probability Density Function (PDF)\n",
    "- Cumulative Distribution Function (CDF)\n",
    "\n",
    "By combining above two types we can make another type of Probability Distribution i.e, Cumulative Distribution Function (CDF)"
   ]
  },
  {
   "cell_type": "markdown",
   "id": "cc9ee46a",
   "metadata": {},
   "source": [
    "#### Probability Mass Function (PMF) \n",
    "PMF stands for Probability Mass Function. It is a mathematical function that describes the probability distribution of a **discrete random variable**.\n",
    "The PMF of a discrete random variable assigns a probability to each possible value of the random variable. The probabilities assigned by the PMF must satisfy two conditions:-\n",
    "- The probability assigned to each value must be non-negative (i.e., greater than or equal to zero).\n",
    "- The sum of the probabilities assigned to all possible values must equal 1"
   ]
  },
  {
   "cell_type": "code",
   "execution_count": 1,
   "id": "69f51445",
   "metadata": {},
   "outputs": [],
   "source": [
    "import pandas as pd\n",
    "import random\n",
    "import numpy as np"
   ]
  },
  {
   "cell_type": "code",
   "execution_count": 2,
   "id": "7fd4280f",
   "metadata": {},
   "outputs": [],
   "source": [
    "prb = []\n",
    "for i in range(10000):\n",
    "    prb.append(random.randint(1,6))"
   ]
  },
  {
   "cell_type": "code",
   "execution_count": 3,
   "id": "8123861d",
   "metadata": {},
   "outputs": [
    {
     "data": {
      "text/plain": [
       "[5, 2, 6, 5, 3]"
      ]
     },
     "execution_count": 3,
     "metadata": {},
     "output_type": "execute_result"
    }
   ],
   "source": [
    "len(prb)\n",
    "prb[:5]"
   ]
  },
  {
   "cell_type": "code",
   "execution_count": 4,
   "id": "42f889cb",
   "metadata": {},
   "outputs": [
    {
     "data": {
      "application/vnd.microsoft.datawrangler.viewer.v0+json": {
       "columns": [
        {
         "name": "index",
         "rawType": "int64",
         "type": "integer"
        },
        {
         "name": "count",
         "rawType": "float64",
         "type": "float"
        }
       ],
       "ref": "6d35a629-8f3f-47db-9b30-7e01eed60a23",
       "rows": [
        [
         "1",
         "0.1661"
        ],
        [
         "2",
         "0.1639"
        ],
        [
         "3",
         "0.1676"
        ],
        [
         "4",
         "0.163"
        ],
        [
         "5",
         "0.1684"
        ],
        [
         "6",
         "0.171"
        ]
       ],
       "shape": {
        "columns": 1,
        "rows": 6
       }
      },
      "text/plain": [
       "1    0.1661\n",
       "2    0.1639\n",
       "3    0.1676\n",
       "4    0.1630\n",
       "5    0.1684\n",
       "6    0.1710\n",
       "Name: count, dtype: float64"
      ]
     },
     "execution_count": 4,
     "metadata": {},
     "output_type": "execute_result"
    }
   ],
   "source": [
    "# print graph to illustrate PMF\n",
    "\n",
    "# pd.Series(prb).value_counts()\n",
    "# pd.Series(prb).value_counts().sum()\n",
    "\n",
    "s = (pd.Series(prb).value_counts() / pd.Series(prb).value_counts().sum()).sort_index()\n",
    "s"
   ]
  },
  {
   "cell_type": "code",
   "execution_count": 5,
   "id": "4903809f",
   "metadata": {},
   "outputs": [
    {
     "data": {
      "text/plain": [
       "<Axes: >"
      ]
     },
     "execution_count": 5,
     "metadata": {},
     "output_type": "execute_result"
    },
    {
     "data": {
      "image/png": "[encoded data removed]",
      "text/plain": [
       "<Figure size 640x480 with 1 Axes>"
      ]
     },
     "metadata": {},
     "output_type": "display_data"
    }
   ],
   "source": [
    "# plot PMF bar graph\n",
    "s.plot(kind='bar')"
   ]
  },
  {
   "cell_type": "code",
   "execution_count": 6,
   "id": "9740cbe1",
   "metadata": {},
   "outputs": [],
   "source": [
    "# PMF example using two dices\n",
    "\n",
    "l = []\n",
    "for i in range(10000):\n",
    "    a = random.randint(1,6)\n",
    "    b = random.randint(1,6)\n",
    "\n",
    "    l.append(a + b)"
   ]
  },
  {
   "cell_type": "code",
   "execution_count": 7,
   "id": "4ae50463",
   "metadata": {},
   "outputs": [
    {
     "data": {
      "text/plain": [
       "[2, 5, 7, 5, 8]"
      ]
     },
     "execution_count": 7,
     "metadata": {},
     "output_type": "execute_result"
    }
   ],
   "source": [
    "len(l)\n",
    "l[:5]"
   ]
  },
  {
   "cell_type": "code",
   "execution_count": 8,
   "id": "2ae13b5d",
   "metadata": {},
   "outputs": [
    {
     "data": {
      "application/vnd.microsoft.datawrangler.viewer.v0+json": {
       "columns": [
        {
         "name": "index",
         "rawType": "int64",
         "type": "integer"
        },
        {
         "name": "count",
         "rawType": "float64",
         "type": "float"
        }
       ],
       "ref": "254bca74-b544-4f11-8a90-c9645f6f490e",
       "rows": [
        [
         "2",
         "0.0255"
        ],
        [
         "3",
         "0.0582"
        ],
        [
         "4",
         "0.0855"
        ],
        [
         "5",
         "0.1097"
        ],
        [
         "6",
         "0.1415"
        ],
        [
         "7",
         "0.1621"
        ],
        [
         "8",
         "0.1402"
        ],
        [
         "9",
         "0.109"
        ],
        [
         "10",
         "0.0843"
        ],
        [
         "11",
         "0.0561"
        ],
        [
         "12",
         "0.0279"
        ]
       ],
       "shape": {
        "columns": 1,
        "rows": 11
       }
      },
      "text/plain": [
       "2     0.0255\n",
       "3     0.0582\n",
       "4     0.0855\n",
       "5     0.1097\n",
       "6     0.1415\n",
       "7     0.1621\n",
       "8     0.1402\n",
       "9     0.1090\n",
       "10    0.0843\n",
       "11    0.0561\n",
       "12    0.0279\n",
       "Name: count, dtype: float64"
      ]
     },
     "execution_count": 8,
     "metadata": {},
     "output_type": "execute_result"
    }
   ],
   "source": [
    "s1 = (pd.Series(l).value_counts() / pd.Series(l).value_counts().sum()).sort_index()\n",
    "s1"
   ]
  },
  {
   "cell_type": "code",
   "execution_count": 9,
   "id": "86eacd54",
   "metadata": {},
   "outputs": [
    {
     "data": {
      "text/plain": [
       "<Axes: >"
      ]
     },
     "execution_count": 9,
     "metadata": {},
     "output_type": "execute_result"
    },
    {
     "data": {
      "image/png": "[encoded data removed]",
      "text/plain": [
       "<Figure size 640x480 with 1 Axes>"
      ]
     },
     "metadata": {},
     "output_type": "display_data"
    }
   ],
   "source": [
    "s1.plot(kind='bar')"
   ]
  },
  {
   "cell_type": "markdown",
   "id": "9d2a54ed",
   "metadata": {},
   "source": [
    "### Cumulative Distribution Function (CDF) of PMF\n",
    "- The cumulative distribution function (CDF), F(x) describes the probability that a random variable X with a given probability distribution will be found at a value less than or equal to x.\n",
    "- F(x) = P(X <= x)"
   ]
  },
  {
   "cell_type": "code",
   "execution_count": 10,
   "id": "a30c5bff",
   "metadata": {},
   "outputs": [
    {
     "data": {
      "application/vnd.microsoft.datawrangler.viewer.v0+json": {
       "columns": [
        {
         "name": "index",
         "rawType": "int64",
         "type": "integer"
        },
        {
         "name": "count",
         "rawType": "float64",
         "type": "float"
        }
       ],
       "ref": "ae708626-50b9-4653-acd6-b839105bc2b7",
       "rows": [
        [
         "2",
         "0.0255"
        ],
        [
         "3",
         "0.0837"
        ],
        [
         "4",
         "0.16920000000000002"
        ],
        [
         "5",
         "0.27890000000000004"
        ],
        [
         "6",
         "0.4204"
        ],
        [
         "7",
         "0.5825"
        ],
        [
         "8",
         "0.7227"
        ],
        [
         "9",
         "0.8317"
        ],
        [
         "10",
         "0.916"
        ],
        [
         "11",
         "0.9721000000000001"
        ],
        [
         "12",
         "1.0"
        ]
       ],
       "shape": {
        "columns": 1,
        "rows": 11
       }
      },
      "text/plain": [
       "2     0.0255\n",
       "3     0.0837\n",
       "4     0.1692\n",
       "5     0.2789\n",
       "6     0.4204\n",
       "7     0.5825\n",
       "8     0.7227\n",
       "9     0.8317\n",
       "10    0.9160\n",
       "11    0.9721\n",
       "12    1.0000\n",
       "Name: count, dtype: float64"
      ]
     },
     "execution_count": 10,
     "metadata": {},
     "output_type": "execute_result"
    }
   ],
   "source": [
    "# example for CDF\n",
    "np.cumsum(s1)"
   ]
  },
  {
   "cell_type": "code",
   "execution_count": 11,
   "id": "62314714",
   "metadata": {},
   "outputs": [
    {
     "data": {
      "text/plain": [
       "<Axes: >"
      ]
     },
     "execution_count": 11,
     "metadata": {},
     "output_type": "execute_result"
    },
    {
     "data": {
      "image/png": "[encoded data removed]",
      "text/plain": [
       "<Figure size 640x480 with 1 Axes>"
      ]
     },
     "metadata": {},
     "output_type": "display_data"
    }
   ],
   "source": [
    "np.cumsum(s1).plot(kind='bar')"
   ]
  },
  {
   "cell_type": "markdown",
   "id": "81b89070",
   "metadata": {},
   "source": [
    "### Probability Density Function (PDF)\n",
    "- PDF stands for Probability Density Function. It is a mathematical function that describes the probability distribution of a continuous random variable.\n",
    "\n",
    "#### 🌟 Summary of Probability Concepts\n",
    "\n",
    "1. **PMF (Probability Mass Function)**\n",
    "\n",
    "   * Used for **discrete random variables**.\n",
    "   * Each possible value of `X` has a probability assigned to it.\n",
    "   * On the y-axis: actual **probability values** (between 0 and 1).\n",
    "   * Example: Tossing a die → P(X=3) = 1/6.\n",
    "\n",
    "2. **PDF (Probability Density Function)**\n",
    "\n",
    "   * Used for **continuous random variables**.\n",
    "   * You cannot assign a probability to one exact value (because infinitely many possible values exist).\n",
    "   * On the y-axis: **probability density** (not probability).\n",
    "   * Probability of a specific single value (e.g., X=7.912) is **0** or almost zero.\n",
    "   * Instead, probabilities are found **over intervals**, e.g., P(8 ≤ X ≤ 9).\n",
    "\n",
    "3. **Why PDF instead of Probability?**\n",
    "\n",
    "   * Continuous variables take infinitely many values.\n",
    "   * Probability at any exact point = 0.\n",
    "   * So we use **density** to measure how \"concentrated\" probability is around an interval.\n",
    "\n",
    "4. **Connection between PDF and Probability**\n",
    "\n",
    "   * The **area under the PDF curve** between two points gives probability:\n",
    "\n",
    "     $$\n",
    "     P(a \\leq X \\leq b) = \\int_a^b f(x)\\,dx\n",
    "     $$\n",
    "   * Total area under the PDF (over all possible values) = 1.\n",
    "\n",
    "5. **Interpretation**\n",
    "\n",
    "   * PMF → directly gives probability of discrete outcomes.\n",
    "   * PDF → shape of distribution; probabilities only come from **integrals (areas)**.\n",
    "   * Example: Marks distribution in a college → Probability that a student scores between 8 and 9 = area under curve from 8 to 9.\n",
    "\n",
    "---\n",
    "\n",
    "#### 📌 Important Pointers\n",
    "\n",
    "* **PMF → Discrete**, **PDF → Continuous**.\n",
    "* Y-axis:\n",
    "\n",
    "  * PMF → Probability.\n",
    "  * PDF → Probability Density.\n",
    "* Probability at exact point (continuous case) = 0.\n",
    "* Probability between values = Area under curve.\n",
    "* Total area under PDF = 1.\n",
    "* To compute probability in continuous case → use **integration**.\n",
    "\n",
    "---\n"
   ]
  },
  {
   "cell_type": "markdown",
   "id": "584ad48a",
   "metadata": {},
   "source": [
    "### Density Estimation\n",
    "- Density estimation is a statistical technique used to estimate the probability density function (PDF) of a random variable based on a set of observations or data. In simpler terms, it involves estimating the underlying distribution of a set of data \n",
    "points.\n",
    "- Density estimation can be used for a variety of purposes, such as  hypothesis testing, data analysis, and data visualization. It is particularly useful in areas such as machine learning, where it is often used to estimate the probability distribution \n",
    "of input data or to model the likelihood of certain events or outcomes.\n",
    "- There are various methods for density estimation, including parametric and non-parametric approaches. Parametric methods assume that the data follows a specific probability distribution (such as a normal distribution), while non -\n",
    "parametric methods do not make any assumptions about the distribution and instead estimate it directly from the data.\n",
    "- Commonly used techniques for density estimation include kernel density estimation (KDE), histogram estimation, and Gaussian mixture models (GMMs). The choice of method depends on the specific characteristics of the data and the \n",
    "intended use of the density estimate."
   ]
  },
  {
   "cell_type": "markdown",
   "id": "bf0c5a10",
   "metadata": {},
   "source": [
    "#### Parametric Density Estimation\n",
    "- Parametric density estimation is a method of estimating the probability density function (PDF) of a random variable by assuming that the underlying distribution belongs to a specific parametric family of probability distributions, such as the normal, exponential, or Poisson distributions."
   ]
  },
  {
   "cell_type": "code",
   "execution_count": 12,
   "id": "b9bdc031",
   "metadata": {},
   "outputs": [],
   "source": [
    "import matplotlib.pyplot as plt\n",
    "import numpy as np\n",
    "from numpy.random import normal\n",
    "\n",
    "# using numpy's normal method 1000 data points have been generated in which mean (loc) is 50 & standard deviation (scale) = 5\n",
    "#  loc, scale & size are population parameters\n",
    "sample = normal(loc=50, scale=5, size=1000)"
   ]
  },
  {
   "cell_type": "code",
   "execution_count": 13,
   "id": "f8d219a1",
   "metadata": {},
   "outputs": [
    {
     "data": {
      "text/plain": [
       "np.float64(50.145195053074225)"
      ]
     },
     "execution_count": 13,
     "metadata": {},
     "output_type": "execute_result"
    }
   ],
   "source": [
    "# sample\n",
    "sample.mean()"
   ]
  },
  {
   "cell_type": "code",
   "execution_count": 14,
   "id": "7dfcd52f",
   "metadata": {},
   "outputs": [
    {
     "data": {
      "image/png": "[encoded data removed]",
      "text/plain": [
       "<Figure size 640x480 with 1 Axes>"
      ]
     },
     "metadata": {},
     "output_type": "display_data"
    }
   ],
   "source": [
    "# plot histogram to understand the distribution of data\n",
    "plt.hist(sample, bins=10)\n",
    "plt.xlabel('Value')\n",
    "plt.ylabel('Frequency (Count)')\n",
    "plt.title('Histogram of Normal Distribution (mean=50, std=5)')\n",
    "plt.show()"
   ]
  },
  {
   "cell_type": "code",
   "execution_count": 15,
   "id": "64a88c05",
   "metadata": {},
   "outputs": [],
   "source": [
    "# calculate sample mean and sample std dev\n",
    "sample_mean = sample.mean()\n",
    "sample_std = sample.std()\n",
    "\n",
    "# sample_mean\n",
    "# sample_std"
   ]
  },
  {
   "cell_type": "markdown",
   "id": "b49aed60",
   "metadata": {},
   "source": [
    "##### Example code for Parametric Density Estimation"
   ]
  },
  {
   "attachments": {
    "image.png": {
     "image/png": "[encoded data removed]"
    }
   },
   "cell_type": "markdown",
   "id": "3fe6d68f",
   "metadata": {},
   "source": [
    "![image.png](attachment:image.png)"
   ]
  },
  {
   "cell_type": "code",
   "execution_count": 18,
   "id": "339ba574",
   "metadata": {},
   "outputs": [],
   "source": [
    "# fit the distribution with above parameters\n",
    "\n",
    "# imports the norm class from scipy.stats\n",
    "# norm represents a normal (Gaussian) distribution\n",
    "from scipy.stats import norm\n",
    "\n",
    "# creates a normal distribution object with sample_mean and sample_std\n",
    "dist = norm(sample_mean, sample_std)\n"
   ]
  },
  {
   "cell_type": "markdown",
   "id": "898dc78b",
   "metadata": {},
   "source": [
    "##### What is dist?\n",
    "- `dist` is a statistical distribution object that represents a normal distribution with your specified parameters. Think of it as a mathematical model of your data's distribution."
   ]
  },
  {
   "cell_type": "code",
   "execution_count": 16,
   "id": "7fc11bff",
   "metadata": {},
   "outputs": [
    {
     "data": {
      "text/plain": [
       "array([35.4877576 , 35.77686258, 36.06596756, 36.35507254, 36.64417752,\n",
       "       36.93328249, 37.22238747, 37.51149245, 37.80059743, 38.08970241,\n",
       "       38.37880738, 38.66791236, 38.95701734, 39.24612232, 39.5352273 ,\n",
       "       39.82433227, 40.11343725, 40.40254223, 40.69164721, 40.98075219,\n",
       "       41.26985716, 41.55896214, 41.84806712, 42.1371721 , 42.42627708,\n",
       "       42.71538205, 43.00448703, 43.29359201, 43.58269699, 43.87180197,\n",
       "       44.16090694, 44.45001192, 44.7391169 , 45.02822188, 45.31732686,\n",
       "       45.60643183, 45.89553681, 46.18464179, 46.47374677, 46.76285175,\n",
       "       47.05195672, 47.3410617 , 47.63016668, 47.91927166, 48.20837664,\n",
       "       48.49748161, 48.78658659, 49.07569157, 49.36479655, 49.65390153,\n",
       "       49.9430065 , 50.23211148, 50.52121646, 50.81032144, 51.09942642,\n",
       "       51.38853139, 51.67763637, 51.96674135, 52.25584633, 52.54495131,\n",
       "       52.83405628, 53.12316126, 53.41226624, 53.70137122, 53.9904762 ,\n",
       "       54.27958117, 54.56868615, 54.85779113, 55.14689611, 55.43600109,\n",
       "       55.72510606, 56.01421104, 56.30331602, 56.592421  , 56.88152598,\n",
       "       57.17063095, 57.45973593, 57.74884091, 58.03794589, 58.32705087,\n",
       "       58.61615584, 58.90526082, 59.1943658 , 59.48347078, 59.77257576,\n",
       "       60.06168074, 60.35078571, 60.63989069, 60.92899567, 61.21810065,\n",
       "       61.50720563, 61.7963106 , 62.08541558, 62.37452056, 62.66362554,\n",
       "       62.95273052, 63.24183549, 63.53094047, 63.82004545, 64.10915043])"
      ]
     },
     "execution_count": 16,
     "metadata": {},
     "output_type": "execute_result"
    }
   ],
   "source": [
    "# generating 100 data points between minimum and maximum values from sample using `np.linspace` method\n",
    "values = np.linspace(sample.min(), sample.max(), 100)\n",
    "values"
   ]
  },
  {
   "cell_type": "code",
   "execution_count": 19,
   "id": "12ab0291",
   "metadata": {},
   "outputs": [
    {
     "data": {
      "text/plain": [
       "[np.float64(0.0007036410538328583),\n",
       " np.float64(0.0008482303924722735),\n",
       " np.float64(0.0010187313747906366),\n",
       " np.float64(0.0012189579592138174),\n",
       " np.float64(0.0014531182812026584),\n",
       " np.float64(0.0017258235819382853),\n",
       " np.float64(0.0020420906872348874),\n",
       " np.float64(0.002407336739916949),\n",
       " np.float64(0.0028273648626677378),\n",
       " np.float64(0.0033083394399750225),\n",
       " np.float64(0.003856749763844816),\n",
       " np.float64(0.004479360894413137),\n",
       " np.float64(0.0051831507484889315),\n",
       " np.float64(0.005975232650088247),\n",
       " np.float64(0.006862762859108447),\n",
       " np.float64(0.00785283293725572),\n",
       " np.float64(0.008952347211540633),\n",
       " np.float64(0.01016788604971907),\n",
       " np.float64(0.011505556160688298),\n",
       " np.float64(0.012970829664761123),\n",
       " np.float64(0.014568374229707212),\n",
       " np.float64(0.016301877121501517),\n",
       " np.float64(0.01817386655451094),\n",
       " np.float64(0.02018553422317775),\n",
       " np.float64(0.02233656333373998),\n",
       " np.float64(0.024624966807419005),\n",
       " np.float64(0.027046940573632782),\n",
       " np.float64(0.029596736992583014),\n",
       " np.float64(0.03226656342309414),\n",
       " np.float64(0.035046510769643616),\n",
       " np.float64(0.03792451649260826),\n",
       " np.float64(0.04088636604394028),\n",
       " np.float64(0.04391573599913158),\n",
       " np.float64(0.046994281304557343),\n",
       " np.float64(0.05010176806317848),\n",
       " np.float64(0.053216252164113714),\n",
       " np.float64(0.056314302852139786),\n",
       " np.float64(0.059371269066883),\n",
       " np.float64(0.06236158509803114),\n",
       " np.float64(0.06525911084534924),\n",
       " np.float64(0.06803750078530164),\n",
       " np.float64(0.07067059467426201),\n",
       " np.float64(0.07313282210426715),\n",
       " np.float64(0.07539961230982811),\n",
       " np.float64(0.07744780013660718),\n",
       " np.float64(0.0792560188506793),\n",
       " np.float64(0.08080507050786778),\n",
       " np.float64(0.08207826492385013),\n",
       " np.float64(0.08306171888465112),\n",
       " np.float64(0.08374460810056877),\n",
       " np.float64(0.08411936551110584),\n",
       " np.float64(0.08418182086123438),\n",
       " np.float64(0.0839312779491549),\n",
       " np.float64(0.08337052754476826),\n",
       " np.float64(0.08250579564368075),\n",
       " np.float64(0.08134662839833325),\n",
       " np.float64(0.07990571669994831),\n",
       " np.float64(0.0781986649184133),\n",
       " np.float64(0.07624370969193335),\n",
       " np.float64(0.07406139585027753),\n",
       " np.float64(0.07167421751835311),\n",
       " np.float64(0.06910623315339766),\n",
       " np.float64(0.06638266370192425),\n",
       " np.float64(0.06352948321480284),\n",
       " np.float64(0.06057301113401846),\n",
       " np.float64(0.05753951507621476),\n",
       " np.float64(0.05445483230868843),\n",
       " np.float64(0.051344017273482645),\n",
       " np.float64(0.04823102150138547),\n",
       " np.float64(0.04513841111129678),\n",
       " np.float64(0.042087125855624186),\n",
       " np.float64(0.03909628239397046),\n",
       " np.float64(0.036183023199267444),\n",
       " np.float64(0.03336241126389696),\n",
       " np.float64(0.03064736961533803),\n",
       " np.float64(0.028048663603245757),\n",
       " np.float64(0.025574923008238493),\n",
       " np.float64(0.023232700265864763),\n",
       " np.float64(0.02102656050916514),\n",
       " np.float64(0.01895919871491629),\n",
       " np.float64(0.017031578990582764),\n",
       " np.float64(0.01524309095380238),\n",
       " np.float64(0.013591718221471318),\n",
       " np.float64(0.012074214224586717),\n",
       " np.float64(0.010686280878320372),\n",
       " np.float64(0.009422746042663965),\n",
       " np.float64(0.008277736184776743),\n",
       " np.float64(0.0072448411772457364),\n",
       " np.float64(0.006317268715073628),\n",
       " np.float64(0.005487986388183609),\n",
       " np.float64(0.004749849987605279),\n",
       " np.float64(0.0040957171369278645),\n",
       " np.float64(0.0035185458136018405),\n",
       " np.float64(0.0030114777477525997),\n",
       " np.float64(0.002567907052817929),\n",
       " np.float64(0.002181534748835857),\n",
       " np.float64(0.0018464100844596122),\n",
       " np.float64(0.0015569597489025707),\n",
       " np.float64(0.0013080061930442059),\n",
       " np.float64(0.0010947763544024685)]"
      ]
     },
     "execution_count": 19,
     "metadata": {},
     "output_type": "execute_result"
    }
   ],
   "source": [
    "# now we can calculate Probability Density Function (PDF)\n",
    "\n",
    "# we are using pdf() method from above distribution object\n",
    "probability_densities = [dist.pdf(value) for value in values]\n",
    "probability_densities"
   ]
  },
  {
   "cell_type": "code",
   "execution_count": 22,
   "id": "af40dc6b",
   "metadata": {},
   "outputs": [
    {
     "data": {
      "text/plain": [
       "[<matplotlib.lines.Line2D at 0x1f4fac60080>]"
      ]
     },
     "execution_count": 22,
     "metadata": {},
     "output_type": "execute_result"
    },
    {
     "data": {
      "image/png": "[encoded data removed]",
      "text/plain": [
       "<Figure size 640x480 with 1 Axes>"
      ]
     },
     "metadata": {},
     "output_type": "display_data"
    }
   ],
   "source": [
    "# plot the histogram for pdf\n",
    "\n",
    "# plt.hist(sample, bins=10)\n",
    "# plt.plot(values, probability_densities)\n",
    "\n",
    "plt.hist(sample, bins=10, density=True)\n",
    "plt.plot(values, probability_densities)"
   ]
  },
  {
   "cell_type": "code",
   "execution_count": 19,
   "id": "4a60ab9c",
   "metadata": {},
   "outputs": [
    {
     "data": {
      "text/plain": [
       "<seaborn.axisgrid.FacetGrid at 0x28771bc1130>"
      ]
     },
     "execution_count": 19,
     "metadata": {},
     "output_type": "execute_result"
    },
    {
     "data": {
      "image/png": "[encoded data removed]",
      "text/plain": [
       "<Figure size 500x500 with 1 Axes>"
      ]
     },
     "metadata": {},
     "output_type": "display_data"
    }
   ],
   "source": [
    "# plot for pdf using seaborn\n",
    "\n",
    "import seaborn as sns\n",
    "\n",
    "# deprecated\n",
    "# sns.distplot(sample)\n",
    "\n",
    "sns.displot(sample)\n",
    "# sns.histplot(sample)"
   ]
  },
  {
   "cell_type": "markdown",
   "id": "7612c629",
   "metadata": {},
   "source": [
    "- Note - The graphs which we have plotted for PDF is always dependent on `mean` and `standard deviation` \n",
    "\n",
    "- The sample parameter (mean & standard deviation) should be very close to population parameter in order to get similar graph in both cases.\n",
    "\n",
    "- The more data we have, the better will be parametric density estimation and in case of less number of data the parametric density estimation will be not upto the mark."
   ]
  },
  {
   "cell_type": "markdown",
   "id": "55dc2704",
   "metadata": {},
   "source": [
    "#### Non-Parametric Density Estimation (KDE)\n",
    "- Non-parametric density estimation is a statistical technique used to estimate the probability density function of a random variable without making any assumptions about the underlying distribution. It is also referred to as non-parametric density estimation because it does not require the use of a predefined probability distribution function, as opposed to parametric methods such as the Gaussian distribution.\n",
    "- The non-parametric density estimation technique involves constructing an estimate of the probability density function using the available data. This is typically done by creating a kernel density estimate.\n",
    "- Non-parametric density estimation has several advantages over parametric density estimation. One of the main advantages is that it does not require the assumption of a specific distribution, which allows for more flexible and accurate estimation in situations where the underlying distribution is unknown or complex. However, non-parametric density estimation can be computationally intensive and may require more data to achieve accurate estimates compared to parametric methods."
   ]
  },
  {
   "cell_type": "markdown",
   "id": "632e1ac1",
   "metadata": {},
   "source": [
    "##### Kernel Density Estimate (KDE) for Non-Parametric Density Estimation\n",
    "- The KDE technique involves using a kernel function to smooth out the data and create a continuous estimate of the underlying density function.\n",
    "\n",
    "- Kernel --> Probability Distribution (generally we use Gaussian Distribution also known as Normal Distribution)\n",
    "\n",
    "- Standard Deviation used to be called `bandwidth` in KDE."
   ]
  },
  {
   "cell_type": "markdown",
   "id": "1432dcd2",
   "metadata": {},
   "source": [
    "#### **Summary of Probability Concepts: Kernel Density Estimation (KDE)**\n",
    "\n",
    "**Kernel Density Estimation (KDE)**, a fundamental non-parametric technique used to estimate the Probability Density Function (PDF) of a random variable.\n",
    "\n",
    "**1. The Problem with Histograms:**\n",
    "*   Histograms are a simple way to visualize data distribution by grouping data into bins.\n",
    "*   **Limitation:** Their shape is highly sensitive to the choice of **bin width** and **starting point**. A poor choice can misrepresent the underlying distribution, making it look jagged or hide important features.\n",
    "*   They often don't match any standard parametric distribution (like Normal or Log-Normal).\n",
    "\n",
    "**2. What is Kernel Density Estimation (KDE)?**\n",
    "*   KDE is a **smoother** and more effective way to estimate the true probability density function than a histogram.\n",
    "*   **Core Idea:** It places a \"kernel\" (a smooth, symmetric weighting function) on top of *every single data point* in the dataset.\n",
    "*   The final estimated density is obtained by **summing up** the contributions of all these individual kernels.\n",
    "\n",
    "**3. How KDE Works (Step-by-Step):**\n",
    "    1.  **For each data point:** Imagine drawing a probability distribution (e.g., a Normal/Gaussian distribution) centered exactly on that data point.\n",
    "    2.  **Sum the distributions:** For any given value `x` on the axis, the total density is calculated by adding up the height (density value) of *all* the individual kernels at that point `x`.\n",
    "    3.  **Result:** This sum creates a single, smooth, continuous curve that represents the overall probability density of the data.\n",
    "\n",
    "**4. The Role of the Kernel:**\n",
    "*   The \"kernel\" is the function used to create the distribution around each point. The most common and default choice is the **Gaussian (Normal) kernel**.\n",
    "*   Other kernels exist (e.g., Tophat, Epanechnikov, Linear, Exponential), but the Gaussian is most frequently used.\n",
    "\n",
    "**5. The Crucial Parameter: Bandwidth (`h`)**\n",
    "*   This is the **most important hyperparameter** in KDE.\n",
    "*   **What it controls:** The \"width\" or \"spread\" of each individual kernel. It is analogous to the standard deviation in a Gaussian kernel.\n",
    "*   **Effect of Bandwidth:**\n",
    "    *   **Small Bandwidth:** Kernels are narrow and tall. The resulting density plot will be **wiggly and spiky**, potentially overfitting to the data and capturing noise.\n",
    "    *   **Large Bandwidth:** Kernels are wide and flat. The resulting density plot will be **oversmoothed**, potentially hiding important structural features of the data (e.g., bimodality).\n",
    "*   Choosing the right bandwidth is critical for a good estimate.\n",
    "\n",
    "**6. Implementation (Code Pointers):**\n",
    "*   In Python's `scikit-learn` library, KDE is implemented in the `KernelDensity` class (found in `sklearn.neighbors`).\n",
    "*   Key steps for using it:\n",
    "    1.  **Reshape data:** Ensure your data is in a 2D format (e.g., `X.reshape(-1, 1)` for a single feature).\n",
    "    2.  **Instantiate model:** Create a `KernelDensity` object, specifying the `kernel` (e.g., `'gaussian'`) and the `bandwidth`.\n",
    "    3.  **Fit the model:** Use the `.fit()` method on your data.\n",
    "    4.  **Generate scores:** Use `.score_samples(new_data)` to get the **log-density** for new data points.\n",
    "    5.  **Convert to probability:** Apply `np.exp()` to the log-densities to get the actual probability density values.\n",
    "\n",
    "---\n",
    "\n",
    "### **Important Pointers (Key Takeaways)**\n",
    "\n",
    "*   **Non-Parametric:** KDE does not assume your data follows a specific distribution (e.g., Normal). It lets the data speak for itself, making it very flexible.\n",
    "*   **Smoothing Technique:** It is primarily used to create a smooth, continuous estimate of the underlying probability density from a finite data sample.\n",
    "*   **Bandwidth is Key:** The choice of bandwidth (`h`) is more impactful than the choice of kernel. It controls the bias-variance trade-off.\n",
    "    *   **Low bandwidth -> Low bias, High variance** (spiky, overfit).\n",
    "    *   **High bandwidth -> High bias, Low variance** (oversmoothed, underfit).\n",
    "*   **Visualization:** The final KDE plot is created by evaluating the summed density over a grid of points and plotting those values."
   ]
  },
  {
   "cell_type": "markdown",
   "id": "64404be2",
   "metadata": {},
   "source": [
    "#### Code example for KDE"
   ]
  },
  {
   "cell_type": "code",
   "execution_count": 23,
   "id": "9bc22e5e",
   "metadata": {},
   "outputs": [],
   "source": [
    "from numpy.random import normal\n",
    "\n",
    "# generate a sample\n",
    "sample1 = normal(loc=20, scale=5, size=300)\n",
    "sample2 = normal(loc=40, scale=5, size=700)\n",
    "\n",
    "sample = np.hstack((sample1,sample2))"
   ]
  },
  {
   "cell_type": "code",
   "execution_count": 33,
   "id": "416ae341",
   "metadata": {},
   "outputs": [
    {
     "data": {
      "text/plain": [
       "array([20.7209138 , 28.53620359, 22.30791457, 23.62771171, 14.49640167,\n",
       "       19.98773063, 21.11456688, 13.9672729 , 17.4921013 , 16.46538071,\n",
       "       22.46650289, 22.16450837, 20.11802815, 18.76014126, 20.74837612,\n",
       "       21.19938288, 11.98221235, 13.24648789, 17.89657325, 29.20896064,\n",
       "       13.93843146, 17.31259732, 22.16508963, 20.0581868 , 21.07285579,\n",
       "       21.41933428, 15.09296582, 20.87698117, 19.78508326, 20.32754714,\n",
       "       23.38486029, 22.99571718, 12.09009073, 21.9470739 , 26.27287544,\n",
       "       21.22477912, 23.77130295, 23.16071585, 16.00785885, 19.93450228,\n",
       "       14.82581253, 16.51351659, 23.23534193, 23.89417758, 16.01626908,\n",
       "       18.27068669, 26.52014188, 14.47596645, 14.10129777, 16.83667238,\n",
       "       16.37815843, 20.05288599, 13.32350685,  9.4405988 , 24.4054624 ,\n",
       "       26.09672267, 30.2913214 , 20.31171052, 27.64111081, 18.84592035,\n",
       "       17.38774094, 16.24075902, 22.77389716, 19.1679257 , 23.37984125,\n",
       "       31.6967381 , 24.20404133, 19.82865499, 22.89603303, 25.62735598,\n",
       "       22.90272461, 24.24308612, 23.21394974, 20.64668412, 16.22034975,\n",
       "       23.41603572, 19.04929216, 11.98492466, 19.97848169, 18.9663061 ,\n",
       "       17.34306401, 16.95196766, 10.6756109 , 24.22676261, 20.45954027,\n",
       "       18.47137942, 16.84650962, 27.17646497, 15.01815461, 18.2203755 ,\n",
       "       23.02934772, 15.32886058, 16.84617953, 18.29658775, 23.12853009,\n",
       "       20.37287478, 16.85931834, 24.45968789, 18.94866382, 20.00869627,\n",
       "       18.76656697, 15.67487932, 12.70485262, 18.57702418, 18.93766724,\n",
       "       17.93794884, 15.45606113, 21.68260649, 11.69004552, 23.55254515,\n",
       "       19.781508  , 19.97738969, 18.00669883, 19.67919699, 18.43019056,\n",
       "       11.7167648 , 28.28259491, 20.03974406, 21.64525862, 27.14613665,\n",
       "       22.78973649, 21.75341883, 20.47306314, 14.51599392, 21.44272398,\n",
       "       15.61800785, 27.45803726, 14.63641826, 19.27633341, 20.61070964,\n",
       "       19.54582944, 14.66584321, 24.82882682, 18.87358359, 25.58030531,\n",
       "       24.63329514, 14.0808417 , 24.55104026, 25.44687149, 24.71281151,\n",
       "       23.22824861, 15.60915758, 19.47692559, 20.45446145, 23.81078898,\n",
       "       20.84525543, 14.94303868, 17.79606337, 23.25095522, 21.55151584,\n",
       "       23.19824736, 18.01000303, 12.55778353, 27.26015465, 15.76037694,\n",
       "       16.94864956, 18.17351616, 20.58500303, 28.79013901, 25.08085262,\n",
       "       31.51915788, 17.952552  , 29.07543015, 22.97672903, 18.80959545,\n",
       "       19.44269779, 26.00111552, 28.64817822, 22.49596852, 22.05469809,\n",
       "       14.91024556, 30.21379428, 12.95363286, 14.93026466, 29.58360166,\n",
       "       17.05369398, 19.59960231, 15.9532074 , 19.60753751, 20.87955907,\n",
       "       15.62430169, 29.11118436, 24.85917745, 24.79251825, 13.69163639,\n",
       "       15.5245274 , 15.5654285 , 22.39165948, 18.50564609, 16.59667237,\n",
       "       16.35071195, 18.16714333, 18.43511043, 17.20437222, 16.78180514,\n",
       "        7.53070284, 15.73471497, 11.5558126 , 20.84718332, 21.28128717,\n",
       "       26.44300527, 15.87097107, 26.9909696 , 19.17033456, 11.63096822,\n",
       "       12.93107389, 19.3780066 , 25.84281578, 24.04714153, 21.72311031,\n",
       "       17.41247015,  6.98295091, 23.46538807, 18.68976873, 15.78236787,\n",
       "       21.31953779, 19.87859124, 23.85468564, 14.37886618, 22.31583749,\n",
       "       19.77340566, 20.37941017, 23.5573401 , 22.95863582, 23.36137612,\n",
       "       23.11013057, 12.7957962 , 13.28704825, 19.14593578, 15.61600266,\n",
       "       22.02251831, 18.97193467, 20.62071148, 17.69059289, 20.03744348,\n",
       "       20.01785443, 28.19392983, 19.25037647, 21.43501933, 20.87518459,\n",
       "       31.49538132, 17.15915263, 11.32160389, 19.69718599, 27.246333  ,\n",
       "       21.59398149, 19.66102472, 24.84625913, 15.61469868, 20.07143175,\n",
       "       18.93979068, 26.04536666, 37.64394502, 22.04255602, 14.7675087 ,\n",
       "        9.5234675 , 19.62651659, 24.13637095, 19.77513568, 22.35727748,\n",
       "       24.81064862, 20.94629003, 13.1998214 , 25.74465692, 23.79572299,\n",
       "       15.25195393, 30.95967687, 21.96017743, 12.27738647, 17.17123089,\n",
       "       23.81765233, 22.96059304, 17.90813233, 24.37818458, 14.44465787,\n",
       "       19.34242267, 25.18370716, 19.53162402, 23.6072496 , 22.67452687,\n",
       "       19.63950069,  7.3526443 , 18.35463551, 23.4148106 , 23.96722353,\n",
       "       23.16055741, 17.57335087,  8.82541654, 14.92054638, 17.26442693,\n",
       "       25.22299173, 22.27983396, 16.65575741, 27.5044541 , 17.47717549,\n",
       "       25.84795078, 18.29388547, 17.57259317, 18.10452585, 18.76453952,\n",
       "       39.94342206, 40.40181669, 33.39452502, 42.84145292, 42.90662617,\n",
       "       45.63775844, 38.40626096, 36.60823897, 34.07489232, 39.39800783,\n",
       "       51.0467504 , 42.36418253, 41.11482407, 34.92510879, 46.22515995,\n",
       "       37.0783516 , 41.14204632, 45.65401077, 49.10086287, 32.93079084,\n",
       "       41.45566021, 36.14608456, 33.81112964, 40.75144878, 38.1880982 ,\n",
       "       44.07139175, 49.36462973, 46.54870468, 37.24056071, 43.51881036,\n",
       "       46.71630771, 35.69027534, 37.12582789, 29.04922602, 39.84663541,\n",
       "       45.14882102, 32.78197669, 47.32692035, 43.89757223, 36.16120524,\n",
       "       49.26917556, 29.80104872, 33.16502632, 50.16009038, 45.35390919,\n",
       "       42.51888065, 25.66168626, 38.55310579, 40.95703827, 36.82221765,\n",
       "       37.35551845, 39.49918469, 42.49544054, 36.58872718, 40.34041205,\n",
       "       44.98230625, 35.69257816, 32.15672498, 34.32139529, 44.98994262,\n",
       "       39.88076167, 35.58791319, 44.2194035 , 37.85279347, 43.85692599,\n",
       "       50.5547067 , 44.49819274, 39.79392105, 43.81804055, 40.78541799,\n",
       "       37.63351615, 38.40970881, 35.40130093, 39.89839647, 33.51988692,\n",
       "       34.3708206 , 44.48830191, 30.21961811, 42.51040689, 30.49074356,\n",
       "       42.05614657, 39.99221374, 33.76456641, 44.11279247, 31.70677603,\n",
       "       45.00136087, 35.79343817, 45.70705808, 45.76313681, 32.95974657,\n",
       "       37.57047609, 39.10574996, 43.6543745 , 47.76127585, 31.53969423,\n",
       "       43.81604324, 42.46657748, 36.32331439, 35.35658529, 44.51331479,\n",
       "       43.90806635, 28.94673606, 43.04808984, 29.953785  , 33.86405722,\n",
       "       45.17768787, 47.07675287, 53.125384  , 31.09264751, 35.25721561,\n",
       "       44.35023525, 42.70425897, 38.89841222, 37.66055841, 34.36506931,\n",
       "       34.73040818, 46.224942  , 46.40139737, 36.22525964, 40.68263687,\n",
       "       40.61113782, 43.4447016 , 31.60991401, 37.94151468, 34.30490913,\n",
       "       43.44934167, 36.35910065, 33.99192725, 33.44341349, 43.84655874,\n",
       "       43.57638034, 37.88079664, 37.65901937, 33.68050736, 40.20583238,\n",
       "       43.77380313, 47.57090618, 36.32228232, 40.72551254, 38.57831283,\n",
       "       39.67991734, 40.98191429, 42.85369944, 42.19361185, 38.58219275,\n",
       "       41.26906961, 41.07873585, 42.04429549, 40.32520885, 36.45495801,\n",
       "       43.35107294, 42.83324834, 42.73763846, 37.79980625, 39.23984959,\n",
       "       40.66131333, 30.31710655, 39.50840782, 38.18452646, 38.33522453,\n",
       "       43.25766299, 46.50637303, 39.02461373, 34.74101215, 42.74061643,\n",
       "       37.13576123, 33.96360423, 38.85908823, 30.56836022, 41.00613569,\n",
       "       41.30152808, 36.9646792 , 37.91760786, 24.85786942, 42.58363963,\n",
       "       45.20448191, 37.54894721, 34.66597356, 44.85060363, 40.86372041,\n",
       "       43.53597744, 43.25387337, 33.23505406, 48.07405181, 35.51500051,\n",
       "       33.95125168, 43.71763735, 44.45347748, 38.29675124, 43.8513363 ,\n",
       "       47.10001358, 41.72955852, 52.20964605, 35.77372985, 41.7919528 ,\n",
       "       37.23941027, 42.70624504, 32.67777943, 37.57971065, 40.22414309,\n",
       "       31.76203107, 33.33603436, 27.80965166, 43.20342508, 44.27711017,\n",
       "       38.4799665 , 28.82988601, 37.47648451, 32.47280679, 27.93450413,\n",
       "       37.62097189, 46.40301045, 44.80041789, 36.30009979, 29.98064025,\n",
       "       41.98303098, 43.8626903 , 42.55434284, 31.15806182, 46.19159176,\n",
       "       36.71099285, 39.02816227, 31.62116082, 34.32377644, 26.15387818,\n",
       "       41.45145445, 40.40831854, 34.54250518, 45.21916665, 38.8538881 ,\n",
       "       37.3963129 , 28.50267109, 48.95673081, 45.00687114, 42.33150772,\n",
       "       33.05161159, 44.20966707, 52.35828757, 46.49186449, 37.82559466,\n",
       "       44.74878724, 38.84205852, 41.09429215, 39.91453841, 36.79764824,\n",
       "       48.76083881, 34.73419678, 46.8737924 , 30.30383972, 42.52996549,\n",
       "       34.88800853, 34.97649789, 48.26261985, 42.79011674, 35.18331774,\n",
       "       38.42617888, 30.19346794, 38.50508886, 32.99879346, 35.19009057,\n",
       "       41.11615473, 37.00445642, 48.20372677, 35.89392484, 45.78351054,\n",
       "       48.20593615, 40.71478881, 44.7028143 , 47.07625497, 30.62011323,\n",
       "       37.58116676, 39.50019908, 41.84241228, 38.50385746, 38.09506585,\n",
       "       33.48910262, 34.74037716, 42.58440504, 43.07828825, 43.93299825,\n",
       "       36.66463525, 49.23417154, 39.53414746, 41.20163856, 35.49705599,\n",
       "       37.30645815, 37.06113534, 44.53144318, 42.14467834, 35.95444415,\n",
       "       39.98727891, 42.61180318, 48.92202489, 32.9918278 , 35.72078731,\n",
       "       35.61421558, 43.72342557, 34.35446546, 42.17130675, 38.18150909,\n",
       "       37.75966676, 51.8176507 , 29.38718196, 41.2428486 , 46.13098018,\n",
       "       41.42862941, 44.34397029, 33.82641285, 38.37400689, 45.18676067,\n",
       "       42.20818581, 41.48758706, 32.78661006, 39.35149166, 38.72646862,\n",
       "       39.32064835, 45.99735861, 30.43794567, 46.12927335, 40.76456659,\n",
       "       40.64941964, 53.871075  , 41.09220264, 45.88345507, 40.39588682,\n",
       "       37.03421717, 37.41930898, 40.6712702 , 49.0958302 , 41.60250567,\n",
       "       32.74113702, 39.11437039, 43.6701718 , 32.34305158, 42.90374836,\n",
       "       37.53906185, 37.25473154, 44.15638619, 35.17580181, 43.48425281,\n",
       "       43.74784227, 44.97023777, 53.20443076, 34.59345272, 38.33288612,\n",
       "       37.54993033, 34.42157849, 38.99566528, 35.24595889, 34.72936335,\n",
       "       38.70783625, 35.20099051, 35.13106256, 41.99994691, 38.06410715,\n",
       "       44.29960161, 37.05052953, 50.55554515, 43.69764495, 40.18455901,\n",
       "       40.90144295, 40.74968323, 41.40923426, 31.11075475, 29.06503463,\n",
       "       43.3151231 , 29.69855967, 51.59955334, 49.61888563, 37.71272604,\n",
       "       42.52632685, 34.50330708, 38.54003728, 48.21285788, 44.34186203,\n",
       "       42.87324153, 34.909742  , 47.53117908, 41.83681706, 34.70922702,\n",
       "       45.19550861, 41.7931315 , 39.04864267, 37.23110051, 41.25472548,\n",
       "       38.72411233, 43.56344156, 40.65467356, 40.2997022 , 42.75093207,\n",
       "       31.98903519, 49.31646158, 34.82478079, 36.22492274, 37.54070228,\n",
       "       45.15126707, 40.88745029, 39.42843878, 37.78377755, 32.56232841,\n",
       "       44.931132  , 50.45234593, 37.98747406, 41.64195218, 33.67376389,\n",
       "       41.64476041, 33.34450225, 34.86137063, 38.67701245, 34.31277374,\n",
       "       50.28227869, 41.89557076, 34.04229646, 34.61295247, 42.55745273,\n",
       "       42.77675639, 45.51102906, 42.32305451, 42.41828394, 39.1009145 ,\n",
       "       34.04633609, 36.86484226, 42.79206512, 35.63970776, 38.690448  ,\n",
       "       39.75535526, 34.75942909, 40.70393303, 35.57585348, 42.15073442,\n",
       "       46.20714097, 40.14149618, 34.92538406, 41.45998982, 28.5332149 ,\n",
       "       35.80140596, 45.11805675, 41.83743639, 38.86147183, 38.6686016 ,\n",
       "       36.76078919, 33.28851023, 43.8274872 , 41.89771883, 28.36297995,\n",
       "       35.4675867 , 51.60917096, 39.98397911, 34.82708602, 46.01749029,\n",
       "       36.2878903 , 34.83361933, 41.81872147, 46.72755128, 41.49794277,\n",
       "       46.03155511, 29.58821107, 40.86822307, 27.62721745, 44.89822373,\n",
       "       38.06649136, 42.4608418 , 40.88897964, 38.2211407 , 48.0339169 ,\n",
       "       42.32498446, 41.35252353, 41.44250307, 44.88911918, 43.69739677,\n",
       "       46.76983584, 41.99475968, 38.74682173, 43.5509317 , 25.79113727,\n",
       "       48.36963696, 36.50764033, 35.40947666, 43.08887595, 41.44413456,\n",
       "       43.71345462, 34.37951329, 41.0126724 , 39.93730002, 51.14933641,\n",
       "       35.51219416, 48.14783533, 42.37806266, 36.84748857, 39.50926954,\n",
       "       43.23579248, 36.32750373, 37.77684902, 36.11536817, 44.21360363,\n",
       "       42.54226669, 39.97875818, 46.53829427, 38.10533454, 40.93034885,\n",
       "       42.38517766, 38.32917114, 40.12514369, 40.1094504 , 40.26744048,\n",
       "       45.01845121, 40.93043299, 45.79559469, 32.2880088 , 41.88552457,\n",
       "       31.18716178, 40.25804047, 38.39540366, 42.09286721, 43.03338487,\n",
       "       43.83819279, 30.33548214, 41.76541665, 28.79445101, 40.01128166,\n",
       "       50.55963021, 39.20238179, 30.39437547, 27.24758143, 40.54425058,\n",
       "       35.2262942 , 36.62282626, 35.43269976, 39.87420431, 41.2930733 ,\n",
       "       35.36434891, 49.81568293, 37.25154484, 42.11635255, 34.98617959,\n",
       "       34.35469904, 36.99117852, 31.83633535, 37.70426803, 43.88267162,\n",
       "       31.55426066, 41.40287806, 38.78910771, 41.14224692, 36.63620906,\n",
       "       39.02671056, 43.56107357, 39.83053488, 35.76986255, 44.10872292,\n",
       "       35.88706042, 37.21361074, 47.87208025, 42.60370421, 34.29084039,\n",
       "       38.13716658, 38.83293813, 34.65332166, 40.9517762 , 28.37684945,\n",
       "       40.32994411, 32.81870387, 34.56283654, 44.77005955, 38.48415106,\n",
       "       36.29780466, 39.73990227, 38.6279319 , 34.97703026, 40.26205348,\n",
       "       40.40575569, 47.19986033, 35.06187638, 34.76789932, 40.89236492,\n",
       "       32.71676535, 40.53472518, 41.72368082, 41.03508767, 42.98385717,\n",
       "       40.98417651, 47.05822159, 43.89742514, 40.08102779, 34.42989217,\n",
       "       39.46598901, 42.4223972 , 40.07684582, 34.09196739, 37.68270505,\n",
       "       40.18192755, 36.65083865, 36.935073  , 37.3977044 , 46.70149889,\n",
       "       31.5790121 , 43.72242537, 37.96639037, 36.15143633, 38.22884324,\n",
       "       29.84925067, 41.8004063 , 43.13348518, 24.99513135, 41.07591492,\n",
       "       42.84273327, 38.89102238, 44.50917373, 43.83775926, 36.61253406,\n",
       "       45.28625221, 40.25221292, 42.98144141, 39.39154482, 43.61445335,\n",
       "       33.98740389, 41.13146913, 36.08709899, 39.28679799, 42.17080885,\n",
       "       34.40882728, 45.48032953, 36.5039659 , 35.71729314, 38.20059596,\n",
       "       41.94114173, 38.96891023, 34.48906329, 32.43466223, 37.6211234 ,\n",
       "       34.01432798, 42.32277298, 30.40415481, 44.62322814, 35.4238399 ,\n",
       "       43.4764847 , 41.18249171, 39.73023312, 45.95227524, 34.87693132,\n",
       "       40.11250781, 43.69725198, 36.6677934 , 43.2390102 , 31.95458919,\n",
       "       34.66296685, 32.71974474, 35.18062128, 38.27809748, 39.03534253,\n",
       "       37.53292142, 33.21717949, 36.44177555, 45.9165607 , 34.22288627,\n",
       "       44.93499406, 48.58971807, 47.81699371, 46.0294809 , 34.75640961,\n",
       "       44.28595912, 40.42471634, 40.78278108, 36.14964432, 39.22685805,\n",
       "       32.33197047, 44.7033432 , 38.22119669, 35.11854037, 43.0920566 ,\n",
       "       40.4791959 , 27.76223663, 46.55568062, 41.10261269, 39.85507969,\n",
       "       48.57406167, 35.36981638, 41.75524265, 45.82542107, 47.9645459 ,\n",
       "       42.1485671 , 36.73992983, 47.89479325, 44.03195791, 46.3575104 ,\n",
       "       45.65136409, 39.65290698, 40.45512293, 41.70429782, 40.23803265,\n",
       "       38.26668076, 36.93298627, 44.59535719, 40.04850268, 39.09668842,\n",
       "       42.73975626, 36.10712851, 44.86762769, 42.62276382, 44.7015923 ])"
      ]
     },
     "execution_count": 33,
     "metadata": {},
     "output_type": "execute_result"
    }
   ],
   "source": [
    "sample"
   ]
  },
  {
   "cell_type": "code",
   "execution_count": 24,
   "id": "098b7c6b",
   "metadata": {},
   "outputs": [
    {
     "data": {
      "text/plain": [
       "(array([ 1.,  0.,  1.,  2.,  1.,  1.,  8.,  7.,  4., 10., 17., 20., 17.,\n",
       "        22., 16., 28., 21., 24., 17., 21.,  7., 16., 10., 15.,  9., 17.,\n",
       "         9., 23., 30., 30., 33., 35., 47., 68., 45., 53., 60., 54., 46.,\n",
       "        37., 32., 24., 20., 15.,  9.,  7.,  6.,  3.,  0.,  2.]),\n",
       " array([ 3.84062095,  4.87145871,  5.90229647,  6.93313423,  7.96397199,\n",
       "         8.99480975, 10.02564751, 11.05648526, 12.08732302, 13.11816078,\n",
       "        14.14899854, 15.1798363 , 16.21067406, 17.24151182, 18.27234958,\n",
       "        19.30318734, 20.3340251 , 21.36486286, 22.39570062, 23.42653838,\n",
       "        24.45737614, 25.4882139 , 26.51905166, 27.54988942, 28.58072718,\n",
       "        29.61156494, 30.6424027 , 31.67324046, 32.70407822, 33.73491598,\n",
       "        34.76575374, 35.79659149, 36.82742925, 37.85826701, 38.88910477,\n",
       "        39.91994253, 40.95078029, 41.98161805, 43.01245581, 44.04329357,\n",
       "        45.07413133, 46.10496909, 47.13580685, 48.16664461, 49.19748237,\n",
       "        50.22832013, 51.25915789, 52.28999565, 53.32083341, 54.35167117,\n",
       "        55.38250893]),\n",
       " <BarContainer object of 50 artists>)"
      ]
     },
     "execution_count": 24,
     "metadata": {},
     "output_type": "execute_result"
    },
    {
     "data": {
      "image/png": "[encoded data removed]",
      "text/plain": [
       "<Figure size 640x480 with 1 Axes>"
      ]
     },
     "metadata": {},
     "output_type": "display_data"
    }
   ],
   "source": [
    "# plot histogram for above data bins=50\n",
    "plt.hist(sample, bins=50)"
   ]
  },
  {
   "cell_type": "code",
   "execution_count": 25,
   "id": "77ed6cd6",
   "metadata": {},
   "outputs": [
    {
     "data": {
      "text/html": [
       "<style>#sk-container-id-1 {\n",
       "  /* Definition of color scheme common for light and dark mode */\n",
       "  --sklearn-color-text: #000;\n",
       "  --sklearn-color-text-muted: #666;\n",
       "  --sklearn-color-line: gray;\n",
       "  /* Definition of color scheme for unfitted estimators */\n",
       "  --sklearn-color-unfitted-level-0: #fff5e6;\n",
       "  --sklearn-color-unfitted-level-1: #f6e4d2;\n",
       "  --sklearn-color-unfitted-level-2: #ffe0b3;\n",
       "  --sklearn-color-unfitted-level-3: chocolate;\n",
       "  /* Definition of color scheme for fitted estimators */\n",
       "  --sklearn-color-fitted-level-0: #f0f8ff;\n",
       "  --sklearn-color-fitted-level-1: #d4ebff;\n",
       "  --sklearn-color-fitted-level-2: #b3dbfd;\n",
       "  --sklearn-color-fitted-level-3: cornflowerblue;\n",
       "\n",
       "  /* Specific color for light theme */\n",
       "  --sklearn-color-text-on-default-background: var(--sg-text-color, var(--theme-code-foreground, var(--jp-content-font-color1, black)));\n",
       "  --sklearn-color-background: var(--sg-background-color, var(--theme-background, var(--jp-layout-color0, white)));\n",
       "  --sklearn-color-border-box: var(--sg-text-color, var(--theme-code-foreground, var(--jp-content-font-color1, black)));\n",
       "  --sklearn-color-icon: #696969;\n",
       "\n",
       "  @media (prefers-color-scheme: dark) {\n",
       "    /* Redefinition of color scheme for dark theme */\n",
       "    --sklearn-color-text-on-default-background: var(--sg-text-color, var(--theme-code-foreground, var(--jp-content-font-color1, white)));\n",
       "    --sklearn-color-background: var(--sg-background-color, var(--theme-background, var(--jp-layout-color0, #111)));\n",
       "    --sklearn-color-border-box: var(--sg-text-color, var(--theme-code-foreground, var(--jp-content-font-color1, white)));\n",
       "    --sklearn-color-icon: #878787;\n",
       "  }\n",
       "}\n",
       "\n",
       "#sk-container-id-1 {\n",
       "  color: var(--sklearn-color-text);\n",
       "}\n",
       "\n",
       "#sk-container-id-1 pre {\n",
       "  padding: 0;\n",
       "}\n",
       "\n",
       "#sk-container-id-1 input.sk-hidden--visually {\n",
       "  border: 0;\n",
       "  clip: rect(1px 1px 1px 1px);\n",
       "  clip: rect(1px, 1px, 1px, 1px);\n",
       "  height: 1px;\n",
       "  margin: -1px;\n",
       "  overflow: hidden;\n",
       "  padding: 0;\n",
       "  position: absolute;\n",
       "  width: 1px;\n",
       "}\n",
       "\n",
       "#sk-container-id-1 div.sk-dashed-wrapped {\n",
       "  border: 1px dashed var(--sklearn-color-line);\n",
       "  margin: 0 0.4em 0.5em 0.4em;\n",
       "  box-sizing: border-box;\n",
       "  padding-bottom: 0.4em;\n",
       "  background-color: var(--sklearn-color-background);\n",
       "}\n",
       "\n",
       "#sk-container-id-1 div.sk-container {\n",
       "  /* jupyter's `normalize.less` sets `[hidden] { display: none; }`\n",
       "     but bootstrap.min.css set `[hidden] { display: none !important; }`\n",
       "     so we also need the `!important` here to be able to override the\n",
       "     default hidden behavior on the sphinx rendered scikit-learn.org.\n",
       "     See: https://github.com/scikit-learn/scikit-learn/issues/21755 */\n",
       "  display: inline-block !important;\n",
       "  position: relative;\n",
       "}\n",
       "\n",
       "#sk-container-id-1 div.sk-text-repr-fallback {\n",
       "  display: none;\n",
       "}\n",
       "\n",
       "div.sk-parallel-item,\n",
       "div.sk-serial,\n",
       "div.sk-item {\n",
       "  /* draw centered vertical line to link estimators */\n",
       "  background-image: linear-gradient(var(--sklearn-color-text-on-default-background), var(--sklearn-color-text-on-default-background));\n",
       "  background-size: 2px 100%;\n",
       "  background-repeat: no-repeat;\n",
       "  background-position: center center;\n",
       "}\n",
       "\n",
       "/* Parallel-specific style estimator block */\n",
       "\n",
       "#sk-container-id-1 div.sk-parallel-item::after {\n",
       "  content: \"\";\n",
       "  width: 100%;\n",
       "  border-bottom: 2px solid var(--sklearn-color-text-on-default-background);\n",
       "  flex-grow: 1;\n",
       "}\n",
       "\n",
       "#sk-container-id-1 div.sk-parallel {\n",
       "  display: flex;\n",
       "  align-items: stretch;\n",
       "  justify-content: center;\n",
       "  background-color: var(--sklearn-color-background);\n",
       "  position: relative;\n",
       "}\n",
       "\n",
       "#sk-container-id-1 div.sk-parallel-item {\n",
       "  display: flex;\n",
       "  flex-direction: column;\n",
       "}\n",
       "\n",
       "#sk-container-id-1 div.sk-parallel-item:first-child::after {\n",
       "  align-self: flex-end;\n",
       "  width: 50%;\n",
       "}\n",
       "\n",
       "#sk-container-id-1 div.sk-parallel-item:last-child::after {\n",
       "  align-self: flex-start;\n",
       "  width: 50%;\n",
       "}\n",
       "\n",
       "#sk-container-id-1 div.sk-parallel-item:only-child::after {\n",
       "  width: 0;\n",
       "}\n",
       "\n",
       "/* Serial-specific style estimator block */\n",
       "\n",
       "#sk-container-id-1 div.sk-serial {\n",
       "  display: flex;\n",
       "  flex-direction: column;\n",
       "  align-items: center;\n",
       "  background-color: var(--sklearn-color-background);\n",
       "  padding-right: 1em;\n",
       "  padding-left: 1em;\n",
       "}\n",
       "\n",
       "\n",
       "/* Toggleable style: style used for estimator/Pipeline/ColumnTransformer box that is\n",
       "clickable and can be expanded/collapsed.\n",
       "- Pipeline and ColumnTransformer use this feature and define the default style\n",
       "- Estimators will overwrite some part of the style using the `sk-estimator` class\n",
       "*/\n",
       "\n",
       "/* Pipeline and ColumnTransformer style (default) */\n",
       "\n",
       "#sk-container-id-1 div.sk-toggleable {\n",
       "  /* Default theme specific background. It is overwritten whether we have a\n",
       "  specific estimator or a Pipeline/ColumnTransformer */\n",
       "  background-color: var(--sklearn-color-background);\n",
       "}\n",
       "\n",
       "/* Toggleable label */\n",
       "#sk-container-id-1 label.sk-toggleable__label {\n",
       "  cursor: pointer;\n",
       "  display: flex;\n",
       "  width: 100%;\n",
       "  margin-bottom: 0;\n",
       "  padding: 0.5em;\n",
       "  box-sizing: border-box;\n",
       "  text-align: center;\n",
       "  align-items: start;\n",
       "  justify-content: space-between;\n",
       "  gap: 0.5em;\n",
       "}\n",
       "\n",
       "#sk-container-id-1 label.sk-toggleable__label .caption {\n",
       "  font-size: 0.6rem;\n",
       "  font-weight: lighter;\n",
       "  color: var(--sklearn-color-text-muted);\n",
       "}\n",
       "\n",
       "#sk-container-id-1 label.sk-toggleable__label-arrow:before {\n",
       "  /* Arrow on the left of the label */\n",
       "  content: \"▸\";\n",
       "  float: left;\n",
       "  margin-right: 0.25em;\n",
       "  color: var(--sklearn-color-icon);\n",
       "}\n",
       "\n",
       "#sk-container-id-1 label.sk-toggleable__label-arrow:hover:before {\n",
       "  color: var(--sklearn-color-text);\n",
       "}\n",
       "\n",
       "/* Toggleable content - dropdown */\n",
       "\n",
       "#sk-container-id-1 div.sk-toggleable__content {\n",
       "  display: none;\n",
       "  text-align: left;\n",
       "  /* unfitted */\n",
       "  background-color: var(--sklearn-color-unfitted-level-0);\n",
       "}\n",
       "\n",
       "#sk-container-id-1 div.sk-toggleable__content.fitted {\n",
       "  /* fitted */\n",
       "  background-color: var(--sklearn-color-fitted-level-0);\n",
       "}\n",
       "\n",
       "#sk-container-id-1 div.sk-toggleable__content pre {\n",
       "  margin: 0.2em;\n",
       "  border-radius: 0.25em;\n",
       "  color: var(--sklearn-color-text);\n",
       "  /* unfitted */\n",
       "  background-color: var(--sklearn-color-unfitted-level-0);\n",
       "}\n",
       "\n",
       "#sk-container-id-1 div.sk-toggleable__content.fitted pre {\n",
       "  /* unfitted */\n",
       "  background-color: var(--sklearn-color-fitted-level-0);\n",
       "}\n",
       "\n",
       "#sk-container-id-1 input.sk-toggleable__control:checked~div.sk-toggleable__content {\n",
       "  /* Expand drop-down */\n",
       "  display: block;\n",
       "  width: 100%;\n",
       "  overflow: visible;\n",
       "}\n",
       "\n",
       "#sk-container-id-1 input.sk-toggleable__control:checked~label.sk-toggleable__label-arrow:before {\n",
       "  content: \"▾\";\n",
       "}\n",
       "\n",
       "/* Pipeline/ColumnTransformer-specific style */\n",
       "\n",
       "#sk-container-id-1 div.sk-label input.sk-toggleable__control:checked~label.sk-toggleable__label {\n",
       "  color: var(--sklearn-color-text);\n",
       "  background-color: var(--sklearn-color-unfitted-level-2);\n",
       "}\n",
       "\n",
       "#sk-container-id-1 div.sk-label.fitted input.sk-toggleable__control:checked~label.sk-toggleable__label {\n",
       "  background-color: var(--sklearn-color-fitted-level-2);\n",
       "}\n",
       "\n",
       "/* Estimator-specific style */\n",
       "\n",
       "/* Colorize estimator box */\n",
       "#sk-container-id-1 div.sk-estimator input.sk-toggleable__control:checked~label.sk-toggleable__label {\n",
       "  /* unfitted */\n",
       "  background-color: var(--sklearn-color-unfitted-level-2);\n",
       "}\n",
       "\n",
       "#sk-container-id-1 div.sk-estimator.fitted input.sk-toggleable__control:checked~label.sk-toggleable__label {\n",
       "  /* fitted */\n",
       "  background-color: var(--sklearn-color-fitted-level-2);\n",
       "}\n",
       "\n",
       "#sk-container-id-1 div.sk-label label.sk-toggleable__label,\n",
       "#sk-container-id-1 div.sk-label label {\n",
       "  /* The background is the default theme color */\n",
       "  color: var(--sklearn-color-text-on-default-background);\n",
       "}\n",
       "\n",
       "/* On hover, darken the color of the background */\n",
       "#sk-container-id-1 div.sk-label:hover label.sk-toggleable__label {\n",
       "  color: var(--sklearn-color-text);\n",
       "  background-color: var(--sklearn-color-unfitted-level-2);\n",
       "}\n",
       "\n",
       "/* Label box, darken color on hover, fitted */\n",
       "#sk-container-id-1 div.sk-label.fitted:hover label.sk-toggleable__label.fitted {\n",
       "  color: var(--sklearn-color-text);\n",
       "  background-color: var(--sklearn-color-fitted-level-2);\n",
       "}\n",
       "\n",
       "/* Estimator label */\n",
       "\n",
       "#sk-container-id-1 div.sk-label label {\n",
       "  font-family: monospace;\n",
       "  font-weight: bold;\n",
       "  display: inline-block;\n",
       "  line-height: 1.2em;\n",
       "}\n",
       "\n",
       "#sk-container-id-1 div.sk-label-container {\n",
       "  text-align: center;\n",
       "}\n",
       "\n",
       "/* Estimator-specific */\n",
       "#sk-container-id-1 div.sk-estimator {\n",
       "  font-family: monospace;\n",
       "  border: 1px dotted var(--sklearn-color-border-box);\n",
       "  border-radius: 0.25em;\n",
       "  box-sizing: border-box;\n",
       "  margin-bottom: 0.5em;\n",
       "  /* unfitted */\n",
       "  background-color: var(--sklearn-color-unfitted-level-0);\n",
       "}\n",
       "\n",
       "#sk-container-id-1 div.sk-estimator.fitted {\n",
       "  /* fitted */\n",
       "  background-color: var(--sklearn-color-fitted-level-0);\n",
       "}\n",
       "\n",
       "/* on hover */\n",
       "#sk-container-id-1 div.sk-estimator:hover {\n",
       "  /* unfitted */\n",
       "  background-color: var(--sklearn-color-unfitted-level-2);\n",
       "}\n",
       "\n",
       "#sk-container-id-1 div.sk-estimator.fitted:hover {\n",
       "  /* fitted */\n",
       "  background-color: var(--sklearn-color-fitted-level-2);\n",
       "}\n",
       "\n",
       "/* Specification for estimator info (e.g. \"i\" and \"?\") */\n",
       "\n",
       "/* Common style for \"i\" and \"?\" */\n",
       "\n",
       ".sk-estimator-doc-link,\n",
       "a:link.sk-estimator-doc-link,\n",
       "a:visited.sk-estimator-doc-link {\n",
       "  float: right;\n",
       "  font-size: smaller;\n",
       "  line-height: 1em;\n",
       "  font-family: monospace;\n",
       "  background-color: var(--sklearn-color-background);\n",
       "  border-radius: 1em;\n",
       "  height: 1em;\n",
       "  width: 1em;\n",
       "  text-decoration: none !important;\n",
       "  margin-left: 0.5em;\n",
       "  text-align: center;\n",
       "  /* unfitted */\n",
       "  border: var(--sklearn-color-unfitted-level-1) 1pt solid;\n",
       "  color: var(--sklearn-color-unfitted-level-1);\n",
       "}\n",
       "\n",
       ".sk-estimator-doc-link.fitted,\n",
       "a:link.sk-estimator-doc-link.fitted,\n",
       "a:visited.sk-estimator-doc-link.fitted {\n",
       "  /* fitted */\n",
       "  border: var(--sklearn-color-fitted-level-1) 1pt solid;\n",
       "  color: var(--sklearn-color-fitted-level-1);\n",
       "}\n",
       "\n",
       "/* On hover */\n",
       "div.sk-estimator:hover .sk-estimator-doc-link:hover,\n",
       ".sk-estimator-doc-link:hover,\n",
       "div.sk-label-container:hover .sk-estimator-doc-link:hover,\n",
       ".sk-estimator-doc-link:hover {\n",
       "  /* unfitted */\n",
       "  background-color: var(--sklearn-color-unfitted-level-3);\n",
       "  color: var(--sklearn-color-background);\n",
       "  text-decoration: none;\n",
       "}\n",
       "\n",
       "div.sk-estimator.fitted:hover .sk-estimator-doc-link.fitted:hover,\n",
       ".sk-estimator-doc-link.fitted:hover,\n",
       "div.sk-label-container:hover .sk-estimator-doc-link.fitted:hover,\n",
       ".sk-estimator-doc-link.fitted:hover {\n",
       "  /* fitted */\n",
       "  background-color: var(--sklearn-color-fitted-level-3);\n",
       "  color: var(--sklearn-color-background);\n",
       "  text-decoration: none;\n",
       "}\n",
       "\n",
       "/* Span, style for the box shown on hovering the info icon */\n",
       ".sk-estimator-doc-link span {\n",
       "  display: none;\n",
       "  z-index: 9999;\n",
       "  position: relative;\n",
       "  font-weight: normal;\n",
       "  right: .2ex;\n",
       "  padding: .5ex;\n",
       "  margin: .5ex;\n",
       "  width: min-content;\n",
       "  min-width: 20ex;\n",
       "  max-width: 50ex;\n",
       "  color: var(--sklearn-color-text);\n",
       "  box-shadow: 2pt 2pt 4pt #999;\n",
       "  /* unfitted */\n",
       "  background: var(--sklearn-color-unfitted-level-0);\n",
       "  border: .5pt solid var(--sklearn-color-unfitted-level-3);\n",
       "}\n",
       "\n",
       ".sk-estimator-doc-link.fitted span {\n",
       "  /* fitted */\n",
       "  background: var(--sklearn-color-fitted-level-0);\n",
       "  border: var(--sklearn-color-fitted-level-3);\n",
       "}\n",
       "\n",
       ".sk-estimator-doc-link:hover span {\n",
       "  display: block;\n",
       "}\n",
       "\n",
       "/* \"?\"-specific style due to the `<a>` HTML tag */\n",
       "\n",
       "#sk-container-id-1 a.estimator_doc_link {\n",
       "  float: right;\n",
       "  font-size: 1rem;\n",
       "  line-height: 1em;\n",
       "  font-family: monospace;\n",
       "  background-color: var(--sklearn-color-background);\n",
       "  border-radius: 1rem;\n",
       "  height: 1rem;\n",
       "  width: 1rem;\n",
       "  text-decoration: none;\n",
       "  /* unfitted */\n",
       "  color: var(--sklearn-color-unfitted-level-1);\n",
       "  border: var(--sklearn-color-unfitted-level-1) 1pt solid;\n",
       "}\n",
       "\n",
       "#sk-container-id-1 a.estimator_doc_link.fitted {\n",
       "  /* fitted */\n",
       "  border: var(--sklearn-color-fitted-level-1) 1pt solid;\n",
       "  color: var(--sklearn-color-fitted-level-1);\n",
       "}\n",
       "\n",
       "/* On hover */\n",
       "#sk-container-id-1 a.estimator_doc_link:hover {\n",
       "  /* unfitted */\n",
       "  background-color: var(--sklearn-color-unfitted-level-3);\n",
       "  color: var(--sklearn-color-background);\n",
       "  text-decoration: none;\n",
       "}\n",
       "\n",
       "#sk-container-id-1 a.estimator_doc_link.fitted:hover {\n",
       "  /* fitted */\n",
       "  background-color: var(--sklearn-color-fitted-level-3);\n",
       "}\n",
       "\n",
       ".estimator-table summary {\n",
       "    padding: .5rem;\n",
       "    font-family: monospace;\n",
       "    cursor: pointer;\n",
       "}\n",
       "\n",
       ".estimator-table details[open] {\n",
       "    padding-left: 0.1rem;\n",
       "    padding-right: 0.1rem;\n",
       "    padding-bottom: 0.3rem;\n",
       "}\n",
       "\n",
       ".estimator-table .parameters-table {\n",
       "    margin-left: auto !important;\n",
       "    margin-right: auto !important;\n",
       "}\n",
       "\n",
       ".estimator-table .parameters-table tr:nth-child(odd) {\n",
       "    background-color: #fff;\n",
       "}\n",
       "\n",
       ".estimator-table .parameters-table tr:nth-child(even) {\n",
       "    background-color: #f6f6f6;\n",
       "}\n",
       "\n",
       ".estimator-table .parameters-table tr:hover {\n",
       "    background-color: #e0e0e0;\n",
       "}\n",
       "\n",
       ".estimator-table table td {\n",
       "    border: 1px solid rgba(106, 105, 104, 0.232);\n",
       "}\n",
       "\n",
       ".user-set td {\n",
       "    color:rgb(255, 94, 0);\n",
       "    text-align: left;\n",
       "}\n",
       "\n",
       ".user-set td.value pre {\n",
       "    color:rgb(255, 94, 0) !important;\n",
       "    background-color: transparent !important;\n",
       "}\n",
       "\n",
       ".default td {\n",
       "    color: black;\n",
       "    text-align: left;\n",
       "}\n",
       "\n",
       ".user-set td i,\n",
       ".default td i {\n",
       "    color: black;\n",
       "}\n",
       "\n",
       ".copy-paste-icon {\n",
       "    background-image: url(data:image/svg+xml;base64,PHN2ZyB4bWxucz0iaHR0cDovL3d3dy53My5vcmcvMjAwMC9zdmciIHZpZXdCb3g9IjAgMCA0NDggNTEyIj48IS0tIUZvbnQgQXdlc29tZSBGcmVlIDYuNy4yIGJ5IEBmb250YXdlc29tZSAtIGh0dHBzOi8vZm9udGF3ZXNvbWUuY29tIExpY2Vuc2UgLSBodHRwczovL2ZvbnRhd2Vzb21lLmNvbS9saWNlbnNlL2ZyZWUgQ29weXJpZ2h0IDIwMjUgRm9udGljb25zLCBJbmMuLS0+PHBhdGggZD0iTTIwOCAwTDMzMi4xIDBjMTIuNyAwIDI0LjkgNS4xIDMzLjkgMTQuMWw2Ny45IDY3LjljOSA5IDE0LjEgMjEuMiAxNC4xIDMzLjlMNDQ4IDMzNmMwIDI2LjUtMjEuNSA0OC00OCA0OGwtMTkyIDBjLTI2LjUgMC00OC0yMS41LTQ4LTQ4bDAtMjg4YzAtMjYuNSAyMS41LTQ4IDQ4LTQ4ek00OCAxMjhsODAgMCAwIDY0LTY0IDAgMCAyNTYgMTkyIDAgMC0zMiA2NCAwIDAgNDhjMCAyNi41LTIxLjUgNDgtNDggNDhMNDggNTEyYy0yNi41IDAtNDgtMjEuNS00OC00OEwwIDE3NmMwLTI2LjUgMjEuNS00OCA0OC00OHoiLz48L3N2Zz4=);\n",
       "    background-repeat: no-repeat;\n",
       "    background-size: 14px 14px;\n",
       "    background-position: 0;\n",
       "    display: inline-block;\n",
       "    width: 14px;\n",
       "    height: 14px;\n",
       "    cursor: pointer;\n",
       "}\n",
       "</style><body><div id=\"sk-container-id-1\" class=\"sk-top-container\"><div class=\"sk-text-repr-fallback\"><pre>KernelDensity(bandwidth=3)</pre><b>In a Jupyter environment, please rerun this cell to show the HTML representation or trust the notebook. <br />On GitHub, the HTML representation is unable to render, please try loading this page with nbviewer.org.</b></div><div class=\"sk-container\" hidden><div class=\"sk-item\"><div class=\"sk-estimator fitted sk-toggleable\"><input class=\"sk-toggleable__control sk-hidden--visually\" id=\"sk-estimator-id-1\" type=\"checkbox\" checked><label for=\"sk-estimator-id-1\" class=\"sk-toggleable__label fitted sk-toggleable__label-arrow\"><div><div>KernelDensity</div></div><div><a class=\"sk-estimator-doc-link fitted\" rel=\"noreferrer\" target=\"_blank\" href=\"https://scikit-learn.org/1.7/modules/generated/sklearn.neighbors.KernelDensity.html\">?<span>Documentation for KernelDensity</span></a><span class=\"sk-estimator-doc-link fitted\">i<span>Fitted</span></span></div></label><div class=\"sk-toggleable__content fitted\" data-param-prefix=\"\">\n",
       "        <div class=\"estimator-table\">\n",
       "            <details>\n",
       "                <summary>Parameters</summary>\n",
       "                <table class=\"parameters-table\">\n",
       "                  <tbody>\n",
       "                    \n",
       "        <tr class=\"user-set\">\n",
       "            <td><i class=\"copy-paste-icon\"\n",
       "                 onclick=\"copyToClipboard('bandwidth',\n",
       "                          this.parentElement.nextElementSibling)\"\n",
       "            ></i></td>\n",
       "            <td class=\"param\">bandwidth&nbsp;</td>\n",
       "            <td class=\"value\">3</td>\n",
       "        </tr>\n",
       "    \n",
       "\n",
       "        <tr class=\"default\">\n",
       "            <td><i class=\"copy-paste-icon\"\n",
       "                 onclick=\"copyToClipboard('algorithm',\n",
       "                          this.parentElement.nextElementSibling)\"\n",
       "            ></i></td>\n",
       "            <td class=\"param\">algorithm&nbsp;</td>\n",
       "            <td class=\"value\">&#x27;auto&#x27;</td>\n",
       "        </tr>\n",
       "    \n",
       "\n",
       "        <tr class=\"default\">\n",
       "            <td><i class=\"copy-paste-icon\"\n",
       "                 onclick=\"copyToClipboard('kernel',\n",
       "                          this.parentElement.nextElementSibling)\"\n",
       "            ></i></td>\n",
       "            <td class=\"param\">kernel&nbsp;</td>\n",
       "            <td class=\"value\">&#x27;gaussian&#x27;</td>\n",
       "        </tr>\n",
       "    \n",
       "\n",
       "        <tr class=\"default\">\n",
       "            <td><i class=\"copy-paste-icon\"\n",
       "                 onclick=\"copyToClipboard('metric',\n",
       "                          this.parentElement.nextElementSibling)\"\n",
       "            ></i></td>\n",
       "            <td class=\"param\">metric&nbsp;</td>\n",
       "            <td class=\"value\">&#x27;euclidean&#x27;</td>\n",
       "        </tr>\n",
       "    \n",
       "\n",
       "        <tr class=\"default\">\n",
       "            <td><i class=\"copy-paste-icon\"\n",
       "                 onclick=\"copyToClipboard('atol',\n",
       "                          this.parentElement.nextElementSibling)\"\n",
       "            ></i></td>\n",
       "            <td class=\"param\">atol&nbsp;</td>\n",
       "            <td class=\"value\">0</td>\n",
       "        </tr>\n",
       "    \n",
       "\n",
       "        <tr class=\"default\">\n",
       "            <td><i class=\"copy-paste-icon\"\n",
       "                 onclick=\"copyToClipboard('rtol',\n",
       "                          this.parentElement.nextElementSibling)\"\n",
       "            ></i></td>\n",
       "            <td class=\"param\">rtol&nbsp;</td>\n",
       "            <td class=\"value\">0</td>\n",
       "        </tr>\n",
       "    \n",
       "\n",
       "        <tr class=\"default\">\n",
       "            <td><i class=\"copy-paste-icon\"\n",
       "                 onclick=\"copyToClipboard('breadth_first',\n",
       "                          this.parentElement.nextElementSibling)\"\n",
       "            ></i></td>\n",
       "            <td class=\"param\">breadth_first&nbsp;</td>\n",
       "            <td class=\"value\">True</td>\n",
       "        </tr>\n",
       "    \n",
       "\n",
       "        <tr class=\"default\">\n",
       "            <td><i class=\"copy-paste-icon\"\n",
       "                 onclick=\"copyToClipboard('leaf_size',\n",
       "                          this.parentElement.nextElementSibling)\"\n",
       "            ></i></td>\n",
       "            <td class=\"param\">leaf_size&nbsp;</td>\n",
       "            <td class=\"value\">40</td>\n",
       "        </tr>\n",
       "    \n",
       "\n",
       "        <tr class=\"default\">\n",
       "            <td><i class=\"copy-paste-icon\"\n",
       "                 onclick=\"copyToClipboard('metric_params',\n",
       "                          this.parentElement.nextElementSibling)\"\n",
       "            ></i></td>\n",
       "            <td class=\"param\">metric_params&nbsp;</td>\n",
       "            <td class=\"value\">None</td>\n",
       "        </tr>\n",
       "    \n",
       "                  </tbody>\n",
       "                </table>\n",
       "            </details>\n",
       "        </div>\n",
       "    </div></div></div></div></div><script>function copyToClipboard(text, element) {\n",
       "    // Get the parameter prefix from the closest toggleable content\n",
       "    const toggleableContent = element.closest('.sk-toggleable__content');\n",
       "    const paramPrefix = toggleableContent ? toggleableContent.dataset.paramPrefix : '';\n",
       "    const fullParamName = paramPrefix ? `${paramPrefix}${text}` : text;\n",
       "\n",
       "    const originalStyle = element.style;\n",
       "    const computedStyle = window.getComputedStyle(element);\n",
       "    const originalWidth = computedStyle.width;\n",
       "    const originalHTML = element.innerHTML.replace('Copied!', '');\n",
       "\n",
       "    navigator.clipboard.writeText(fullParamName)\n",
       "        .then(() => {\n",
       "            element.style.width = originalWidth;\n",
       "            element.style.color = 'green';\n",
       "            element.innerHTML = \"Copied!\";\n",
       "\n",
       "            setTimeout(() => {\n",
       "                element.innerHTML = originalHTML;\n",
       "                element.style = originalStyle;\n",
       "            }, 2000);\n",
       "        })\n",
       "        .catch(err => {\n",
       "            console.error('Failed to copy:', err);\n",
       "            element.style.color = 'red';\n",
       "            element.innerHTML = \"Failed!\";\n",
       "            setTimeout(() => {\n",
       "                element.innerHTML = originalHTML;\n",
       "                element.style = originalStyle;\n",
       "            }, 2000);\n",
       "        });\n",
       "    return false;\n",
       "}\n",
       "\n",
       "document.querySelectorAll('.fa-regular.fa-copy').forEach(function(element) {\n",
       "    const toggleableContent = element.closest('.sk-toggleable__content');\n",
       "    const paramPrefix = toggleableContent ? toggleableContent.dataset.paramPrefix : '';\n",
       "    const paramName = element.parentElement.nextElementSibling.textContent.trim();\n",
       "    const fullParamName = paramPrefix ? `${paramPrefix}${paramName}` : paramName;\n",
       "\n",
       "    element.setAttribute('title', fullParamName);\n",
       "});\n",
       "</script></body>"
      ],
      "text/plain": [
       "KernelDensity(bandwidth=3)"
      ]
     },
     "execution_count": 25,
     "metadata": {},
     "output_type": "execute_result"
    }
   ],
   "source": [
    "# to implement KDE functionality we will use sklearn library\n",
    "\n",
    "from sklearn.neighbors import KernelDensity\n",
    "# Import KernelDensity class from scikit-learn's neighbors module\n",
    "# KernelDensity is used for estimating probability density functions from data\n",
    "# It's useful for understanding the underlying distribution of your dataset\n",
    "\n",
    "model = KernelDensity(bandwidth=3, kernel='gaussian')\n",
    "# model = KernelDensity(bandwidth=0.5, kernel='gaussian')\n",
    "# model = KernelDensity(bandwidth=5, kernel='gaussian')\n",
    "\n",
    "# Create a KernelDensity estimator object with specific parameters:\n",
    "# - bandwidth=3: Controls the smoothness of the density estimate\n",
    "#   * Higher bandwidth = smoother, more generalized curve\n",
    "#   * Lower bandwidth = more detailed, potentially noisy curve\n",
    "# - kernel='gaussian': Uses Gaussian (normal distribution) kernel function\n",
    "#   * Other options include: 'linear', 'cosine', 'exponential', 'tophat', 'epanechnikov'\n",
    "\n",
    "sample = sample.reshape((len(sample), 1))\n",
    "# Reshape the 1D sample array into a 2D array with shape (n_samples, 1)\n",
    "# scikit-learn requires 2D input where:\n",
    "# - First dimension = number of samples/observations\n",
    "# - Second dimension = number of features (1 for univariate data)\n",
    "# Example: [1,2,3,4,5] becomes [[1],[2],[3],[4],[5]]\n",
    "\n",
    "model.fit(sample)\n",
    "# Train/fit the kernel density model on the reshaped sample data\n",
    "# This step estimates the probability density function from your data\n",
    "# After fitting, the model can be used to:\n",
    "# - Calculate probability densities at specific points using model.score_samples()\n",
    "# - Generate new samples from the estimated distribution using model.sample()"
   ]
  },
  {
   "cell_type": "code",
   "execution_count": 26,
   "id": "83485c2d",
   "metadata": {},
   "outputs": [
    {
     "data": {
      "text/plain": [
       "array([[ 3.84062095],\n",
       "       [ 4.36124608],\n",
       "       [ 4.88187121],\n",
       "       [ 5.40249634],\n",
       "       [ 5.92312147],\n",
       "       [ 6.4437466 ],\n",
       "       [ 6.96437173],\n",
       "       [ 7.48499687],\n",
       "       [ 8.005622  ],\n",
       "       [ 8.52624713],\n",
       "       [ 9.04687226],\n",
       "       [ 9.56749739],\n",
       "       [10.08812252],\n",
       "       [10.60874765],\n",
       "       [11.12937278],\n",
       "       [11.64999791],\n",
       "       [12.17062305],\n",
       "       [12.69124818],\n",
       "       [13.21187331],\n",
       "       [13.73249844],\n",
       "       [14.25312357],\n",
       "       [14.7737487 ],\n",
       "       [15.29437383],\n",
       "       [15.81499896],\n",
       "       [16.33562409],\n",
       "       [16.85624923],\n",
       "       [17.37687436],\n",
       "       [17.89749949],\n",
       "       [18.41812462],\n",
       "       [18.93874975],\n",
       "       [19.45937488],\n",
       "       [19.98000001],\n",
       "       [20.50062514],\n",
       "       [21.02125027],\n",
       "       [21.54187541],\n",
       "       [22.06250054],\n",
       "       [22.58312567],\n",
       "       [23.1037508 ],\n",
       "       [23.62437593],\n",
       "       [24.14500106],\n",
       "       [24.66562619],\n",
       "       [25.18625132],\n",
       "       [25.70687645],\n",
       "       [26.22750159],\n",
       "       [26.74812672],\n",
       "       [27.26875185],\n",
       "       [27.78937698],\n",
       "       [28.31000211],\n",
       "       [28.83062724],\n",
       "       [29.35125237],\n",
       "       [29.8718775 ],\n",
       "       [30.39250263],\n",
       "       [30.91312777],\n",
       "       [31.4337529 ],\n",
       "       [31.95437803],\n",
       "       [32.47500316],\n",
       "       [32.99562829],\n",
       "       [33.51625342],\n",
       "       [34.03687855],\n",
       "       [34.55750368],\n",
       "       [35.07812881],\n",
       "       [35.59875394],\n",
       "       [36.11937908],\n",
       "       [36.64000421],\n",
       "       [37.16062934],\n",
       "       [37.68125447],\n",
       "       [38.2018796 ],\n",
       "       [38.72250473],\n",
       "       [39.24312986],\n",
       "       [39.76375499],\n",
       "       [40.28438012],\n",
       "       [40.80500526],\n",
       "       [41.32563039],\n",
       "       [41.84625552],\n",
       "       [42.36688065],\n",
       "       [42.88750578],\n",
       "       [43.40813091],\n",
       "       [43.92875604],\n",
       "       [44.44938117],\n",
       "       [44.9700063 ],\n",
       "       [45.49063144],\n",
       "       [46.01125657],\n",
       "       [46.5318817 ],\n",
       "       [47.05250683],\n",
       "       [47.57313196],\n",
       "       [48.09375709],\n",
       "       [48.61438222],\n",
       "       [49.13500735],\n",
       "       [49.65563248],\n",
       "       [50.17625762],\n",
       "       [50.69688275],\n",
       "       [51.21750788],\n",
       "       [51.73813301],\n",
       "       [52.25875814],\n",
       "       [52.77938327],\n",
       "       [53.3000084 ],\n",
       "       [53.82063353],\n",
       "       [54.34125866],\n",
       "       [54.8618838 ],\n",
       "       [55.38250893]])"
      ]
     },
     "execution_count": 26,
     "metadata": {},
     "output_type": "execute_result"
    }
   ],
   "source": [
    "# generate 100 data points between minimum and maximum using `np.linspace`\n",
    "values = np.linspace(sample.min(), sample.max(), 100)\n",
    "\n",
    "# Reshape the 1D sample array into a 2D array\n",
    "values = values.reshape((len(values), 1))\n",
    "values"
   ]
  },
  {
   "cell_type": "code",
   "execution_count": 27,
   "id": "6a58aa32",
   "metadata": {},
   "outputs": [],
   "source": [
    "# Calculate the log probability density for each point in 'values'\n",
    "# Returns log-density values (negative numbers, since log of probabilities < 1 is negative)\n",
    "# These are logarithmic values for numerical stability and computational efficiency\n",
    "# Higher values = higher probability density at that point\n",
    "prb_den = model.score_samples(values)\n",
    "\n",
    "# Convert log probability densities back to actual probability densities\n",
    "# Apply exponential function to undo the logarithm: exp(log(x)) = x\n",
    "# Now prb_den contains the actual density values (positive numbers)\n",
    "# These values represent how likely it is to observe data points at each location\n",
    "prb_den = np.exp(prb_den)"
   ]
  },
  {
   "cell_type": "markdown",
   "id": "a0094bfd",
   "metadata": {},
   "source": [
    "Note - `score_samples(values)` returns the log-density estimate of the input samples values. This is because the score_samples() method of the KernelDensity class returns the logarithm of the probability density estimate rather than the actual probability density estimate."
   ]
  },
  {
   "cell_type": "code",
   "execution_count": 28,
   "id": "65a101fc",
   "metadata": {},
   "outputs": [
    {
     "data": {
      "image/png": "[encoded data removed]",
      "text/plain": [
       "<Figure size 640x480 with 1 Axes>"
      ]
     },
     "metadata": {},
     "output_type": "display_data"
    }
   ],
   "source": [
    "plt.hist(sample, bins=50, density=True)\n",
    "\n",
    "# Plot the probability density curve using matplotlib\n",
    "# - values[:] : X-axis data (the evaluation points)\n",
    "#   * The [:] slice notation means \"take all elements\" \n",
    "#   * However, values is currently 2D with shape (100, 1)\n",
    "#   * This will work but matplotlib will interpret it as a 2D array\n",
    "# - prb_den : Y-axis data (the probability density values at each point)\n",
    "#   * This is a 1D array with shape (100,) containing the density estimates\n",
    "\n",
    "# plt.plot(values[:], prb_den)\n",
    "\n",
    "# option 1: Flatten to 1D (most common)\n",
    "plt.plot(values.flatten(), prb_den)\n",
    "\n",
    "plt.xlabel('Value')\n",
    "plt.ylabel('Probability Density')\n",
    "plt.title('Kernel Density Estimation')\n",
    "plt.show()"
   ]
  },
  {
   "cell_type": "code",
   "execution_count": 67,
   "id": "4c934097",
   "metadata": {},
   "outputs": [
    {
     "data": {
      "text/plain": [
       "<Axes: ylabel='Density'>"
      ]
     },
     "execution_count": 67,
     "metadata": {},
     "output_type": "execute_result"
    },
    {
     "data": {
      "image/png": "[encoded data removed]",
      "text/plain": [
       "<Figure size 640x480 with 1 Axes>"
      ]
     },
     "metadata": {},
     "output_type": "display_data"
    }
   ],
   "source": [
    "# above equivalent code using seaborn\n",
    "# sns.kdeplot(sample)\n",
    "\n",
    "sns.kdeplot(sample.reshape(1000), bw_adjust=2)"
   ]
  },
  {
   "cell_type": "markdown",
   "id": "2e70be7e",
   "metadata": {},
   "source": [
    "### Cumulative Distribution Function (CDF) of PDF"
   ]
  },
  {
   "cell_type": "markdown",
   "id": "1dae1049",
   "metadata": {},
   "source": [
    "**Probability Density Functions (PDF)** and **Cumulative Distribution Functions (CDF)** for **continuous random variables**.\n",
    "\n",
    "---\n",
    "\n",
    "### 1. Core Concepts & Definitions\n",
    "\n",
    "*   **Continuous Random Variable:** A variable that can take on an infinite number of values within a given range (e.g., height, weight, time).\n",
    "*   **Probability Density Function (PDF):**\n",
    "    *   Denoted as **f(x)**.\n",
    "    *   It is a function whose graph (a curve) shows the distribution of the variable.\n",
    "    *   **Crucial Pointer:** **The height of the PDF curve at any point (e.g., x=165) is *NOT* the probability of that value.** For continuous variables, the probability of any exact value (P(X = 165)) is technically **zero**.\n",
    "    *   Instead, probability is represented by the **area under the PDF curve** between two points.\n",
    "*   **Cumulative Distribution Function (CDF):**\n",
    "    *   Denoted as **F(x)** or **P(X ≤ x)**.\n",
    "    *   It gives the probability that the random variable **X is less than or equal to** a specific value **x**.\n",
    "    *   For example, if F(165) = 0.5, it means there is a 50% probability that a randomly selected person is 165 cm tall **or shorter**.\n",
    "\n",
    "---\n",
    "\n",
    "### 2. Interpreting the Graphs with an Example (Height)\n",
    "\n",
    "*   **PDF Plot (f(x)):**\n",
    "    *   The x-axis represents the possible values (e.g., height in cm).\n",
    "    *   The y-axis represents the **probability density** (not direct probability).\n",
    "    *   You **cannot** find the probability of being exactly 165 cm from this graph directly.\n",
    "*   **CDF Plot (F(x)):**\n",
    "    *   The x-axis represents the possible values.\n",
    "    *   The y-axis represents the **cumulative probability**, always ranging from 0 to 1.\n",
    "    *   **To find P(X ≤ 165):** Go to 165 on the x-axis, move up to the CDF curve, and then read the probability value (e.g., 0.5 or 50%) from the y-axis.\n",
    "    *   **To find P(X = 165):** This is virtually zero and cannot be read from the CDF. The CDF gives probabilities for ranges.\n",
    "\n",
    "---\n",
    "\n",
    "### 3. Relationship between PDF and CDF (Calculus)\n",
    "\n",
    "This is the most important takeaway. The PDF and CDF are mathematically connected by **calculus operations**.\n",
    "\n",
    "*   **From PDF to CDF: INTEGRATION**\n",
    "    *   The CDF at a point **'a'** is found by calculating the **area** under the PDF curve from **-∞ to a**.\n",
    "    *   **In Calculus Terms:** $F(a) = P(X \\leq a) = \\int_{-\\infty}^{a} f(x)  dx$\n",
    "    *   **Translation:** You perform **integration** on the PDF to get the CDF.\n",
    "\n",
    "*   **From CDF to PDF: DIFFERENTIATION**\n",
    "    *   The PDF at a point is found by calculating the **slope** (or instantaneous rate of change) of the CDF at that point.\n",
    "    *   **In Calculus Terms:** $f(x) = \\frac{d}{dx} F(x)$\n",
    "    *   **Translation:** You perform **differentiation** on the CDF to get the PDF.\n",
    "\n",
    "**Summary of the Relationship:**\n",
    "> Integration of the **PDF** yields the **CDF**.\n",
    "> Differentiation of the **CDF** yields the **PDF**.\n",
    "\n",
    "---\n",
    "\n",
    "### 4. Important Pointers & Notes\n",
    "\n",
    "1.  **Probability of Exact Values:** Always remember that for any continuous random variable, **P(X = exact value) = 0**. We can only calculate probabilities for intervals (e.g., P(160 < X < 170)).\n",
    "2.  **CDF Interpretation:** The CDF always gives a \"less than or equal to\" probability. It is cumulative.\n",
    "3.  **Foundation for Future Learning:** This PDF-CDF relationship is fundamental for more advanced statistics and machine learning concepts.\n",
    "\n",
    "In conclusion, the PDF describes the shape of the distribution, while the CDF accumulates probability. They are two sides of the same coin, connected through the fundamental operations of calculus.\n",
    "\n",
    "---"
   ]
  },
  {
   "cell_type": "markdown",
   "id": "35cd1304",
   "metadata": {},
   "source": [
    "### 🔹 Probability Functions & Their Relationships\n",
    "\n",
    "#### 1. **PMF (Probability Mass Function)**\n",
    "\n",
    "* Used for **discrete random variables**.\n",
    "* Gives the probability of a variable taking an **exact value**.\n",
    "* Example: $P(X = 165)$.\n",
    "\n",
    "---\n",
    "\n",
    "#### 2. **PDF (Probability Density Function)**\n",
    "\n",
    "* Used for **continuous random variables**.\n",
    "* The **y-axis** is not probability itself but **probability density**.\n",
    "* For a single point (e.g., height = 165 cm), the probability is **\\~0**, but the **density** gives information about likelihood.\n",
    "* Actual probability is obtained by **area under the curve**.\n",
    "* Example: Probability of height between 160–170 = $\\int_{160}^{170} f(x) dx$.\n",
    "\n",
    "---\n",
    "\n",
    "#### 3. **CDF (Cumulative Distribution Function)**\n",
    "\n",
    "* Gives the **cumulative probability** up to a point.\n",
    "* $F(x) = P(X \\leq x)$.\n",
    "* Example: $F(165) = 0.5$ → 50% people have height ≤ 165 cm.\n",
    "* Useful for percentile interpretation.\n",
    "\n",
    "---\n",
    "\n",
    "### 🔹 Relationship Between PDF & CDF\n",
    "\n",
    "* **Integration**:\n",
    "\n",
    "  * Integrating the **PDF** gives the **CDF**.\n",
    "  * $F(x) = \\int_{-\\infty}^x f(t) dt$.\n",
    "\n",
    "* **Differentiation**:\n",
    "\n",
    "  * Differentiating the **CDF** gives the **PDF**.\n",
    "  * $f(x) = \\frac{d}{dx} F(x)$.\n",
    "\n",
    "* **Geometric meaning**:\n",
    "\n",
    "  * Area under PDF curve = probability.\n",
    "  * Slope of CDF curve = value of PDF at that point.\n",
    "\n",
    "---\n",
    "\n",
    "### 🔹 Key Examples Explained\n",
    "\n",
    "* At **x = 165**:\n",
    "\n",
    "  * **PDF**: tells density at 165 (not exact probability).\n",
    "  * **CDF**: gives cumulative probability up to 165 (say, 0.5).\n",
    "\n",
    "* At **x = 150**:\n",
    "\n",
    "  * **PDF**: shows density at 150.\n",
    "  * **CDF**: might say 20% of people ≤ 150 cm.\n",
    "\n",
    "---\n",
    "\n",
    "### 🔹 Practical Usage in Data Analysis\n",
    "\n",
    "* **PDF/PMF**: Helps to understand distribution of values (shape, spread).\n",
    "* **CDF**: Helps in quantiles, percentiles, thresholds (e.g., median at 50%).\n",
    "* In real datasets, these are often estimated using **histograms, KDE (Kernel Density Estimation), or ECDF plots**.\n",
    "\n",
    "---\n",
    "\n",
    "✅ **Important Pointers to Remember**\n",
    "\n",
    "1. **PMF → discrete**, **PDF → continuous**, **CDF → cumulative probability**.\n",
    "2. PDF itself is **not probability**, probability = **area under PDF**.\n",
    "3. $F(x) = P(X \\leq x)$.\n",
    "4. $F(x) = \\int f(x) dx$, $f(x) = dF(x)/dx$.\n",
    "5. CDF is always **non-decreasing** and ranges between 0 and 1.\n",
    "6. About 50% of data lies **below the median** (CDF = 0.5).\n",
    "7. Visualization:\n",
    "\n",
    "   * PDF → shape of distribution.\n",
    "   * CDF → cumulative growth of probability.\n",
    "\n",
    "---\n"
   ]
  }
 ],
 "metadata": {
  "kernelspec": {
   "display_name": "venv",
   "language": "python",
   "name": "python3"
  },
  "language_info": {
   "codemirror_mode": {
    "name": "ipython",
    "version": 3
   },
   "file_extension": ".py",
   "mimetype": "text/x-python",
   "name": "python",
   "nbconvert_exporter": "python",
   "pygments_lexer": "ipython3",
   "version": "3.12.1"
  }
 },
 "nbformat": 4,
 "nbformat_minor": 5
}
