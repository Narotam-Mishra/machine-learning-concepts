{
 "cells": [
  {
   "cell_type": "markdown",
   "id": "5ef09e35",
   "metadata": {},
   "source": [
    "### Probability Distribution Functions - PDF, PMF & CDF"
   ]
  },
  {
   "cell_type": "markdown",
   "id": "e6c1503f",
   "metadata": {},
   "source": []
  }
 ],
 "metadata": {
  "language_info": {
   "name": "python"
  }
 },
 "nbformat": 4,
 "nbformat_minor": 5
}
