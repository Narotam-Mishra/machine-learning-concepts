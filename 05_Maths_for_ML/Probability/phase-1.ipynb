{
 "cells": [
  {
   "cell_type": "markdown",
   "id": "5ef09e35",
   "metadata": {},
   "source": [
    "### Probability Distribution Functions - PDF, PMF & CDF"
   ]
  },
  {
   "cell_type": "markdown",
   "id": "e6c1503f",
   "metadata": {},
   "source": [
    "### Random Variables\n",
    "- A Random Variable is a set of possible values from a random experiment.\n",
    "\n",
    "#### Types of Random variables :-\n",
    "1. Discrete Random Variable - Example can be Outcome of coin toss {H, T} or outcome of dice roll {1,2,3,4,5,6}\n",
    "\n",
    "2. Continuous Random Variable - CGPA of a collage student {0,10}"
   ]
  },
  {
   "cell_type": "markdown",
   "id": "573d297b",
   "metadata": {},
   "source": [
    "### Probability Distributions\n",
    "- A probability distribution is a list of all of the possible outcomes of a random variable along with their corresponding probability values."
   ]
  },
  {
   "cell_type": "markdown",
   "id": "8f9d7da9",
   "metadata": {},
   "source": [
    "### Problem with Distribution\n",
    "- In many scenarios, the number of outcomes can be much larger and hence a table would be tedious to write down. Worse still,the number of possible outcomes could be infinite, in which case, good luck writing a table for that.\n",
    "Example - Height of people, Rolling 10 dice together\n",
    "\n",
    "#### Solution - Function?\n",
    "- What if we use a mathematical function to model the relationship between outcome and probability?"
   ]
  },
  {
   "cell_type": "markdown",
   "id": "b07407e6",
   "metadata": {},
   "source": [
    "### Probability Distribution Function (PDF)\n",
    "- It is a mathematical relationship between all the possible outcomes of random variables with probabilities of outcomes.\n",
    "\n",
    "Note - A lot of time Probability Distribution and Probability Distribution Functions are used interchangeably."
   ]
  },
  {
   "cell_type": "markdown",
   "id": "8b17e4f1",
   "metadata": {},
   "source": []
  }
 ],
 "metadata": {
  "language_info": {
   "name": "python"
  }
 },
 "nbformat": 4,
 "nbformat_minor": 5
}
