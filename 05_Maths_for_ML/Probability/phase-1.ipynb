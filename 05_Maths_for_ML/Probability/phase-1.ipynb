{
 "cells": [
  {
   "cell_type": "markdown",
   "id": "5ef09e35",
   "metadata": {},
   "source": [
    "### Probability Distribution Functions - PDF, PMF & CDF"
   ]
  },
  {
   "cell_type": "markdown",
   "id": "e6c1503f",
   "metadata": {},
   "source": [
    "### Random Variables\n",
    "- A Random Variable is a set of possible values from a random experiment.\n",
    "\n",
    "#### Types of Random variables :-\n",
    "1. Discrete Random Variable - Example can be Outcome of coin toss {H, T} or outcome of dice roll {1,2,3,4,5,6}\n",
    "\n",
    "2. Continuous Random Variable - CGPA of a collage student {0,10}"
   ]
  },
  {
   "cell_type": "markdown",
   "id": "573d297b",
   "metadata": {},
   "source": [
    "### Probability Distributions\n",
    "- A probability distribution is a list of all of the possible outcomes of a random variable along with their corresponding probability values."
   ]
  },
  {
   "cell_type": "markdown",
   "id": "8f9d7da9",
   "metadata": {},
   "source": [
    "### Problem with Distribution\n",
    "- In many scenarios, the number of outcomes can be much larger and hence a table would be tedious to write down. Worse still,the number of possible outcomes could be infinite, in which case, good luck writing a table for that.\n",
    "Example - Height of people, Rolling 10 dice together\n",
    "\n",
    "#### Solution - Function?\n",
    "- What if we use a mathematical function to model the relationship between outcome and probability?"
   ]
  },
  {
   "cell_type": "markdown",
   "id": "b07407e6",
   "metadata": {},
   "source": [
    "### Probability Distribution Function (PDF)\n",
    "- It is a mathematical relationship between all the possible outcomes of random variables with probabilities of outcomes.\n",
    "\n",
    "Note - A lot of time Probability Distribution and Probability Distribution Functions are used interchangeably."
   ]
  },
  {
   "cell_type": "markdown",
   "id": "77127ba1",
   "metadata": {},
   "source": [
    "### Types of Probability Distributions \n",
    "- Discrete Random Variable\n",
    "- Continuous Random Variable"
   ]
  },
  {
   "cell_type": "markdown",
   "id": "94173b4f",
   "metadata": {},
   "source": [
    "#### Some Famous Probability Distributions\n",
    "- Normal distribution\n",
    "- Uniform distribution\n",
    "- Beta distribution\n",
    "- Bernoulli distribution\n",
    "- Binomial distribution\n",
    "\n",
    "\n",
    "#### Why are Probability Distributions important?\n",
    "- Gives an idea about the shape/distribution of the data.\n",
    "- And if our data follows a famous distribution then we automatically know a lot about the data.\n",
    "\n",
    "#### A note on Parameters (PDF)\n",
    "- Parameters in probability distributions are numerical values that determine the shape, location, and scale of the distribution.\n",
    "- Different probability distributions have different sets of parameters that determine their shape and characteristics, and understanding these parameters is essential in statistical \n",
    "analysis and inference."
   ]
  },
  {
   "cell_type": "markdown",
   "id": "a890c09e",
   "metadata": {},
   "source": [
    "### More about Probability Distribution Function\n",
    "- A probability distribution function is a mathematical function that describes the probability of obtaining different values of a random variable in a particular probability distribution.\n",
    "\n",
    "#### Types of Probability Distribution Function\n",
    "- Probability Mass Function (PMF)\n",
    "- Probability Density Function (PDF)\n",
    "- Cumulative Distribution Function (CDF)\n",
    "\n",
    "By combining above two types we can make another type of Probability Distribution i.e, Cumulative Distribution Function (CDF)"
   ]
  },
  {
   "cell_type": "markdown",
   "id": "cc9ee46a",
   "metadata": {},
   "source": [
    "#### Probability Mass Function (PMF) \n",
    "PMF stands for Probability Mass Function. It is a mathematical function that describes the probability distribution of a **discrete random variable**.\n",
    "The PMF of a discrete random variable assigns a probability to each possible value of the random variable. The probabilities assigned by the PMF must satisfy two conditions:-\n",
    "- The probability assigned to each value must be non-negative (i.e., greater than or equal to zero).\n",
    "- The sum of the probabilities assigned to all possible values must equal 1"
   ]
  },
  {
   "cell_type": "code",
   "execution_count": 11,
   "id": "69f51445",
   "metadata": {},
   "outputs": [],
   "source": [
    "import pandas as pd\n",
    "import random\n",
    "import numpy as np"
   ]
  },
  {
   "cell_type": "code",
   "execution_count": 2,
   "id": "7fd4280f",
   "metadata": {},
   "outputs": [],
   "source": [
    "prb = []\n",
    "for i in range(10000):\n",
    "    prb.append(random.randint(1,6))"
   ]
  },
  {
   "cell_type": "code",
   "execution_count": null,
   "id": "8123861d",
   "metadata": {},
   "outputs": [],
   "source": [
    "len(prb)\n",
    "prb[:5]"
   ]
  },
  {
   "cell_type": "code",
   "execution_count": null,
   "id": "42f889cb",
   "metadata": {},
   "outputs": [],
   "source": [
    "# print graph to illustrate PMF\n",
    "\n",
    "# pd.Series(prb).value_counts()\n",
    "# pd.Series(prb).value_counts().sum()\n",
    "\n",
    "s = (pd.Series(prb).value_counts() / pd.Series(prb).value_counts().sum()).sort_index()\n",
    "s"
   ]
  },
  {
   "cell_type": "code",
   "execution_count": null,
   "id": "4903809f",
   "metadata": {},
   "outputs": [],
   "source": [
    "# plot PMF bar graph\n",
    "s.plot(kind='bar')"
   ]
  },
  {
   "cell_type": "code",
   "execution_count": 6,
   "id": "9740cbe1",
   "metadata": {},
   "outputs": [],
   "source": [
    "# PMF example using two dices\n",
    "\n",
    "l = []\n",
    "for i in range(10000):\n",
    "    a = random.randint(1,6)\n",
    "    b = random.randint(1,6)\n",
    "\n",
    "    l.append(a + b)"
   ]
  },
  {
   "cell_type": "code",
   "execution_count": null,
   "id": "4ae50463",
   "metadata": {},
   "outputs": [],
   "source": [
    "len(l)\n",
    "l[:5]"
   ]
  },
  {
   "cell_type": "code",
   "execution_count": null,
   "id": "2ae13b5d",
   "metadata": {},
   "outputs": [],
   "source": [
    "s1 = (pd.Series(l).value_counts() / pd.Series(l).value_counts().sum()).sort_index()\n",
    "s1"
   ]
  },
  {
   "cell_type": "code",
   "execution_count": null,
   "id": "86eacd54",
   "metadata": {},
   "outputs": [],
   "source": [
    "s1.plot(kind='bar')"
   ]
  },
  {
   "cell_type": "markdown",
   "id": "9d2a54ed",
   "metadata": {},
   "source": [
    "### Cumulative Distribution Function (CDF) of PMF\n",
    "- The cumulative distribution function (CDF), F(x) describes the probability that a random variable X with a given probability distribution will be found at a value less than or equal to x.\n",
    "- F(x) = P(X <= x)"
   ]
  },
  {
   "cell_type": "code",
   "execution_count": null,
   "id": "a30c5bff",
   "metadata": {},
   "outputs": [],
   "source": [
    "# example for CDF\n",
    "np.cumsum(s1)"
   ]
  },
  {
   "cell_type": "code",
   "execution_count": null,
   "id": "62314714",
   "metadata": {},
   "outputs": [],
   "source": [
    "np.cumsum(s1).plot(kind='bar')"
   ]
  },
  {
   "cell_type": "markdown",
   "id": "8b17e4f1",
   "metadata": {},
   "source": []
  }
 ],
 "metadata": {
  "kernelspec": {
   "display_name": "venv",
   "language": "python",
   "name": "python3"
  },
  "language_info": {
   "codemirror_mode": {
    "name": "ipython",
    "version": 3
   },
   "file_extension": ".py",
   "mimetype": "text/x-python",
   "name": "python",
   "nbconvert_exporter": "python",
   "pygments_lexer": "ipython3",
   "version": "3.12.1"
  }
 },
 "nbformat": 4,
 "nbformat_minor": 5
}
