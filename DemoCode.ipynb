{
 "cells": [
  {
   "cell_type": "code",
   "execution_count": 2,
   "id": "4d095507-9625-4df7-84f1-4765d334c898",
   "metadata": {},
   "outputs": [
    {
     "name": "stdout",
     "output_type": "stream",
     "text": [
      "using jupyter notebook using virtual environment...\n"
     ]
    }
   ],
   "source": [
    "print(\"using jupyter notebook using virtual environment...\")"
   ]
  },
  {
   "cell_type": "markdown",
   "id": "49d09e83",
   "metadata": {},
   "source": [
    "### import data using pandas"
   ]
  },
  {
   "cell_type": "code",
   "execution_count": 1,
   "id": "38d22e21",
   "metadata": {},
   "outputs": [],
   "source": [
    "import pandas as pd"
   ]
  },
  {
   "cell_type": "code",
   "execution_count": null,
   "id": "dda8a767",
   "metadata": {},
   "outputs": [],
   "source": [
    "df = pd.read_csv(\"data/aug_test.csv\")\n",
    "df"
   ]
  }
 ],
 "metadata": {
  "kernelspec": {
   "display_name": "venv",
   "language": "python",
   "name": "python3"
  },
  "language_info": {
   "codemirror_mode": {
    "name": "ipython",
    "version": 3
   },
   "file_extension": ".py",
   "mimetype": "text/x-python",
   "name": "python",
   "nbconvert_exporter": "python",
   "pygments_lexer": "ipython3",
   "version": "3.12.1"
  }
 },
 "nbformat": 4,
 "nbformat_minor": 5
}
