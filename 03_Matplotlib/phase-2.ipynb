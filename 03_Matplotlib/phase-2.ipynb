{
 "cells": [
  {
   "cell_type": "markdown",
   "id": "c3716f8a",
   "metadata": {},
   "source": [
    "### Advanced Matplotlib Concepts"
   ]
  },
  {
   "cell_type": "code",
   "execution_count": 2,
   "id": "1772f0bc",
   "metadata": {},
   "outputs": [],
   "source": [
    "import numpy as np\n",
    "import pandas as pd\n",
    "import matplotlib.pyplot as plt"
   ]
  },
  {
   "cell_type": "markdown",
   "id": "5a77e98c",
   "metadata": {},
   "source": [
    "### Colored Scatterplots"
   ]
  },
  {
   "cell_type": "code",
   "execution_count": null,
   "id": "5bc05bec",
   "metadata": {},
   "outputs": [],
   "source": [
    "iris = pd.read_csv('./data/iris.csv')\n",
    "iris.sample(5)"
   ]
  },
  {
   "cell_type": "code",
   "execution_count": null,
   "id": "6577943f",
   "metadata": {},
   "outputs": [],
   "source": [
    "# replace iris species with 0,1 & 2\n",
    "iris['Species'] = iris['Species'].replace({'Iris-setosa':0, 'Iris-versicolor':1, 'Iris-virginica':2 })\n",
    "iris.sample(5)"
   ]
  },
  {
   "cell_type": "code",
   "execution_count": null,
   "id": "d846d4ed",
   "metadata": {},
   "outputs": [],
   "source": [
    "# plotting for iris data\n",
    "\n",
    "# the third argument c=iris['Species'] in the plt.scatter() function represents the color mapping for the scatter plot points.\n",
    "plt.scatter(iris['SepalLengthCm'], iris['PetalLengthCm'], c=iris['Species'], cmap='jet', alpha=0.7)\n",
    "plt.xlabel('Sepal Length')\n",
    "plt.ylabel('Petal Length')\n",
    "\n",
    "# colorbar function represent which value is repreneted by corresponding color\n",
    "plt.colorbar()\n",
    "plt.show()"
   ]
  },
  {
   "cell_type": "markdown",
   "id": "2f6b4422",
   "metadata": {},
   "source": [
    "start from (6:30)"
   ]
  }
 ],
 "metadata": {
  "kernelspec": {
   "display_name": "venv",
   "language": "python",
   "name": "python3"
  },
  "language_info": {
   "codemirror_mode": {
    "name": "ipython",
    "version": 3
   },
   "file_extension": ".py",
   "mimetype": "text/x-python",
   "name": "python",
   "nbconvert_exporter": "python",
   "pygments_lexer": "ipython3",
   "version": "3.12.1"
  }
 },
 "nbformat": 4,
 "nbformat_minor": 5
}
