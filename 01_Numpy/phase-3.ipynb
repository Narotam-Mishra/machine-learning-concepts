{
 "cells": [
  {
   "cell_type": "markdown",
   "id": "bb1f7154",
   "metadata": {},
   "source": [
    "## Advance operation with Business examples"
   ]
  },
  {
   "cell_type": "code",
   "execution_count": 3,
   "id": "fcd793ec",
   "metadata": {},
   "outputs": [],
   "source": [
    "import numpy as np\n",
    "import matplotlib.pyplot as plt"
   ]
  },
  {
   "cell_type": "code",
   "execution_count": 23,
   "id": "afcf2c33",
   "metadata": {},
   "outputs": [
    {
     "name": "stdout",
     "output_type": "stream",
     "text": [
      "========== Zomato Sales analysis =========\n",
      "\n",
      " Sales data shape: (5, 5)\n",
      "\n",
      " Sample data for 1st three resturants: [[     1 150000 180000 220000 250000]\n",
      " [     2 120000 140000 160000 190000]\n",
      " [     3 200000 230000 260000 300000]]\n"
     ]
    }
   ],
   "source": [
    "# Data structure: [resturant_id, 2021, 2022, 2023, 2024]\n",
    "sales_data = np.array([\n",
    "    [1, 150000, 180000, 220000, 250000], # Paradise Biryani\n",
    "    [2, 120000, 140000, 160000, 190000], # Beijing Bites\n",
    "    [3, 200000, 230000, 260000, 300000], # Pizza Hub\n",
    "    [4, 180000, 210000, 240000, 270000], # Burger Point\n",
    "    [5, 160000, 185000, 2050000, 230000], # Chai Point\n",
    "])\n",
    "\n",
    "print(\"========== Zomato Sales analysis =========\")\n",
    "print(\"\\n Sales data shape:\",sales_data.shape)\n",
    "print(\"\\n Sample data for 1st three resturants:\", sales_data[0:3])"
   ]
  },
  {
   "cell_type": "code",
   "execution_count": null,
   "id": "1584229b",
   "metadata": {},
   "outputs": [],
   "source": [
    "# find total sales per year\n",
    "print(\"Sum of sales data:\", np.sum(sales_data,axis=0))\n",
    "yearly_total = np.sum(sales_data[:, 1:], axis=0)\n",
    "print(\"Yearly total:\", yearly_total)\n",
    "\n",
    "# minimum sales per resturant\n",
    "min_sales = np.min(sales_data[:, 1:], axis=1)\n",
    "print(\"minimum sales:\", min_sales)\n",
    "\n",
    "# maximum sales per year\n",
    "max_sales = np.max(sales_data[:, 1:], axis=0)\n",
    "print(\"maximum sales per year:\", max_sales)\n",
    "\n",
    "# average sales per resturant\n",
    "avg_sales = np.mean(sales_data[:, 1:], axis=1)\n",
    "print(\"average sale:\", avg_sales)\n",
    "\n",
    "# find cumulative sum\n",
    "cum_sum = np.cumsum(sales_data[:, 1:], axis=1)\n",
    "print(\"cumulative sum:\", cum_sum)\n",
    "\n",
    "plt.figure(figsize=(8, 6))\n",
    "plt.plot(np.mean(cum_sum, axis=0))\n",
    "plt.title(\"Average cumulative sales across all resturants\")\n",
    "plt.xlabel(\"Years\")\n",
    "plt.ylabel(\"Sales\")\n",
    "plt.grid(True)\n",
    "plt.show()"
   ]
  },
  {
   "cell_type": "markdown",
   "id": "17e791c4",
   "metadata": {},
   "source": [
    "### Important Notes\n",
    "\n",
    "- Note :- For top to bottom (column) axis should be 0 and for left to right (row), axis should be 1."
   ]
  },
  {
   "cell_type": "markdown",
   "id": "7df971c6",
   "metadata": {},
   "source": []
  }
 ],
 "metadata": {
  "kernelspec": {
   "display_name": "venv",
   "language": "python",
   "name": "python3"
  },
  "language_info": {
   "codemirror_mode": {
    "name": "ipython",
    "version": 3
   },
   "file_extension": ".py",
   "mimetype": "text/x-python",
   "name": "python",
   "nbconvert_exporter": "python",
   "pygments_lexer": "ipython3",
   "version": "3.12.1"
  }
 },
 "nbformat": 4,
 "nbformat_minor": 5
}
