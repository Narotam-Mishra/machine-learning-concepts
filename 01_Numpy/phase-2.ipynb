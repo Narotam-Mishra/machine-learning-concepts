{
 "cells": [
  {
   "cell_type": "markdown",
   "id": "e6754fb9",
   "metadata": {},
   "source": [
    "## Numpy Array operations "
   ]
  },
  {
   "cell_type": "code",
   "execution_count": 2,
   "id": "e51504dd",
   "metadata": {},
   "outputs": [],
   "source": [
    "import numpy as np"
   ]
  },
  {
   "cell_type": "code",
   "execution_count": 4,
   "id": "9b2e8a21",
   "metadata": {},
   "outputs": [
    {
     "name": "stdout",
     "output_type": "stream",
     "text": [
      "basic slicing: [3 4 5 6 7]\n",
      "with step: [2 4 6 8]\n",
      "negative indexing: 8\n"
     ]
    }
   ],
   "source": [
    "arr = np.array([1,2,3,4,5,6,7,8,9,10])\n",
    "print(\"basic slicing:\", arr[2:7])\n",
    "print(\"with step:\", arr[1:8:2])\n",
    "print(\"negative indexing:\", arr[-3])"
   ]
  },
  {
   "cell_type": "code",
   "execution_count": 7,
   "id": "a189429c",
   "metadata": {},
   "outputs": [
    {
     "name": "stdout",
     "output_type": "stream",
     "text": [
      "specific_element: 6\n",
      "Entire row: [4 5 6]\n",
      "Entire column: [3 6 9]\n"
     ]
    }
   ],
   "source": [
    "arr_2d = np.array([[1,2,3], \n",
    "                   [4,5,6],\n",
    "                   [7,8,9]])\n",
    "print(\"specific_element:\", arr_2d[1,2])\n",
    "print(\"Entire row:\", arr_2d[1])\n",
    "print(\"Entire column:\", arr_2d[:,2])"
   ]
  },
  {
   "cell_type": "markdown",
   "id": "f3a55a07",
   "metadata": {},
   "source": [
    "## sorting"
   ]
  },
  {
   "cell_type": "code",
   "execution_count": 12,
   "id": "d043eed8",
   "metadata": {},
   "outputs": [
    {
     "name": "stdout",
     "output_type": "stream",
     "text": [
      "sorted array: [1 2 3 4 5 6 7]\n",
      "sorted 2D array by column: [[1 1]\n",
      " [2 2]\n",
      " [3 3]]\n",
      "sorted 2D array by row: [[1 3]\n",
      " [1 2]\n",
      " [2 3]]\n"
     ]
    }
   ],
   "source": [
    "unsorted_arr = [3,4,1,2,7,6,5]\n",
    "sorted_arr = np.sort(unsorted_arr)\n",
    "print(\"sorted array:\",sorted_arr)\n",
    "\n",
    "arr_2d = np.array([[3,1], [1,2], [2,3]])\n",
    "print(\"sorted 2D array by column:\", np.sort(arr_2d, axis=0))\n",
    "\n",
    "print(\"sorted 2D array by row:\", np.sort(arr_2d, axis=1))"
   ]
  },
  {
   "cell_type": "markdown",
   "id": "f87a1ff5",
   "metadata": {},
   "source": [
    "### Filter array"
   ]
  },
  {
   "cell_type": "code",
   "execution_count": 3,
   "id": "798c2a8c",
   "metadata": {},
   "outputs": [
    {
     "name": "stdout",
     "output_type": "stream",
     "text": [
      "Even numbers: [ 2  4  6  8 10]\n"
     ]
    }
   ],
   "source": [
    "nums = np.array([1,2,3,4,5,6,7,8,9,10])\n",
    "even_nums = nums[nums % 2 == 0]\n",
    "print(\"Even numbers:\", even_nums)"
   ]
  },
  {
   "cell_type": "markdown",
   "id": "9dbe216d",
   "metadata": {},
   "source": [
    "### Filter with mask"
   ]
  },
  {
   "cell_type": "code",
   "execution_count": 4,
   "id": "bea6cbf9",
   "metadata": {},
   "outputs": [
    {
     "name": "stdout",
     "output_type": "stream",
     "text": [
      "Numbers greater than 5: [ 6  7  8  9 10]\n"
     ]
    }
   ],
   "source": [
    "mask = nums > 5\n",
    "print(\"Numbers greater than 5:\",nums[mask])"
   ]
  },
  {
   "cell_type": "markdown",
   "id": "a07305e5",
   "metadata": {},
   "source": [
    "### Fancy indexing vs np.where()"
   ]
  },
  {
   "cell_type": "code",
   "execution_count": 8,
   "id": "e01a0203",
   "metadata": {},
   "outputs": [
    {
     "name": "stdout",
     "output_type": "stream",
     "text": [
      "Number arr: [1 3 5]\n",
      "Inside where: (array([5, 6, 7, 8, 9]),)\n",
      "NP where: [ 6  7  8  9 10]\n"
     ]
    }
   ],
   "source": [
    "indices = [0,2,4]\n",
    "print(\"Number arr:\",nums[indices])\n",
    "\n",
    "where_res = np.where(nums > 5)\n",
    "print(\"Inside where:\",where_res)\n",
    "print(\"NP where:\", nums[where_res])"
   ]
  },
  {
   "cell_type": "markdown",
   "id": "60de38f5",
   "metadata": {},
   "source": [
    "### conditional array"
   ]
  },
  {
   "cell_type": "code",
   "execution_count": 15,
   "id": "3089b4bc",
   "metadata": {},
   "outputs": [
    {
     "name": "stdout",
     "output_type": "stream",
     "text": [
      "Conditional_arr: ['false' 'false' 'false' 'false' 'false' 'true' 'true' 'true' 'true'\n",
      " 'true']\n"
     ]
    }
   ],
   "source": [
    "conditional_arr = np.where(nums > 5, \"true\", \"false\")\n",
    "print(\"Conditional_arr:\", conditional_arr)"
   ]
  },
  {
   "cell_type": "markdown",
   "id": "53d2f38d",
   "metadata": {},
   "source": [
    "### Adding and removing data in array"
   ]
  },
  {
   "cell_type": "code",
   "execution_count": 2,
   "id": "38734880",
   "metadata": {},
   "outputs": [
    {
     "name": "stdout",
     "output_type": "stream",
     "text": [
      "Combined_arr: [1 2 3 4 5 6]\n"
     ]
    }
   ],
   "source": [
    "arr1 = np.array([1,2,3])\n",
    "arr2 = np.array([4,5,6])\n",
    "\n",
    "combined_arr = np.concatenate((arr1,arr2))\n",
    "print(\"Combined_arr:\",combined_arr)\n",
    "\n",
    "# combined_arr1 = arr1 + arr2\n",
    "# print(\"sum_arr:\",combined_arr1)"
   ]
  },
  {
   "cell_type": "markdown",
   "id": "7a6f84b0",
   "metadata": {},
   "source": [
    "### Array compatibility"
   ]
  },
  {
   "cell_type": "code",
   "execution_count": 4,
   "id": "8eb187df",
   "metadata": {},
   "outputs": [
    {
     "name": "stdout",
     "output_type": "stream",
     "text": [
      "Compatable shapes: False\n"
     ]
    }
   ],
   "source": [
    "arr = np.array([1,2,3])\n",
    "brr = np.array([4,5,6,7])\n",
    "crr = np.array([7,8,9])\n",
    "\n",
    "print(\"Compatable shapes:\",arr.shape == brr.shape)"
   ]
  },
  {
   "cell_type": "code",
   "execution_count": 8,
   "id": "16b965d2",
   "metadata": {},
   "outputs": [
    {
     "name": "stdout",
     "output_type": "stream",
     "text": [
      "Original_arr: [[1 2]\n",
      " [3 4]]\n",
      "with new row: [[1 2]\n",
      " [3 4]\n",
      " [5 6]]\n",
      "with new column: [[1 2 7]\n",
      " [3 4 8]]\n"
     ]
    }
   ],
   "source": [
    "original_arr = np.array([[1,2], [3,4]])\n",
    "new_row = np.array([[5,6]])\n",
    "\n",
    "# add new row\n",
    "with_new_row = np.vstack((original_arr, new_row)) \n",
    "\n",
    "print(\"Original_arr:\", original_arr)\n",
    "print(\"with new row:\", with_new_row)\n",
    "\n",
    "new_col = np.array([[7], [8]])\n",
    "with_new_col = np.hstack((original_arr, new_col))\n",
    "print(\"with new column:\", with_new_col)"
   ]
  },
  {
   "cell_type": "markdown",
   "id": "26e40dc6",
   "metadata": {},
   "source": [
    "### delete operation"
   ]
  },
  {
   "cell_type": "code",
   "execution_count": 10,
   "id": "23a78217",
   "metadata": {},
   "outputs": [
    {
     "name": "stdout",
     "output_type": "stream",
     "text": [
      "array after deletion: [1 2 4 5]\n"
     ]
    }
   ],
   "source": [
    "arr = np.array([1,2,3,4,5])\n",
    "deleted = np.delete(arr, 2)\n",
    "print(\"array after deletion:\", deleted)"
   ]
  }
 ],
 "metadata": {
  "kernelspec": {
   "display_name": "venv",
   "language": "python",
   "name": "python3"
  },
  "language_info": {
   "codemirror_mode": {
    "name": "ipython",
    "version": 3
   },
   "file_extension": ".py",
   "mimetype": "text/x-python",
   "name": "python",
   "nbconvert_exporter": "python",
   "pygments_lexer": "ipython3",
   "version": "3.12.1"
  }
 },
 "nbformat": 4,
 "nbformat_minor": 5
}
