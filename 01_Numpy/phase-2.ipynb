{
 "cells": [
  {
   "cell_type": "markdown",
   "id": "e6754fb9",
   "metadata": {},
   "source": [
    "## Numpy Array operations "
   ]
  },
  {
   "cell_type": "code",
   "execution_count": 1,
   "id": "e51504dd",
   "metadata": {},
   "outputs": [],
   "source": [
    "import numpy as np"
   ]
  },
  {
   "cell_type": "code",
   "execution_count": 4,
   "id": "9b2e8a21",
   "metadata": {},
   "outputs": [
    {
     "name": "stdout",
     "output_type": "stream",
     "text": [
      "basic slicing: [3 4 5 6 7]\n",
      "with step: [2 4 6 8]\n",
      "negative indexing: 8\n"
     ]
    }
   ],
   "source": [
    "arr = np.array([1,2,3,4,5,6,7,8,9,10])\n",
    "print(\"basic slicing:\", arr[2:7])\n",
    "print(\"with step:\", arr[1:8:2])\n",
    "print(\"negative indexing:\", arr[-3])"
   ]
  },
  {
   "cell_type": "code",
   "execution_count": 7,
   "id": "a189429c",
   "metadata": {},
   "outputs": [
    {
     "name": "stdout",
     "output_type": "stream",
     "text": [
      "specific_element: 6\n",
      "Entire row: [4 5 6]\n",
      "Entire column: [3 6 9]\n"
     ]
    }
   ],
   "source": [
    "arr_2d = np.array([[1,2,3], \n",
    "                   [4,5,6],\n",
    "                   [7,8,9]])\n",
    "print(\"specific_element:\", arr_2d[1,2])\n",
    "print(\"Entire row:\", arr_2d[1])\n",
    "print(\"Entire column:\", arr_2d[:,2])"
   ]
  },
  {
   "cell_type": "markdown",
   "id": "f3a55a07",
   "metadata": {},
   "source": [
    "## sorting"
   ]
  },
  {
   "cell_type": "code",
   "execution_count": 12,
   "id": "d043eed8",
   "metadata": {},
   "outputs": [
    {
     "name": "stdout",
     "output_type": "stream",
     "text": [
      "sorted array: [1 2 3 4 5 6 7]\n",
      "sorted 2D array by column: [[1 1]\n",
      " [2 2]\n",
      " [3 3]]\n",
      "sorted 2D array by row: [[1 3]\n",
      " [1 2]\n",
      " [2 3]]\n"
     ]
    }
   ],
   "source": [
    "unsorted_arr = [3,4,1,2,7,6,5]\n",
    "sorted_arr = np.sort(unsorted_arr)\n",
    "print(\"sorted array:\",sorted_arr)\n",
    "\n",
    "arr_2d = np.array([[3,1], [1,2], [2,3]])\n",
    "print(\"sorted 2D array by column:\", np.sort(arr_2d, axis=0))\n",
    "\n",
    "print(\"sorted 2D array by row:\", np.sort(arr_2d, axis=1))"
   ]
  }
 ],
 "metadata": {
  "kernelspec": {
   "display_name": "venv",
   "language": "python",
   "name": "python3"
  },
  "language_info": {
   "codemirror_mode": {
    "name": "ipython",
    "version": 3
   },
   "file_extension": ".py",
   "mimetype": "text/x-python",
   "name": "python",
   "nbconvert_exporter": "python",
   "pygments_lexer": "ipython3",
   "version": "3.12.1"
  }
 },
 "nbformat": 4,
 "nbformat_minor": 5
}
