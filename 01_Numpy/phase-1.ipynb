{
 "cells": [
  {
   "cell_type": "markdown",
   "id": "982c7528",
   "metadata": {},
   "source": [
    "### Numpy array and basics"
   ]
  },
  {
   "cell_type": "code",
   "execution_count": 4,
   "id": "977f524c",
   "metadata": {},
   "outputs": [],
   "source": [
    "import numpy as np\n"
   ]
  },
  {
   "cell_type": "code",
   "execution_count": null,
   "id": "185cc04d",
   "metadata": {},
   "outputs": [],
   "source": [
    "arr_1d = np.array([1,2,3,4,5])\n",
    "print(\"1D array:\",arr_1d)\n",
    "\n",
    "arr_2d = np.array([[1,2,3], [4,5,6]])\n",
    "print(\"2D array:\", arr_2d)"
   ]
  },
  {
   "cell_type": "markdown",
   "id": "6be6a14c",
   "metadata": {},
   "source": [
    "### list vs numpy array"
   ]
  },
  {
   "cell_type": "code",
   "execution_count": 12,
   "id": "d66a4633",
   "metadata": {},
   "outputs": [
    {
     "name": "stdout",
     "output_type": "stream",
     "text": [
      "python list multiplication:  [1, 2, 3, 1, 2, 3]\n",
      "python array multiplication:  [2 4 6]\n",
      "\n",
      " List operation time: 0.05039644241333008\n",
      "\n",
      " numpy's array operation time: 0.006536960601806641\n"
     ]
    }
   ],
   "source": [
    "py_list = [1,2,3]\n",
    "print(\"python list multiplication: \", py_list*2)\n",
    "\n",
    "np_arr = np.array([1,2,3]) # element-wise multiplication\n",
    "print(\"python array multiplication: \", np_arr*2)\n",
    "\n",
    "import time\n",
    "start_time = time.time()\n",
    "py_list = [i*2 for i in range(1000000)]\n",
    "print(\"\\n List operation time:\",time.time() - start_time)\n",
    "\n",
    "start = time.time()\n",
    "np_array = np.arange(1000000) * 2\n",
    "print(\"\\n numpy's array operation time:\",time.time() - start)"
   ]
  },
  {
   "cell_type": "markdown",
   "id": "251a11b6",
   "metadata": {},
   "source": [
    "### creating array from scratch"
   ]
  },
  {
   "cell_type": "code",
   "execution_count": 22,
   "id": "5074ff3b",
   "metadata": {},
   "outputs": [
    {
     "name": "stdout",
     "output_type": "stream",
     "text": [
      "zeros array: \n",
      " [[0. 0. 0. 0.]\n",
      " [0. 0. 0. 0.]\n",
      " [0. 0. 0. 0.]]\n",
      "ones array: \n",
      " [[1. 1. 1.]\n",
      " [1. 1. 1.]]\n",
      "full array: \n",
      " [[7 7]\n",
      " [7 7]]\n",
      "random array: \n",
      " [[0.24848074 0.77796777 0.30608983]\n",
      " [0.94688348 0.50933395 0.27867393]\n",
      " [0.46726243 0.07807335 0.93915686]]\n",
      "sequence array: \n",
      " [ 0  2  4  6  8 10]\n"
     ]
    }
   ],
   "source": [
    "zeros = np.zeros((3,4))\n",
    "print(\"zeros array: \\n\", zeros)\n",
    "\n",
    "ones = np.ones((2,3))\n",
    "print(\"ones array: \\n\", ones)\n",
    "\n",
    "full_arr = np.full((2,2), 7)\n",
    "print(\"full array: \\n\", full_arr)\n",
    "\n",
    "random_arr = np.random.random((3,3))\n",
    "print(\"random array: \\n\", random_arr)\n",
    "\n",
    "sequence_arr = np.arange(0, 11, 2)\n",
    "print(\"sequence array: \\n\", sequence_arr)"
   ]
  },
  {
   "cell_type": "markdown",
   "id": "4122eab5",
   "metadata": {},
   "source": [
    "### Vector, Matrix and Tensor"
   ]
  },
  {
   "cell_type": "code",
   "execution_count": null,
   "id": "c19390d5",
   "metadata": {},
   "outputs": [],
   "source": []
  }
 ],
 "metadata": {
  "kernelspec": {
   "display_name": "venv",
   "language": "python",
   "name": "python3"
  },
  "language_info": {
   "codemirror_mode": {
    "name": "ipython",
    "version": 3
   },
   "file_extension": ".py",
   "mimetype": "text/x-python",
   "name": "python",
   "nbconvert_exporter": "python",
   "pygments_lexer": "ipython3",
   "version": "3.12.1"
  }
 },
 "nbformat": 4,
 "nbformat_minor": 5
}
