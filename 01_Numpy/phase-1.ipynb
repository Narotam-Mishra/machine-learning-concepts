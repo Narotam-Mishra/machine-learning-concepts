{
 "cells": [
  {
   "cell_type": "markdown",
   "id": "982c7528",
   "metadata": {},
   "source": [
    "## Numpy array and basics"
   ]
  },
  {
   "cell_type": "code",
   "execution_count": 23,
   "id": "977f524c",
   "metadata": {},
   "outputs": [],
   "source": [
    "import numpy as np"
   ]
  },
  {
   "cell_type": "code",
   "execution_count": 8,
   "id": "185cc04d",
   "metadata": {},
   "outputs": [
    {
     "name": "stdout",
     "output_type": "stream",
     "text": [
      "1D array: [1 2 3 4 5]\n",
      "2D array: [[1 2 3]\n",
      " [4 5 6]]\n"
     ]
    }
   ],
   "source": [
    "arr_1d = np.array([1,2,3,4,5])\n",
    "print(\"1D array:\",arr_1d)\n",
    "\n",
    "arr_2d = np.array([[1,2,3], [4,5,6]])\n",
    "print(\"2D array:\", arr_2d)"
   ]
  },
  {
   "cell_type": "markdown",
   "id": "6be6a14c",
   "metadata": {},
   "source": [
    "### list vs numpy array"
   ]
  },
  {
   "cell_type": "code",
   "execution_count": 12,
   "id": "d66a4633",
   "metadata": {},
   "outputs": [
    {
     "name": "stdout",
     "output_type": "stream",
     "text": [
      "python list multiplication:  [1, 2, 3, 1, 2, 3]\n",
      "python array multiplication:  [2 4 6]\n",
      "\n",
      " List operation time: 0.05039644241333008\n",
      "\n",
      " numpy's array operation time: 0.006536960601806641\n"
     ]
    }
   ],
   "source": [
    "py_list = [1,2,3]\n",
    "print(\"python list multiplication: \", py_list*2)\n",
    "\n",
    "np_arr = np.array([1,2,3]) # element-wise multiplication\n",
    "print(\"python array multiplication: \", np_arr*2)\n",
    "\n",
    "import time\n",
    "start_time = time.time()\n",
    "py_list = [i*2 for i in range(1000000)]\n",
    "print(\"\\n List operation time:\",time.time() - start_time)\n",
    "\n",
    "start = time.time()\n",
    "np_array = np.arange(1000000) * 2\n",
    "print(\"\\n numpy's array operation time:\",time.time() - start)"
   ]
  },
  {
   "cell_type": "markdown",
   "id": "251a11b6",
   "metadata": {},
   "source": [
    "### creating array from scratch"
   ]
  },
  {
   "cell_type": "code",
   "execution_count": 22,
   "id": "5074ff3b",
   "metadata": {},
   "outputs": [
    {
     "name": "stdout",
     "output_type": "stream",
     "text": [
      "zeros array: \n",
      " [[0. 0. 0. 0.]\n",
      " [0. 0. 0. 0.]\n",
      " [0. 0. 0. 0.]]\n",
      "ones array: \n",
      " [[1. 1. 1.]\n",
      " [1. 1. 1.]]\n",
      "full array: \n",
      " [[7 7]\n",
      " [7 7]]\n",
      "random array: \n",
      " [[0.24848074 0.77796777 0.30608983]\n",
      " [0.94688348 0.50933395 0.27867393]\n",
      " [0.46726243 0.07807335 0.93915686]]\n",
      "sequence array: \n",
      " [ 0  2  4  6  8 10]\n"
     ]
    }
   ],
   "source": [
    "zeros = np.zeros((3,4))\n",
    "print(\"zeros array: \\n\", zeros)\n",
    "\n",
    "ones = np.ones((2,3))\n",
    "print(\"ones array: \\n\", ones)\n",
    "\n",
    "full_arr = np.full((2,2), 7)\n",
    "print(\"full array: \\n\", full_arr)\n",
    "\n",
    "random_arr = np.random.random((3,3))\n",
    "print(\"random array: \\n\", random_arr)\n",
    "\n",
    "sequence_arr = np.arange(0, 11, 2)\n",
    "print(\"sequence array: \\n\", sequence_arr)"
   ]
  },
  {
   "cell_type": "markdown",
   "id": "4122eab5",
   "metadata": {},
   "source": [
    "### Vector, Matrix and Tensor"
   ]
  },
  {
   "cell_type": "code",
   "execution_count": 13,
   "id": "c19390d5",
   "metadata": {},
   "outputs": [
    {
     "name": "stdout",
     "output_type": "stream",
     "text": [
      "Vector: [1 2 3]\n",
      "Matrix: [[1 2 3]\n",
      " [4 5 6]]\n",
      "Tensor: [[[1 2]\n",
      "  [3 4]]\n",
      "\n",
      " [[5 6]\n",
      "  [7 8]]]\n"
     ]
    }
   ],
   "source": [
    "vector = np.array([1, 2, 3])\n",
    "print(\"Vector:\", vector)\n",
    "\n",
    "matrix = np.array([[1,2,3],[4,5,6]])\n",
    "print(\"Matrix:\", matrix)\n",
    "\n",
    "tensor = np.array([[[1,2], [3,4]],\n",
    "                   [[5,6], [7,8]]])\n",
    "print(\"Tensor:\", tensor)"
   ]
  },
  {
   "cell_type": "markdown",
   "id": "67179faa",
   "metadata": {},
   "source": [
    "### Array properties"
   ]
  },
  {
   "cell_type": "code",
   "execution_count": 22,
   "id": "274eba07",
   "metadata": {},
   "outputs": [
    {
     "name": "stdout",
     "output_type": "stream",
     "text": [
      "Shape: (2, 3)\n",
      "Dimension: 2\n",
      "Size: 6\n",
      "DataType: int64\n"
     ]
    }
   ],
   "source": [
    "arr = np.array([[1,2,3], [4,5,True]])\n",
    "print(\"Shape:\", arr.shape)\n",
    "print(\"Dimension:\", arr.ndim)\n",
    "print(\"Size:\", arr.size)\n",
    "print(\"DataType:\", arr.dtype)"
   ]
  },
  {
   "cell_type": "markdown",
   "id": "0c26ce56",
   "metadata": {},
   "source": [
    "### Array Reshaping"
   ]
  },
  {
   "cell_type": "code",
   "execution_count": 29,
   "id": "4c1c9dae",
   "metadata": {},
   "outputs": [
    {
     "name": "stdout",
     "output_type": "stream",
     "text": [
      "arr: [ 0  1  2  3  4  5  6  7  8  9 10 11]\n",
      "Reshaped arr: [[ 0  1  2  3]\n",
      " [ 4  5  6  7]\n",
      " [ 8  9 10 11]]\n",
      "Flattened arr: [ 0  1  2  3  4  5  6  7  8  9 10 11]\n",
      "raveled_arr: [ 0  1  2  3  4  5  6  7  8  9 10 11]\n",
      "Reshap's Transpose Matrix: [[ 0  4  8]\n",
      " [ 1  5  9]\n",
      " [ 2  6 10]\n",
      " [ 3  7 11]]\n"
     ]
    }
   ],
   "source": [
    "arr = np.arange(12)\n",
    "print(\"arr:\", arr)\n",
    "\n",
    "reshap_arr = arr.reshape((3,4))\n",
    "print(\"Reshaped arr:\", reshap_arr)\n",
    "\n",
    "flattened = reshap_arr.flatten()\n",
    "print(\"Flattened arr:\", flattened)\n",
    "\n",
    "# ravel (returns view, instead of copy)\n",
    "raveled = reshap_arr.ravel()\n",
    "print(\"raveled_arr:\", raveled)\n",
    "\n",
    "# matrix transpose\n",
    "transpose = reshap_arr.T\n",
    "print(\"Reshap's Transpose Matrix:\", transpose)"
   ]
  },
  {
   "cell_type": "markdown",
   "id": "8d06e68b",
   "metadata": {},
   "source": [
    "### What is NumPy in Python?\n",
    "\n",
    "**NumPy** (Numerical Python) is a **powerful library** in Python used for **numerical computing**. It provides support for:\n",
    "\n",
    "* **Arrays** (especially multi-dimensional arrays)\n",
    "* **Mathematical functions**\n",
    "* **Linear algebra**\n",
    "* **Random number generation**\n",
    "\n",
    "---\n",
    "\n",
    "### Why Do We Use NumPy?\n",
    "\n",
    "1. ✅ **Efficient array operations** (much faster than native Python lists)\n",
    "2. ✅ **Support for multi-dimensional arrays** (matrices, tensors)\n",
    "3. ✅ **Built-in mathematical functions** (like sum, mean, dot product)\n",
    "4. ✅ **Used in data science, machine learning, simulations, etc.**\n",
    "\n",
    "---\n",
    "\n",
    "### Example:\n",
    "\n",
    "```python\n",
    "import numpy as np\n",
    "\n",
    "arr = np.array([1, 2, 3])\n",
    "print(arr * 2)  # Output: [2 4 6]\n",
    "```\n",
    "\n",
    "> This multiplies each element by 2 — a vectorized operation that's fast and simple.\n",
    "\n",
    "---\n",
    "\n",
    "In short, **NumPy is essential for fast and efficient numerical operations in Python.**\n",
    "\n",
    "Note - When elements differ, NumPy chooses the smallest data type that can hold them all.\n",
    "Python’s bool is already a subclass of int (True == 1, False == 0), so no precision is lost by converting a boolean to an integer.\n"
   ]
  }
 ],
 "metadata": {
  "kernelspec": {
   "display_name": "venv",
   "language": "python",
   "name": "python3"
  },
  "language_info": {
   "codemirror_mode": {
    "name": "ipython",
    "version": 3
   },
   "file_extension": ".py",
   "mimetype": "text/x-python",
   "name": "python",
   "nbconvert_exporter": "python",
   "pygments_lexer": "ipython3",
   "version": "3.12.1"
  }
 },
 "nbformat": 4,
 "nbformat_minor": 5
}
