{
 "cells": [
  {
   "cell_type": "markdown",
   "id": "64cf8507",
   "metadata": {},
   "source": [
    "## Storing image in Matrix and converting image in dark mode"
   ]
  },
  {
   "cell_type": "code",
   "execution_count": 2,
   "id": "b0bee9b1",
   "metadata": {},
   "outputs": [],
   "source": [
    "import numpy as np\n",
    "import matplotlib.pyplot as plt"
   ]
  },
  {
   "cell_type": "code",
   "execution_count": 3,
   "id": "e271f507",
   "metadata": {},
   "outputs": [],
   "source": [
    "arr1 = np.array([[1,2,3],[4,5,6]])\n",
    "arr2 = np.random.rand(3,3)\n",
    "arr3 = np.zeros((4,4))"
   ]
  },
  {
   "cell_type": "code",
   "execution_count": 4,
   "id": "748a80a7",
   "metadata": {},
   "outputs": [],
   "source": [
    "np.save('array1.npy', arr1)\n",
    "np.save('array2.npy', arr2)\n",
    "np.save('array3.npy', arr3)"
   ]
  },
  {
   "cell_type": "code",
   "execution_count": null,
   "id": "dbc3efd7",
   "metadata": {},
   "outputs": [],
   "source": [
    "loaded_arr = np.load('./array1.npy')\n",
    "print(\"loaded_arr:\", loaded_arr)"
   ]
  },
  {
   "cell_type": "code",
   "execution_count": null,
   "id": "e4bcca03",
   "metadata": {},
   "outputs": [],
   "source": [
    "try:\n",
    "    logo = np.load('./numpy-logo.npy')\n",
    "\n",
    "    # display\n",
    "    plt.figure(figsize=(10,5))\n",
    "\n",
    "    # this creates a subplot within the current figure\n",
    "    plt.subplot(1,2,1)\n",
    "    plt.imshow(logo)\n",
    "    plt.title(\"Numpy logo\")\n",
    "    plt.grid(False)\n",
    "\n",
    "    dark_logo = 1 - logo\n",
    "    plt.subplot(1,2,2)\n",
    "    plt.imshow(dark_logo)\n",
    "    plt.title(\"Numpy dark logo\")\n",
    "    plt.grid(False)\n",
    "\n",
    "except FileNotFoundError:\n",
    "    print(\"numpy logo file not found!!\")"
   ]
  },
  {
   "cell_type": "markdown",
   "id": "b9ebb12d",
   "metadata": {},
   "source": [
    "In the code `plt.subplot(121)`, this creates a subplot within the current figure using matplotlib's subplot functionality.\n",
    "\n",
    "The three digits `121` break down as follows:\n",
    "- **First digit (1)**: Number of rows in the subplot grid\n",
    "- **Second digit (2)**: Number of columns in the subplot grid  \n",
    "- **Third digit (1)**: Position/index of this specific subplot (1-indexed)\n",
    "\n",
    "So `plt.subplot(121)` creates a subplot grid with 1 row and 2 columns, and selects the first subplot (leftmost position) for plotting.\n",
    "\n",
    "In your code context:\n",
    "```python\n",
    "plt.figure(figsize=(10,5))\n",
    "plt.subplot(121)\n",
    "plt.imshow(logo)\n",
    "```\n",
    "\n",
    "This sets up a figure that's 10 units wide by 5 units tall, then creates a 1×2 grid of subplots and activates the left subplot to display the numpy logo image.\n",
    "\n",
    "If you had additional code like `plt.subplot(122)` afterward, that would activate the second (rightmost) subplot in the same 1×2 grid, allowing you to display something else alongside the logo.\n",
    "\n",
    "The subplot notation can also be written as `plt.subplot(1, 2, 1)` with separate arguments, which is equivalent and sometimes more readable.\n",
    "\n",
    "`plt.grid(False)` turns off the grid lines in the current plot.\n",
    "\n",
    "### [Numpy Fundamentals and usage](https://numpy.org/doc/stable/user/index.html#user)"
   ]
  },
  {
   "cell_type": "markdown",
   "id": "f73d1262",
   "metadata": {},
   "source": []
  }
 ],
 "metadata": {
  "kernelspec": {
   "display_name": "venv",
   "language": "python",
   "name": "python3"
  },
  "language_info": {
   "codemirror_mode": {
    "name": "ipython",
    "version": 3
   },
   "file_extension": ".py",
   "mimetype": "text/x-python",
   "name": "python",
   "nbconvert_exporter": "python",
   "pygments_lexer": "ipython3",
   "version": "3.12.1"
  }
 },
 "nbformat": 4,
 "nbformat_minor": 5
}
